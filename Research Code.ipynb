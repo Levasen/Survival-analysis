{
 "cells": [
  {
   "cell_type": "code",
   "execution_count": 332,
   "id": "73b1881f",
   "metadata": {},
   "outputs": [],
   "source": [
    "import pandas as pd\n",
    "import numpy as np\n",
    "import matplotlib.pyplot as plt\n",
    "import seaborn as sns\n",
    "import statistics\n",
    "from sklearn.impute import SimpleImputer\n",
    "from lifelines import KaplanMeierFitter, CoxPHFitter\n",
    "from lifelines.statistics import logrank_test\n",
    "from scipy import stats\n",
    "import math\n",
    "import sklearn"
   ]
  },
  {
   "cell_type": "code",
   "execution_count": 333,
   "id": "89bcf616",
   "metadata": {
    "scrolled": true
   },
   "outputs": [],
   "source": [
    "vk = pd.read_csv(\"VK.csv\")\n"
   ]
  },
  {
   "cell_type": "code",
   "execution_count": 334,
   "id": "a6248c17",
   "metadata": {},
   "outputs": [
    {
     "name": "stderr",
     "output_type": "stream",
     "text": [
      "C:\\Users\\levas\\AppData\\Local\\Temp\\ipykernel_19412\\1863469616.py:4: FutureWarning: The default value of regex will change from True to False in a future version.\n",
      "  vk['Score'] = vk['Score'].str.replace(r\"[\\*]\",'')\n"
     ]
    }
   ],
   "source": [
    "vk = vk.drop(vk[vk.Score == \"DNB\"].index)\n",
    "vk = vk.drop(vk[vk.Score == \"TDNB\"].index)\n",
    "vk = vk.drop(vk[vk.Start == \"NaN\"].index)\n",
    "vk['Score'] = vk['Score'].str.replace(r\"[\\*]\",'')"
   ]
  },
  {
   "cell_type": "code",
   "execution_count": null,
   "id": "56c74f99",
   "metadata": {},
   "outputs": [],
   "source": []
  },
  {
   "cell_type": "code",
   "execution_count": 335,
   "id": "0039089a",
   "metadata": {},
   "outputs": [],
   "source": [
    "af = pd.read_csv(\"AF_new.csv\")\n"
   ]
  },
  {
   "cell_type": "code",
   "execution_count": 336,
   "id": "e57b0521",
   "metadata": {},
   "outputs": [
    {
     "data": {
      "text/html": [
       "<div>\n",
       "<style scoped>\n",
       "    .dataframe tbody tr th:only-of-type {\n",
       "        vertical-align: middle;\n",
       "    }\n",
       "\n",
       "    .dataframe tbody tr th {\n",
       "        vertical-align: top;\n",
       "    }\n",
       "\n",
       "    .dataframe thead th {\n",
       "        text-align: right;\n",
       "    }\n",
       "</style>\n",
       "<table border=\"1\" class=\"dataframe\">\n",
       "  <thead>\n",
       "    <tr style=\"text-align: right;\">\n",
       "      <th></th>\n",
       "      <th>R</th>\n",
       "      <th>mins</th>\n",
       "      <th>bf</th>\n",
       "      <th>4s</th>\n",
       "      <th>6s</th>\n",
       "      <th>Strike rate</th>\n",
       "      <th>p</th>\n",
       "      <th>Mode of dissmisal</th>\n",
       "      <th>Alive</th>\n",
       "      <th>Start</th>\n",
       "      <th>Opposition</th>\n",
       "      <th>Venue</th>\n",
       "      <th>Date</th>\n",
       "      <th>Match  no.</th>\n",
       "    </tr>\n",
       "  </thead>\n",
       "  <tbody>\n",
       "    <tr>\n",
       "      <th>0</th>\n",
       "      <td>15*</td>\n",
       "      <td>21</td>\n",
       "      <td>14</td>\n",
       "      <td>1</td>\n",
       "      <td>0</td>\n",
       "      <td>107.14</td>\n",
       "      <td>5</td>\n",
       "      <td>not out</td>\n",
       "      <td>1</td>\n",
       "      <td>1</td>\n",
       "      <td>v England</td>\n",
       "      <td>Adelaide</td>\n",
       "      <td>40555</td>\n",
       "      <td>T20I # 197</td>\n",
       "    </tr>\n",
       "    <tr>\n",
       "      <th>1</th>\n",
       "      <td>53*</td>\n",
       "      <td>35</td>\n",
       "      <td>33</td>\n",
       "      <td>4</td>\n",
       "      <td>2</td>\n",
       "      <td>160.60</td>\n",
       "      <td>6</td>\n",
       "      <td>not out</td>\n",
       "      <td>1</td>\n",
       "      <td>1</td>\n",
       "      <td>v England</td>\n",
       "      <td>Melbourne</td>\n",
       "      <td>40557</td>\n",
       "      <td>T20I # 198</td>\n",
       "    </tr>\n",
       "    <tr>\n",
       "      <th>2</th>\n",
       "      <td>36</td>\n",
       "      <td>33</td>\n",
       "      <td>23</td>\n",
       "      <td>6</td>\n",
       "      <td>0</td>\n",
       "      <td>156.52</td>\n",
       "      <td>2</td>\n",
       "      <td>run out</td>\n",
       "      <td>0</td>\n",
       "      <td>1</td>\n",
       "      <td>v India</td>\n",
       "      <td>Melbourne</td>\n",
       "      <td>40942</td>\n",
       "      <td>T20I # 218</td>\n",
       "    </tr>\n",
       "    <tr>\n",
       "      <th>3</th>\n",
       "      <td>1</td>\n",
       "      <td>8</td>\n",
       "      <td>3</td>\n",
       "      <td>0</td>\n",
       "      <td>0</td>\n",
       "      <td>33.33</td>\n",
       "      <td>2</td>\n",
       "      <td>caught</td>\n",
       "      <td>0</td>\n",
       "      <td>1</td>\n",
       "      <td>v Sri Lanka</td>\n",
       "      <td>Sydney</td>\n",
       "      <td>41300</td>\n",
       "      <td>T20I # 299</td>\n",
       "    </tr>\n",
       "    <tr>\n",
       "      <th>4</th>\n",
       "      <td>7</td>\n",
       "      <td>17</td>\n",
       "      <td>6</td>\n",
       "      <td>1</td>\n",
       "      <td>0</td>\n",
       "      <td>116.66</td>\n",
       "      <td>1</td>\n",
       "      <td>lbw</td>\n",
       "      <td>0</td>\n",
       "      <td>2</td>\n",
       "      <td>v Sri Lanka</td>\n",
       "      <td>Melbourne</td>\n",
       "      <td>41302</td>\n",
       "      <td>T20I # 300</td>\n",
       "    </tr>\n",
       "    <tr>\n",
       "      <th>...</th>\n",
       "      <td>...</td>\n",
       "      <td>...</td>\n",
       "      <td>...</td>\n",
       "      <td>...</td>\n",
       "      <td>...</td>\n",
       "      <td>...</td>\n",
       "      <td>...</td>\n",
       "      <td>...</td>\n",
       "      <td>...</td>\n",
       "      <td>...</td>\n",
       "      <td>...</td>\n",
       "      <td>...</td>\n",
       "      <td>...</td>\n",
       "      <td>...</td>\n",
       "    </tr>\n",
       "    <tr>\n",
       "      <th>87</th>\n",
       "      <td>8</td>\n",
       "      <td>14</td>\n",
       "      <td>12</td>\n",
       "      <td>0</td>\n",
       "      <td>0</td>\n",
       "      <td>66.66</td>\n",
       "      <td>1</td>\n",
       "      <td>caught</td>\n",
       "      <td>0</td>\n",
       "      <td>1</td>\n",
       "      <td>v Sri Lanka</td>\n",
       "      <td>Melbourne</td>\n",
       "      <td>44612</td>\n",
       "      <td>T20I # 1478</td>\n",
       "    </tr>\n",
       "    <tr>\n",
       "      <th>88</th>\n",
       "      <td>55</td>\n",
       "      <td>84</td>\n",
       "      <td>45</td>\n",
       "      <td>6</td>\n",
       "      <td>0</td>\n",
       "      <td>122.22</td>\n",
       "      <td>2</td>\n",
       "      <td>caught</td>\n",
       "      <td>0</td>\n",
       "      <td>2</td>\n",
       "      <td>v Pakistan</td>\n",
       "      <td>Lahore</td>\n",
       "      <td>44656</td>\n",
       "      <td>T20I # 1504</td>\n",
       "    </tr>\n",
       "    <tr>\n",
       "      <th>89</th>\n",
       "      <td>61*</td>\n",
       "      <td>76</td>\n",
       "      <td>40</td>\n",
       "      <td>4</td>\n",
       "      <td>4</td>\n",
       "      <td>152.50</td>\n",
       "      <td>1</td>\n",
       "      <td>not out</td>\n",
       "      <td>1</td>\n",
       "      <td>2</td>\n",
       "      <td>v Sri Lanka</td>\n",
       "      <td>Colombo (RPS)</td>\n",
       "      <td>44719</td>\n",
       "      <td>T20I # 1551</td>\n",
       "    </tr>\n",
       "    <tr>\n",
       "      <th>90</th>\n",
       "      <td>24</td>\n",
       "      <td>16</td>\n",
       "      <td>13</td>\n",
       "      <td>4</td>\n",
       "      <td>0</td>\n",
       "      <td>184.61</td>\n",
       "      <td>1</td>\n",
       "      <td>caught</td>\n",
       "      <td>0</td>\n",
       "      <td>2</td>\n",
       "      <td>v Sri Lanka</td>\n",
       "      <td>Colombo (RPS)</td>\n",
       "      <td>44720</td>\n",
       "      <td>T20I # 1552</td>\n",
       "    </tr>\n",
       "    <tr>\n",
       "      <th>91</th>\n",
       "      <td>29</td>\n",
       "      <td>29</td>\n",
       "      <td>20</td>\n",
       "      <td>5</td>\n",
       "      <td>0</td>\n",
       "      <td>145.00</td>\n",
       "      <td>2</td>\n",
       "      <td>bowled</td>\n",
       "      <td>0</td>\n",
       "      <td>1</td>\n",
       "      <td>v Sri Lanka</td>\n",
       "      <td>Pallekele</td>\n",
       "      <td>44723</td>\n",
       "      <td>T20I # 1564</td>\n",
       "    </tr>\n",
       "  </tbody>\n",
       "</table>\n",
       "<p>92 rows × 14 columns</p>\n",
       "</div>"
      ],
      "text/plain": [
       "      R mins   bf  4s  6s  Strike rate   p Mode of dissmisal   Alive  Start  \\\n",
       "0   15*    21  14   1   0        107.14  5            not out      1      1   \n",
       "1   53*    35  33   4   2        160.60  6            not out      1      1   \n",
       "2    36    33  23   6   0        156.52  2            run out      0      1   \n",
       "3     1     8   3   0   0         33.33  2             caught      0      1   \n",
       "4     7    17   6   1   0        116.66  1                lbw      0      2   \n",
       "..  ...   ...  ..  ..  ..           ... ..                ...    ...    ...   \n",
       "87    8    14  12   0   0         66.66  1             caught      0      1   \n",
       "88   55    84  45   6   0        122.22  2             caught      0      2   \n",
       "89  61*    76  40   4   4        152.50  1            not out      1      2   \n",
       "90   24    16  13   4   0        184.61  1             caught      0      2   \n",
       "91   29    29  20   5   0        145.00  2             bowled      0      1   \n",
       "\n",
       "    Opposition          Venue   Date    Match  no.  \n",
       "0     v England       Adelaide  40555   T20I # 197  \n",
       "1     v England      Melbourne  40557   T20I # 198  \n",
       "2       v India      Melbourne  40942   T20I # 218  \n",
       "3   v Sri Lanka         Sydney  41300   T20I # 299  \n",
       "4   v Sri Lanka      Melbourne  41302   T20I # 300  \n",
       "..          ...            ...    ...          ...  \n",
       "87  v Sri Lanka      Melbourne  44612  T20I # 1478  \n",
       "88   v Pakistan         Lahore  44656  T20I # 1504  \n",
       "89  v Sri Lanka  Colombo (RPS)  44719  T20I # 1551  \n",
       "90  v Sri Lanka  Colombo (RPS)  44720  T20I # 1552  \n",
       "91  v Sri Lanka      Pallekele  44723  T20I # 1564  \n",
       "\n",
       "[92 rows x 14 columns]"
      ]
     },
     "execution_count": 336,
     "metadata": {},
     "output_type": "execute_result"
    }
   ],
   "source": [
    "af"
   ]
  },
  {
   "cell_type": "code",
   "execution_count": 337,
   "id": "78d396fa",
   "metadata": {
    "scrolled": false
   },
   "outputs": [
    {
     "name": "stderr",
     "output_type": "stream",
     "text": [
      "C:\\Users\\levas\\AppData\\Local\\Temp\\ipykernel_19412\\449556801.py:4: FutureWarning: The default value of regex will change from True to False in a future version.\n",
      "  af['R'] = af['R'].str.replace(r\"[\\*]\",'')\n"
     ]
    }
   ],
   "source": [
    "af = af.drop(af[af.R == \"DNB\"].index)\n",
    "af = af.drop(af[af.R == \"TDNB\"].index)\n",
    "af = af.drop(af[af.R == \"NaN\"].index)\n",
    "af['R'] = af['R'].str.replace(r\"[\\*]\",'')"
   ]
  },
  {
   "cell_type": "code",
   "execution_count": 338,
   "id": "d71bcf07",
   "metadata": {},
   "outputs": [],
   "source": [
    "ba = pd.read_csv(\"BA.csv\")\n"
   ]
  },
  {
   "cell_type": "code",
   "execution_count": 339,
   "id": "dff6bacd",
   "metadata": {
    "scrolled": true
   },
   "outputs": [
    {
     "name": "stderr",
     "output_type": "stream",
     "text": [
      "C:\\Users\\levas\\AppData\\Local\\Temp\\ipykernel_19412\\4025628725.py:4: FutureWarning: The default value of regex will change from True to False in a future version.\n",
      "  ba['Score'] = ba['Score'].str.replace(r\"[\\*]\",'')\n"
     ]
    }
   ],
   "source": [
    "ba = ba.drop(ba[ba.Score == \"DNB\"].index)\n",
    "ba = ba.drop(ba[ba.Score == \"TDNB\"].index)\n",
    "ba = ba.drop(ba[ba.Inn == \"NaN\"].index)\n",
    "ba['Score'] = ba['Score'].str.replace(r\"[\\*]\",'')"
   ]
  },
  {
   "cell_type": "code",
   "execution_count": 340,
   "id": "72a52efc",
   "metadata": {},
   "outputs": [],
   "source": [
    "dc = pd.read_csv(\"DC.csv\")\n"
   ]
  },
  {
   "cell_type": "code",
   "execution_count": 341,
   "id": "70fa46d2",
   "metadata": {
    "scrolled": true
   },
   "outputs": [
    {
     "name": "stderr",
     "output_type": "stream",
     "text": [
      "C:\\Users\\levas\\AppData\\Local\\Temp\\ipykernel_19412\\1776129273.py:5: FutureWarning: The default value of regex will change from True to False in a future version.\n",
      "  dc['Score'] = dc['Score'].str.replace(r\"[\\*]\",'')\n"
     ]
    }
   ],
   "source": [
    "dc = dc.iloc[:68]\n",
    "dc = dc.drop(dc[dc.Score == \"DNB\"].index)\n",
    "dc = dc.drop(dc[dc.Score == \"TDNB\"].index)\n",
    "dc = dc.drop(dc[dc.Start == \"NaN\"].index)\n",
    "dc['Score'] = dc['Score'].str.replace(r\"[\\*]\",'')\n"
   ]
  },
  {
   "cell_type": "code",
   "execution_count": 342,
   "id": "0104ef3a",
   "metadata": {},
   "outputs": [],
   "source": [
    "jb = pd.read_csv(\"JB.csv\")\n"
   ]
  },
  {
   "cell_type": "code",
   "execution_count": 343,
   "id": "86708c5c",
   "metadata": {},
   "outputs": [
    {
     "name": "stderr",
     "output_type": "stream",
     "text": [
      "C:\\Users\\levas\\AppData\\Local\\Temp\\ipykernel_19412\\4165948907.py:4: FutureWarning: The default value of regex will change from True to False in a future version.\n",
      "  jb['Score'] = jb['Score'].str.replace(r\"[\\*]\",'')\n"
     ]
    }
   ],
   "source": [
    "jb = jb.drop(jb[jb.Score == \"DNB\"].index)\n",
    "jb = jb.drop(jb[jb.Score == \"TDNB\"].index)\n",
    "jb = jb.drop(jb[jb.Start == \"NaN\"].index)\n",
    "jb['Score'] = jb['Score'].str.replace(r\"[\\*]\",'')\n",
    "# jb"
   ]
  },
  {
   "cell_type": "code",
   "execution_count": 344,
   "id": "c586f0f6",
   "metadata": {},
   "outputs": [],
   "source": [
    "kw = pd.read_csv(\"KW.csv\")"
   ]
  },
  {
   "cell_type": "code",
   "execution_count": 345,
   "id": "a9031fae",
   "metadata": {},
   "outputs": [
    {
     "name": "stderr",
     "output_type": "stream",
     "text": [
      "C:\\Users\\levas\\AppData\\Local\\Temp\\ipykernel_19412\\2476273272.py:5: FutureWarning: The default value of regex will change from True to False in a future version.\n",
      "  kw['Score'] = kw['Score'].str.replace(r\"[\\*]\",'')\n"
     ]
    }
   ],
   "source": [
    "kw = kw.iloc[:74]\n",
    "kw = kw.drop(kw[kw.Score == \"DNB\"].index)\n",
    "kw = kw.drop(kw[kw.Score == \"TDNB\"].index)\n",
    "kw = kw.drop(kw[kw.Start == \"NaN\"].index)\n",
    "kw['Score'] = kw['Score'].str.replace(r\"[\\*]\",'')\n",
    "# kw"
   ]
  },
  {
   "cell_type": "code",
   "execution_count": 346,
   "id": "7c767214",
   "metadata": {},
   "outputs": [],
   "source": [
    "nicp = pd.read_csv(\"NP.csv\")\n"
   ]
  },
  {
   "cell_type": "code",
   "execution_count": 347,
   "id": "31b30000",
   "metadata": {},
   "outputs": [
    {
     "name": "stderr",
     "output_type": "stream",
     "text": [
      "C:\\Users\\levas\\AppData\\Local\\Temp\\ipykernel_19412\\1291672583.py:4: FutureWarning: The default value of regex will change from True to False in a future version.\n",
      "  nicp['Score'] = nicp['Score'].str.replace(r\"[\\*]\",'')\n"
     ]
    }
   ],
   "source": [
    "nicp = nicp.drop(nicp[nicp.Score == \"DNB\"].index)\n",
    "nicp = nicp.drop(nicp[nicp.Score == \"TDNB\"].index)\n",
    "nicp = nicp.drop(nicp[nicp.Start == \"NaN\"].index)\n",
    "nicp['Score'] = nicp['Score'].str.replace(r\"[\\*]\",'')\n",
    "# nicp"
   ]
  },
  {
   "cell_type": "code",
   "execution_count": 348,
   "id": "92b96a78",
   "metadata": {},
   "outputs": [],
   "source": [
    "qdk = pd.read_csv(\"QDK.csv\")\n"
   ]
  },
  {
   "cell_type": "code",
   "execution_count": 349,
   "id": "acc7c261",
   "metadata": {},
   "outputs": [
    {
     "name": "stderr",
     "output_type": "stream",
     "text": [
      "C:\\Users\\levas\\AppData\\Local\\Temp\\ipykernel_19412\\280942862.py:4: FutureWarning: The default value of regex will change from True to False in a future version.\n",
      "  qdk['Score'] = qdk['Score'].str.replace(r\"[\\*]\",'')\n"
     ]
    }
   ],
   "source": [
    "qdk = qdk.drop(qdk[qdk.Score == \"DNB\"].index)\n",
    "qdk = qdk.drop(qdk[qdk.Score == \"TDNB\"].index)\n",
    "qdk = qdk.drop(qdk[qdk.Start == \"NaN\"].index)\n",
    "qdk['Score'] = qdk['Score'].str.replace(r\"[\\*]\",'')\n",
    "# qdk"
   ]
  },
  {
   "cell_type": "code",
   "execution_count": 350,
   "id": "39492c1f",
   "metadata": {},
   "outputs": [],
   "source": [
    "sah = pd.read_csv(\"SAh.csv\")\n",
    "\n"
   ]
  },
  {
   "cell_type": "code",
   "execution_count": 351,
   "id": "ffdc084e",
   "metadata": {
    "scrolled": true
   },
   "outputs": [
    {
     "name": "stderr",
     "output_type": "stream",
     "text": [
      "C:\\Users\\levas\\AppData\\Local\\Temp\\ipykernel_19412\\4162095342.py:4: FutureWarning: The default value of regex will change from True to False in a future version.\n",
      "  sah['Score'] = sah['Score'].str.replace(r\"[\\*]\",'')\n"
     ]
    }
   ],
   "source": [
    "sah = sah.drop(sah[sah.Score == \"DNB\"].index)\n",
    "sah = sah.drop(sah[sah.Score == \"TDNB\"].index)\n",
    "sah = sah.drop(sah[sah.Start == \"NaN\"].index)\n",
    "sah['Score'] = sah['Score'].str.replace(r\"[\\*]\",'')"
   ]
  },
  {
   "cell_type": "code",
   "execution_count": 352,
   "id": "b485a3a1",
   "metadata": {},
   "outputs": [],
   "source": [
    "mn = pd.read_csv(\"MN.csv\")"
   ]
  },
  {
   "cell_type": "code",
   "execution_count": 353,
   "id": "c3a27290",
   "metadata": {},
   "outputs": [
    {
     "name": "stderr",
     "output_type": "stream",
     "text": [
      "C:\\Users\\levas\\AppData\\Local\\Temp\\ipykernel_19412\\3933266722.py:4: FutureWarning: The default value of regex will change from True to False in a future version.\n",
      "  mn['Runs'] = mn['Runs'].str.replace(r\"[\\*]\",'')\n"
     ]
    }
   ],
   "source": [
    "mn = mn.drop(mn[mn.Runs == \"DNB\"].index)\n",
    "mn = mn.drop(mn[mn.Runs == \"TDNB\"].index)\n",
    "mn = mn.drop(mn[mn.Inns == \"NaN\"].index)\n",
    "mn['Runs'] = mn['Runs'].str.replace(r\"[\\*]\",'')\n",
    "# qdk"
   ]
  },
  {
   "cell_type": "code",
   "execution_count": 354,
   "id": "b6a9f297",
   "metadata": {},
   "outputs": [
    {
     "data": {
      "text/html": [
       "<div>\n",
       "<style scoped>\n",
       "    .dataframe tbody tr th:only-of-type {\n",
       "        vertical-align: middle;\n",
       "    }\n",
       "\n",
       "    .dataframe tbody tr th {\n",
       "        vertical-align: top;\n",
       "    }\n",
       "\n",
       "    .dataframe thead th {\n",
       "        text-align: right;\n",
       "    }\n",
       "</style>\n",
       "<table border=\"1\" class=\"dataframe\">\n",
       "  <thead>\n",
       "    <tr style=\"text-align: right;\">\n",
       "      <th></th>\n",
       "      <th>Runs</th>\n",
       "      <th>Mins</th>\n",
       "      <th>BF</th>\n",
       "      <th>4s</th>\n",
       "      <th>6s</th>\n",
       "      <th>SR</th>\n",
       "      <th>Pos</th>\n",
       "      <th>Dismissal</th>\n",
       "      <th>Inns</th>\n",
       "      <th>Alive</th>\n",
       "      <th>Opposition</th>\n",
       "      <th>Ground</th>\n",
       "      <th>Start Date</th>\n",
       "      <th>Match no</th>\n",
       "    </tr>\n",
       "  </thead>\n",
       "  <tbody>\n",
       "    <tr>\n",
       "      <th>0</th>\n",
       "      <td>2</td>\n",
       "      <td>6</td>\n",
       "      <td>5</td>\n",
       "      <td>0</td>\n",
       "      <td>0</td>\n",
       "      <td>40</td>\n",
       "      <td>7</td>\n",
       "      <td>caught</td>\n",
       "      <td>1</td>\n",
       "      <td>0</td>\n",
       "      <td>v Ireland</td>\n",
       "      <td>Colombo (PSS)</td>\n",
       "      <td>1-Feb-10</td>\n",
       "      <td>T20I # 128</td>\n",
       "    </tr>\n",
       "    <tr>\n",
       "      <th>1</th>\n",
       "      <td>23</td>\n",
       "      <td>15</td>\n",
       "      <td>12</td>\n",
       "      <td>3</td>\n",
       "      <td>0</td>\n",
       "      <td>191.66</td>\n",
       "      <td>6</td>\n",
       "      <td>caught</td>\n",
       "      <td>2</td>\n",
       "      <td>1</td>\n",
       "      <td>v Canada</td>\n",
       "      <td>Colombo (SSC)</td>\n",
       "      <td>4-Feb-10</td>\n",
       "      <td>T20I # 132</td>\n",
       "    </tr>\n",
       "    <tr>\n",
       "      <th>2</th>\n",
       "      <td>43</td>\n",
       "      <td>31</td>\n",
       "      <td>25</td>\n",
       "      <td>3</td>\n",
       "      <td>2</td>\n",
       "      <td>172</td>\n",
       "      <td>6</td>\n",
       "      <td>not out</td>\n",
       "      <td>1</td>\n",
       "      <td>1</td>\n",
       "      <td>v Ireland</td>\n",
       "      <td>Dubai (DSC)</td>\n",
       "      <td>9-Feb-10</td>\n",
       "      <td>T20I # 135</td>\n",
       "    </tr>\n",
       "    <tr>\n",
       "      <th>3</th>\n",
       "      <td>0</td>\n",
       "      <td>3</td>\n",
       "      <td>1</td>\n",
       "      <td>0</td>\n",
       "      <td>0</td>\n",
       "      <td>0</td>\n",
       "      <td>6</td>\n",
       "      <td>caught</td>\n",
       "      <td>1</td>\n",
       "      <td>1</td>\n",
       "      <td>v Scotland</td>\n",
       "      <td>Abu Dhabi</td>\n",
       "      <td>10-Feb-10</td>\n",
       "      <td>T20I # 137</td>\n",
       "    </tr>\n",
       "    <tr>\n",
       "      <th>4</th>\n",
       "      <td>1</td>\n",
       "      <td>4</td>\n",
       "      <td>3</td>\n",
       "      <td>0</td>\n",
       "      <td>0</td>\n",
       "      <td>33.33</td>\n",
       "      <td>4</td>\n",
       "      <td>caught</td>\n",
       "      <td>1</td>\n",
       "      <td>1</td>\n",
       "      <td>v Netherlands</td>\n",
       "      <td>Dubai (DSC)</td>\n",
       "      <td>12-Feb-10</td>\n",
       "      <td>T20I # 141</td>\n",
       "    </tr>\n",
       "    <tr>\n",
       "      <th>...</th>\n",
       "      <td>...</td>\n",
       "      <td>...</td>\n",
       "      <td>...</td>\n",
       "      <td>...</td>\n",
       "      <td>...</td>\n",
       "      <td>...</td>\n",
       "      <td>...</td>\n",
       "      <td>...</td>\n",
       "      <td>...</td>\n",
       "      <td>...</td>\n",
       "      <td>...</td>\n",
       "      <td>...</td>\n",
       "      <td>...</td>\n",
       "      <td>...</td>\n",
       "    </tr>\n",
       "    <tr>\n",
       "      <th>85</th>\n",
       "      <td>14</td>\n",
       "      <td>35</td>\n",
       "      <td>20</td>\n",
       "      <td>0</td>\n",
       "      <td>0</td>\n",
       "      <td>70</td>\n",
       "      <td>6</td>\n",
       "      <td>caught</td>\n",
       "      <td>1</td>\n",
       "      <td>1</td>\n",
       "      <td>v New Zealand</td>\n",
       "      <td>Abu Dhabi</td>\n",
       "      <td>7-Nov-21</td>\n",
       "      <td>T20I # 1402</td>\n",
       "    </tr>\n",
       "    <tr>\n",
       "      <th>86</th>\n",
       "      <td>16</td>\n",
       "      <td>28</td>\n",
       "      <td>19</td>\n",
       "      <td>2</td>\n",
       "      <td>0</td>\n",
       "      <td>84.21</td>\n",
       "      <td>6</td>\n",
       "      <td>caught</td>\n",
       "      <td>2</td>\n",
       "      <td>1</td>\n",
       "      <td>v Bangladesh</td>\n",
       "      <td>Mirpur</td>\n",
       "      <td>3-Mar-22</td>\n",
       "      <td>T20I # 1495</td>\n",
       "    </tr>\n",
       "    <tr>\n",
       "      <th>88</th>\n",
       "      <td>15</td>\n",
       "      <td>12</td>\n",
       "      <td>8</td>\n",
       "      <td>3</td>\n",
       "      <td>0</td>\n",
       "      <td>187.5</td>\n",
       "      <td>6</td>\n",
       "      <td>not out</td>\n",
       "      <td>2</td>\n",
       "      <td>1</td>\n",
       "      <td>v Zimbabwe</td>\n",
       "      <td>Harare</td>\n",
       "      <td>11-Jun-22</td>\n",
       "      <td>T20I # 1561</td>\n",
       "    </tr>\n",
       "    <tr>\n",
       "      <th>89</th>\n",
       "      <td>43</td>\n",
       "      <td>39</td>\n",
       "      <td>22</td>\n",
       "      <td>1</td>\n",
       "      <td>4</td>\n",
       "      <td>195.45</td>\n",
       "      <td>7</td>\n",
       "      <td>not out</td>\n",
       "      <td>1</td>\n",
       "      <td>1</td>\n",
       "      <td>v Zimbabwe</td>\n",
       "      <td>Harare</td>\n",
       "      <td>12-Jun-22</td>\n",
       "      <td>T20I # 1568</td>\n",
       "    </tr>\n",
       "    <tr>\n",
       "      <th>90</th>\n",
       "      <td>31</td>\n",
       "      <td>44</td>\n",
       "      <td>30</td>\n",
       "      <td>2</td>\n",
       "      <td>0</td>\n",
       "      <td>103.33</td>\n",
       "      <td>6</td>\n",
       "      <td>caught</td>\n",
       "      <td>1</td>\n",
       "      <td>1</td>\n",
       "      <td>v Zimbabwe</td>\n",
       "      <td>Harare</td>\n",
       "      <td>14-Jun-22</td>\n",
       "      <td>T20I # 1570</td>\n",
       "    </tr>\n",
       "  </tbody>\n",
       "</table>\n",
       "<p>84 rows × 14 columns</p>\n",
       "</div>"
      ],
      "text/plain": [
       "   Runs Mins  BF 4s 6s      SR Pos Dismissal  Inns  Alive     Opposition  \\\n",
       "0     2    6   5  0  0      40   7    caught     1      0      v Ireland   \n",
       "1    23   15  12  3  0  191.66   6    caught     2      1       v Canada   \n",
       "2    43   31  25  3  2     172   6   not out     1      1      v Ireland   \n",
       "3     0    3   1  0  0       0   6    caught     1      1     v Scotland   \n",
       "4     1    4   3  0  0   33.33   4    caught     1      1  v Netherlands   \n",
       "..  ...  ...  .. .. ..     ...  ..       ...   ...    ...            ...   \n",
       "85   14   35  20  0  0      70   6    caught     1      1  v New Zealand   \n",
       "86   16   28  19  2  0   84.21   6    caught     2      1   v Bangladesh   \n",
       "88   15   12   8  3  0   187.5   6   not out     2      1     v Zimbabwe   \n",
       "89   43   39  22  1  4  195.45   7   not out     1      1     v Zimbabwe   \n",
       "90   31   44  30  2  0  103.33   6    caught     1      1     v Zimbabwe   \n",
       "\n",
       "           Ground Start Date     Match no  \n",
       "0   Colombo (PSS)   1-Feb-10   T20I # 128  \n",
       "1   Colombo (SSC)   4-Feb-10   T20I # 132  \n",
       "2     Dubai (DSC)   9-Feb-10   T20I # 135  \n",
       "3       Abu Dhabi  10-Feb-10   T20I # 137  \n",
       "4     Dubai (DSC)  12-Feb-10   T20I # 141  \n",
       "..            ...        ...          ...  \n",
       "85      Abu Dhabi   7-Nov-21  T20I # 1402  \n",
       "86         Mirpur   3-Mar-22  T20I # 1495  \n",
       "88         Harare  11-Jun-22  T20I # 1561  \n",
       "89         Harare  12-Jun-22  T20I # 1568  \n",
       "90         Harare  14-Jun-22  T20I # 1570  \n",
       "\n",
       "[84 rows x 14 columns]"
      ]
     },
     "execution_count": 354,
     "metadata": {},
     "output_type": "execute_result"
    }
   ],
   "source": [
    "mn"
   ]
  },
  {
   "cell_type": "markdown",
   "id": "5d444a90",
   "metadata": {},
   "source": [
    "# Normal Survival Curve"
   ]
  },
  {
   "cell_type": "code",
   "execution_count": 355,
   "id": "3a744ef9",
   "metadata": {},
   "outputs": [],
   "source": [
    "kmf = KaplanMeierFitter()"
   ]
  },
  {
   "cell_type": "code",
   "execution_count": null,
   "id": "9ed6ffee",
   "metadata": {},
   "outputs": [],
   "source": []
  },
  {
   "cell_type": "markdown",
   "id": "45d99fc8",
   "metadata": {},
   "source": [
    "# Data "
   ]
  },
  {
   "cell_type": "code",
   "execution_count": 357,
   "id": "d8eab1f1",
   "metadata": {},
   "outputs": [
    {
     "name": "stdout",
     "output_type": "stream",
     "text": [
      "        Player name Initials       Country\n",
      "0       Virat Kohli       VK         India\n",
      "1        Babar Azam       BA      Pakistan\n",
      "2  Dinesh Chandimal       DC     Sri lanka\n",
      "3       Jos Buttler       JB       England\n",
      "4   Kane Williamson       KW   New Zealand\n",
      "5   Nicholas Pooran       NP   West Indies\n",
      "6   Quinton de Kock      QDK  South Africa\n",
      "7   Shakib al Hasan      SAH    Bangladesh\n",
      "8       Aaron Finch       AF     Australia\n"
     ]
    }
   ],
   "source": [
    "data = {'Player name':['Virat Kohli','Babar Azam','Dinesh Chandimal','Jos Buttler','Kane Williamson','Nicholas Pooran','Quinton de Kock','Shakib al Hasan','Aaron Finch'],\n",
    "        'Initials':['VK','BA','DC','JB','KW','NP','QDK','SAH','AF'],\n",
    "        'Country':['India','Pakistan','Sri lanka','England','New Zealand','West Indies','South Africa','Bangladesh','Australia']\n",
    "       }\n",
    "df = pd.DataFrame(data)\n",
    "\n",
    "print(df)"
   ]
  },
  {
   "cell_type": "code",
   "execution_count": null,
   "id": "b03db666",
   "metadata": {},
   "outputs": [],
   "source": [
    "ax = plt.subplot(111)\n",
    "\n",
    "kmf.fit(af['R'],event_observed = af['Alive'], label=['Aaron Finch'])\n",
    "kmf.survival_function_.plot(ax=ax)\n",
    "# # kmf.plot_survival_function()"
   ]
  },
  {
   "cell_type": "code",
   "execution_count": 446,
   "id": "c1a175e5",
   "metadata": {
    "scrolled": true
   },
   "outputs": [
    {
     "name": "stderr",
     "output_type": "stream",
     "text": [
      "C:\\Users\\levas\\anaconda3\\lib\\site-packages\\lifelines\\utils\\__init__.py:1187: UserWarning: Attempting to convert an unexpected datatype 'object' to float. Suggestion: 1) use `lifelines.utils.datetimes_to_durations` to do conversions or 2) manually convert to floats/booleans.\n",
      "  warnings.warn(warning_text, UserWarning)\n",
      "C:\\Users\\levas\\anaconda3\\lib\\site-packages\\lifelines\\utils\\__init__.py:1187: UserWarning: Attempting to convert an unexpected datatype 'object' to float. Suggestion: 1) use `lifelines.utils.datetimes_to_durations` to do conversions or 2) manually convert to floats/booleans.\n",
      "  warnings.warn(warning_text, UserWarning)\n",
      "C:\\Users\\levas\\anaconda3\\lib\\site-packages\\lifelines\\utils\\__init__.py:1187: UserWarning: Attempting to convert an unexpected datatype 'object' to float. Suggestion: 1) use `lifelines.utils.datetimes_to_durations` to do conversions or 2) manually convert to floats/booleans.\n",
      "  warnings.warn(warning_text, UserWarning)\n",
      "C:\\Users\\levas\\anaconda3\\lib\\site-packages\\lifelines\\utils\\__init__.py:1187: UserWarning: Attempting to convert an unexpected datatype 'object' to float. Suggestion: 1) use `lifelines.utils.datetimes_to_durations` to do conversions or 2) manually convert to floats/booleans.\n",
      "  warnings.warn(warning_text, UserWarning)\n",
      "C:\\Users\\levas\\anaconda3\\lib\\site-packages\\lifelines\\utils\\__init__.py:1187: UserWarning: Attempting to convert an unexpected datatype 'object' to float. Suggestion: 1) use `lifelines.utils.datetimes_to_durations` to do conversions or 2) manually convert to floats/booleans.\n",
      "  warnings.warn(warning_text, UserWarning)\n",
      "C:\\Users\\levas\\anaconda3\\lib\\site-packages\\lifelines\\utils\\__init__.py:1187: UserWarning: Attempting to convert an unexpected datatype 'object' to float. Suggestion: 1) use `lifelines.utils.datetimes_to_durations` to do conversions or 2) manually convert to floats/booleans.\n",
      "  warnings.warn(warning_text, UserWarning)\n",
      "C:\\Users\\levas\\anaconda3\\lib\\site-packages\\lifelines\\utils\\__init__.py:1187: UserWarning: Attempting to convert an unexpected datatype 'object' to float. Suggestion: 1) use `lifelines.utils.datetimes_to_durations` to do conversions or 2) manually convert to floats/booleans.\n",
      "  warnings.warn(warning_text, UserWarning)\n",
      "C:\\Users\\levas\\anaconda3\\lib\\site-packages\\lifelines\\utils\\__init__.py:1187: UserWarning: Attempting to convert an unexpected datatype 'object' to float. Suggestion: 1) use `lifelines.utils.datetimes_to_durations` to do conversions or 2) manually convert to floats/booleans.\n",
      "  warnings.warn(warning_text, UserWarning)\n",
      "C:\\Users\\levas\\anaconda3\\lib\\site-packages\\lifelines\\utils\\__init__.py:1187: UserWarning: Attempting to convert an unexpected datatype 'object' to float. Suggestion: 1) use `lifelines.utils.datetimes_to_durations` to do conversions or 2) manually convert to floats/booleans.\n",
      "  warnings.warn(warning_text, UserWarning)\n",
      "C:\\Users\\levas\\anaconda3\\lib\\site-packages\\lifelines\\utils\\__init__.py:1187: UserWarning: Attempting to convert an unexpected datatype 'object' to float. Suggestion: 1) use `lifelines.utils.datetimes_to_durations` to do conversions or 2) manually convert to floats/booleans.\n",
      "  warnings.warn(warning_text, UserWarning)\n"
     ]
    },
    {
     "data": {
      "image/png": "[encoded data removed]",
      "text/plain": [
       "<Figure size 432x288 with 1 Axes>"
      ]
     },
     "metadata": {
      "needs_background": "light"
     },
     "output_type": "display_data"
    }
   ],
   "source": [
    "ax = plt.subplot(111)\n",
    "\n",
    "kmf.fit(vk['Score'],event_observed = vk['Alive or dead'], label=['Virat Kohli'])\n",
    "kmf.survival_function_.plot(ax=ax)\n",
    "# # kmf.survival_function_\n",
    "# # kmf.plot_survival_function()\n",
    "\n",
    "\n",
    "kmf.fit(ba['Score'],event_observed = ba['Alive or dead'], label=['Babar Azam'])\n",
    "kmf.survival_function_.plot(ax=ax)\n",
    "# # kmf.plot_survival_function()\n",
    "\n",
    "kmf.fit(dc['Score'],event_observed = dc['Alive or dead'], label=['Dinesh Chandimal'])\n",
    "kmf.survival_function_.plot(ax=ax)\n",
    "# kmf.plot_survival_function()\n",
    "\n",
    "kmf.fit(jb['Score'],event_observed = jb['Alive or dead'], label=['Jos Buttler'])\n",
    "kmf.survival_function_.plot(ax=ax)\n",
    "# # kmf.plot_survival_function()\n",
    "\n",
    "kmf.fit(kw['Score'],event_observed = kw['Alive or dead'], label=['Kane Williamson'])\n",
    "kmf.survival_function_.plot(ax=ax)\n",
    "# # kmf.plot_survival_function()\n",
    "\n",
    "kmf.fit(nicp['Score'],event_observed = nicp['Alive or dead'], label=['Nicholas Pooran'])\n",
    "kmf.survival_function_.plot(ax=ax)\n",
    "# # kmf.plot_survival_function()\n",
    "\n",
    "kmf.fit(qdk['Score'],event_observed = qdk['Alive or dead'], label=['Quinton de Kock'])\n",
    "kmf.survival_function_.plot(ax=ax)\n",
    "# # kmf.plot_survival_function()\n",
    "\n",
    "kmf.fit(sah['Score'],event_observed = sah['Alive or dead'], label=['Shakib Al Hasan'])\n",
    "kmf.survival_function_.plot(ax=ax)\n",
    "# # kmf.plot_survival_function()\n",
    "\n",
    "kmf.fit(af['R'],event_observed = af['Alive'], label=['Aaron Finch'])\n",
    "kmf.survival_function_.plot(ax=ax)\n",
    "# # kmf.plot_survival_function()\n",
    "\n",
    "kmf.fit(mn['Runs'],event_observed = mn['Alive'], label=['Mohammed Nabi'])\n",
    "kmf.survival_function_.plot(ax=ax)\n",
    "# # kmf.plot_survival_function()\n",
    "\n",
    "plt.xlabel(\"Runs\")\n",
    "plt.ylabel(\"Probability\")\n",
    "# plt.legend(labels=['DC','NP'])\n",
    "plt.legend(labels =['VK','BA','DC','JB','KW','Nic Poor','QDK','SAH','AF','MN'])\n",
    "plt.title('Survival Curve')\n",
    "\n",
    "kmf4 = plt.gcf()"
   ]
  },
  {
   "cell_type": "code",
   "execution_count": null,
   "id": "a6d6514c",
   "metadata": {},
   "outputs": [],
   "source": [
    "\n"
   ]
  },
  {
   "cell_type": "code",
   "execution_count": 454,
   "id": "bd5afcd4",
   "metadata": {
    "scrolled": false
   },
   "outputs": [
    {
     "name": "stderr",
     "output_type": "stream",
     "text": [
      "C:\\Users\\levas\\anaconda3\\lib\\site-packages\\lifelines\\utils\\__init__.py:1187: UserWarning: Attempting to convert an unexpected datatype 'object' to float. Suggestion: 1) use `lifelines.utils.datetimes_to_durations` to do conversions or 2) manually convert to floats/booleans.\n",
      "  warnings.warn(warning_text, UserWarning)\n"
     ]
    },
    {
     "data": {
      "image/png": "[encoded data removed]",
      "text/plain": [
       "<Figure size 432x288 with 1 Axes>"
      ]
     },
     "metadata": {
      "needs_background": "light"
     },
     "output_type": "display_data"
    }
   ],
   "source": [
    "ax = plt.subplot(111)\n",
    "# kmf = KaplanMeierFitter()\n",
    "# kmf.fit(vk['Score'],event_observed = vk['Alive or dead'])\n",
    "# kmf.survival_function_\n",
    "# kmf.plot_survival_function()\n",
    "\n",
    "# kmf = KaplanMeierFitter()\n",
    "# kmf.fit(ba['Score'],event_observed = ba['Alive or dead'])\n",
    "# kmf.survival_function_\n",
    "# kmf.plot_survival_function()\n",
    "\n",
    "\n",
    "# kmf = KaplanMeierFitter()\n",
    "# kmf.fit(dc['Score'],event_observed = dc['Alive or dead'])\n",
    "# kmf.survival_function_\n",
    "# # kmf.plot_survival_function()\n",
    "\n",
    "# kmf = KaplanMeierFitter()\n",
    "# kmf.fit(jb['Score'],event_observed = jb['Alive or dead'])\n",
    "# kmf.survival_function_\n",
    "# kmf.plot_survival_function()\n",
    "\n",
    "# kmf = KaplanMeierFitter()\n",
    "# kmf.fit(kw['Score'],event_observed = kw['Alive or dead'])\n",
    "# kmf.survival_function_\n",
    "# kmf.plot_survival_function()\n",
    "\n",
    "# kmf = KaplanMeierFitter()\n",
    "# kmf.fit(nicp['Score'],event_observed = nicp['Alive or dead'])\n",
    "# kmf.survival_function_\n",
    "# kmf.plot_survival_function()\n",
    "\n",
    "# kmf = KaplanMeierFitter()\n",
    "# kmf.fit(qdk['Score'],event_observed = qdk['Alive or dead'])\n",
    "# kmf.survival_function_\n",
    "# kmf.plot_survival_function()\n",
    "\n",
    "# kmf = KaplanMeierFitter()\n",
    "# kmf.fit(sah['Score'],event_observed = sah['Alive or dead'])\n",
    "# kmf.survival_function_\n",
    "# kmf.plot_survival_function()\n",
    "\n",
    "kmf = KaplanMeierFitter()\n",
    "kmf.fit(af['R'],event_observed = af['Alive'])\n",
    "kmf.survival_function_\n",
    "kmf.plot_survival_function()\n",
    "\n",
    "\n",
    "# kmf.fit(mn['Runs'],event_observed = mn['Alive'], label=['Mohammed Nabi'])\n",
    "# kmf.survival_function_.plot(ax=ax)\n",
    "# kmf.plot_survival_function()\n",
    "# kmf.plot_survival_function()\n",
    "\n",
    "plt.xlabel(\"Runs\")\n",
    "plt.ylabel(\"Probability\")\n",
    "plt.legend(labels =['AF'])\n",
    "plt.title('Survival Curve')\n",
    "\n",
    "kmf4 = plt.gcf()"
   ]
  },
  {
   "cell_type": "code",
   "execution_count": null,
   "id": "be50fe2d",
   "metadata": {},
   "outputs": [],
   "source": []
  },
  {
   "cell_type": "markdown",
   "id": "867d269e",
   "metadata": {},
   "source": [
    "# Curve 3 - Batting 1st or 2nd"
   ]
  },
  {
   "cell_type": "code",
   "execution_count": 360,
   "id": "0a68b1b9",
   "metadata": {},
   "outputs": [
    {
     "data": {
      "text/html": [
       "<div>\n",
       "<style scoped>\n",
       "    .dataframe tbody tr th:only-of-type {\n",
       "        vertical-align: middle;\n",
       "    }\n",
       "\n",
       "    .dataframe tbody tr th {\n",
       "        vertical-align: top;\n",
       "    }\n",
       "\n",
       "    .dataframe thead th {\n",
       "        text-align: right;\n",
       "    }\n",
       "</style>\n",
       "<table border=\"1\" class=\"dataframe\">\n",
       "  <thead>\n",
       "    <tr style=\"text-align: right;\">\n",
       "      <th></th>\n",
       "      <th>Score</th>\n",
       "      <th>Mins</th>\n",
       "      <th>BF</th>\n",
       "      <th>4s</th>\n",
       "      <th>6s`</th>\n",
       "      <th>Strike rate</th>\n",
       "      <th>Pos</th>\n",
       "      <th>mode of dissmasal</th>\n",
       "      <th>Alive or dead</th>\n",
       "      <th>Opposition</th>\n",
       "      <th>venue</th>\n",
       "      <th>Date</th>\n",
       "      <th>match no.</th>\n",
       "    </tr>\n",
       "    <tr>\n",
       "      <th>Start</th>\n",
       "      <th></th>\n",
       "      <th></th>\n",
       "      <th></th>\n",
       "      <th></th>\n",
       "      <th></th>\n",
       "      <th></th>\n",
       "      <th></th>\n",
       "      <th></th>\n",
       "      <th></th>\n",
       "      <th></th>\n",
       "      <th></th>\n",
       "      <th></th>\n",
       "      <th></th>\n",
       "    </tr>\n",
       "  </thead>\n",
       "  <tbody>\n",
       "    <tr>\n",
       "      <th>1</th>\n",
       "      <td>28</td>\n",
       "      <td>28</td>\n",
       "      <td>19</td>\n",
       "      <td>5</td>\n",
       "      <td>0</td>\n",
       "      <td>147.36</td>\n",
       "      <td>1</td>\n",
       "      <td>bowled</td>\n",
       "      <td>0</td>\n",
       "      <td>v South Africa</td>\n",
       "      <td>Durban</td>\n",
       "      <td>9-Jan-11</td>\n",
       "      <td>T20I # 196</td>\n",
       "    </tr>\n",
       "    <tr>\n",
       "      <th>2</th>\n",
       "      <td>22</td>\n",
       "      <td>30</td>\n",
       "      <td>21</td>\n",
       "      <td>0</td>\n",
       "      <td>1</td>\n",
       "      <td>104.76</td>\n",
       "      <td>3</td>\n",
       "      <td>caught</td>\n",
       "      <td>0</td>\n",
       "      <td>v Australia</td>\n",
       "      <td>Sydney</td>\n",
       "      <td>1-Feb-12</td>\n",
       "      <td>T20I # 217</td>\n",
       "    </tr>\n",
       "  </tbody>\n",
       "</table>\n",
       "</div>"
      ],
      "text/plain": [
       "      Score Mins  BF 4s 6s` Strike rate Pos mode of dissmasal  Alive or dead  \\\n",
       "Start                                                                          \n",
       "1        28   28  19  5   0      147.36   1            bowled              0   \n",
       "2        22   30  21  0   1      104.76   3            caught              0   \n",
       "\n",
       "          Opposition   venue      Date    match no.  \n",
       "Start                                                \n",
       "1      v South Africa  Durban  9-Jan-11  T20I # 196  \n",
       "2         v Australia  Sydney  1-Feb-12  T20I # 217  "
      ]
     },
     "execution_count": 360,
     "metadata": {},
     "output_type": "execute_result"
    }
   ],
   "source": [
    "groupvk = vk.groupby('Start')\n",
    "groupvk.first()"
   ]
  },
  {
   "cell_type": "code",
   "execution_count": 361,
   "id": "e49cb2df",
   "metadata": {},
   "outputs": [],
   "source": [
    "vk1 = groupvk.get_group('1')\n",
    "vk2 = groupvk.get_group('2')"
   ]
  },
  {
   "cell_type": "markdown",
   "id": "eb3403fe",
   "metadata": {},
   "source": [
    "Batting 1st"
   ]
  },
  {
   "cell_type": "code",
   "execution_count": 362,
   "id": "eb5e2e7a",
   "metadata": {},
   "outputs": [
    {
     "name": "stderr",
     "output_type": "stream",
     "text": [
      "C:\\Users\\levas\\anaconda3\\lib\\site-packages\\lifelines\\utils\\__init__.py:1187: UserWarning: Attempting to convert an unexpected datatype 'object' to float. Suggestion: 1) use `lifelines.utils.datetimes_to_durations` to do conversions or 2) manually convert to floats/booleans.\n",
      "  warnings.warn(warning_text, UserWarning)\n",
      "C:\\Users\\levas\\anaconda3\\lib\\site-packages\\lifelines\\utils\\__init__.py:1187: UserWarning: Attempting to convert an unexpected datatype 'object' to float. Suggestion: 1) use `lifelines.utils.datetimes_to_durations` to do conversions or 2) manually convert to floats/booleans.\n",
      "  warnings.warn(warning_text, UserWarning)\n"
     ]
    },
    {
     "data": {
      "image/png": "[encoded data removed]",
      "text/plain": [
       "<Figure size 432x288 with 1 Axes>"
      ]
     },
     "metadata": {
      "needs_background": "light"
     },
     "output_type": "display_data"
    }
   ],
   "source": [
    "ax = plt.subplot(111)\n",
    "\n",
    "kmf.fit(vk1['Score'],event_observed = vk1['Alive or dead'], label=['1st innings'])\n",
    "kmf.survival_function_.plot(ax=ax)\n",
    "# kmf.survival_function_\n",
    "# kmf.plot_survival_function()\n",
    "\n",
    "kmf.fit(vk2['Score'],event_observed = vk2['Alive or dead'], label=['2nd innings'])\n",
    "kmf.survival_function_.plot(ax=ax)\n",
    "# kmf.plot_survival_function()\n",
    "\n",
    "plt.xlabel(\"Runs\")\n",
    "plt.ylabel(\"Probability\")\n",
    "plt.legend(labels =['1st innings','2nd innings'])\n",
    "plt.title('1st innings vs 2nd innings of Virat Kohli')\n",
    "\n",
    "kmf2 = plt.gcf()"
   ]
  },
  {
   "cell_type": "code",
   "execution_count": 363,
   "id": "1357efa7",
   "metadata": {},
   "outputs": [
    {
     "data": {
      "text/html": [
       "<div>\n",
       "<style scoped>\n",
       "    .dataframe tbody tr th:only-of-type {\n",
       "        vertical-align: middle;\n",
       "    }\n",
       "\n",
       "    .dataframe tbody tr th {\n",
       "        vertical-align: top;\n",
       "    }\n",
       "\n",
       "    .dataframe thead th {\n",
       "        text-align: right;\n",
       "    }\n",
       "</style>\n",
       "<table border=\"1\" class=\"dataframe\">\n",
       "  <thead>\n",
       "    <tr style=\"text-align: right;\">\n",
       "      <th></th>\n",
       "      <th>Score</th>\n",
       "      <th>Mins</th>\n",
       "      <th>BF</th>\n",
       "      <th>4s</th>\n",
       "      <th>6s`</th>\n",
       "      <th>Strike rate</th>\n",
       "      <th>Pos</th>\n",
       "      <th>mode of dissmasal</th>\n",
       "      <th>Alive or dead</th>\n",
       "      <th>Opposition</th>\n",
       "      <th>Venue</th>\n",
       "      <th>Date</th>\n",
       "      <th>Match  no.</th>\n",
       "    </tr>\n",
       "    <tr>\n",
       "      <th>Inn</th>\n",
       "      <th></th>\n",
       "      <th></th>\n",
       "      <th></th>\n",
       "      <th></th>\n",
       "      <th></th>\n",
       "      <th></th>\n",
       "      <th></th>\n",
       "      <th></th>\n",
       "      <th></th>\n",
       "      <th></th>\n",
       "      <th></th>\n",
       "      <th></th>\n",
       "      <th></th>\n",
       "    </tr>\n",
       "  </thead>\n",
       "  <tbody>\n",
       "    <tr>\n",
       "      <th>1</th>\n",
       "      <td>19</td>\n",
       "      <td>28</td>\n",
       "      <td>18</td>\n",
       "      <td>2</td>\n",
       "      <td>0</td>\n",
       "      <td>105.55</td>\n",
       "      <td>3</td>\n",
       "      <td>caught</td>\n",
       "      <td>0</td>\n",
       "      <td>v West Indies</td>\n",
       "      <td>Dubai (DSC)</td>\n",
       "      <td>24-Sep-16</td>\n",
       "      <td>T20I # 569</td>\n",
       "    </tr>\n",
       "    <tr>\n",
       "      <th>2</th>\n",
       "      <td>15</td>\n",
       "      <td>13</td>\n",
       "      <td>11</td>\n",
       "      <td>2</td>\n",
       "      <td>0</td>\n",
       "      <td>136.36</td>\n",
       "      <td>3</td>\n",
       "      <td>not out</td>\n",
       "      <td>1</td>\n",
       "      <td>v England</td>\n",
       "      <td>Manchester</td>\n",
       "      <td>7-Sep-16</td>\n",
       "      <td>T20I # 566</td>\n",
       "    </tr>\n",
       "  </tbody>\n",
       "</table>\n",
       "</div>"
      ],
      "text/plain": [
       "    Score Mins  BF 4s 6s` Strike rate Pos mode of dissmasal  Alive or dead  \\\n",
       "Inn                                                                          \n",
       "1      19   28  18  2   0      105.55   3            caught              0   \n",
       "2      15   13  11  2   0      136.36   3           not out              1   \n",
       "\n",
       "       Opposition        Venue       Date   Match  no.  \n",
       "Inn                                                     \n",
       "1    v West Indies  Dubai (DSC)  24-Sep-16  T20I # 569  \n",
       "2        v England   Manchester   7-Sep-16  T20I # 566  "
      ]
     },
     "execution_count": 363,
     "metadata": {},
     "output_type": "execute_result"
    }
   ],
   "source": [
    "groupba = ba.groupby('Inn')\n",
    "groupba.first()"
   ]
  },
  {
   "cell_type": "code",
   "execution_count": 364,
   "id": "d673e2d3",
   "metadata": {},
   "outputs": [],
   "source": [
    "ba1 = groupba.get_group('1')\n",
    "ba2 = groupba.get_group('2')"
   ]
  },
  {
   "cell_type": "code",
   "execution_count": 365,
   "id": "9e8c668f",
   "metadata": {},
   "outputs": [
    {
     "name": "stderr",
     "output_type": "stream",
     "text": [
      "C:\\Users\\levas\\anaconda3\\lib\\site-packages\\lifelines\\utils\\__init__.py:1187: UserWarning: Attempting to convert an unexpected datatype 'object' to float. Suggestion: 1) use `lifelines.utils.datetimes_to_durations` to do conversions or 2) manually convert to floats/booleans.\n",
      "  warnings.warn(warning_text, UserWarning)\n",
      "C:\\Users\\levas\\anaconda3\\lib\\site-packages\\lifelines\\utils\\__init__.py:1187: UserWarning: Attempting to convert an unexpected datatype 'object' to float. Suggestion: 1) use `lifelines.utils.datetimes_to_durations` to do conversions or 2) manually convert to floats/booleans.\n",
      "  warnings.warn(warning_text, UserWarning)\n"
     ]
    },
    {
     "data": {
      "image/png": "[encoded data removed]",
      "text/plain": [
       "<Figure size 432x288 with 1 Axes>"
      ]
     },
     "metadata": {
      "needs_background": "light"
     },
     "output_type": "display_data"
    }
   ],
   "source": [
    "ax = plt.subplot(111)\n",
    "\n",
    "kmf.fit(ba1['Score'],event_observed = ba1['Alive or dead'], label=['1st innings'])\n",
    "kmf.survival_function_.plot(ax=ax)\n",
    "# kmf.survival_function_\n",
    "# kmf.plot_survival_function()\n",
    "\n",
    "kmf.fit(ba2['Score'],event_observed = ba2['Alive or dead'], label=['2nd innings'])\n",
    "kmf.survival_function_.plot(ax=ax)\n",
    "# kmf.plot_survival_function()\n",
    "\n",
    "plt.xlabel(\"Runs\")\n",
    "plt.ylabel(\"Probability\")\n",
    "plt.legend(labels =['1st innings','2nd innings'])\n",
    "plt.title('1st innings vs 2nd innings of Babar Azam')\n",
    "\n",
    "kmf3 = plt.gcf()"
   ]
  },
  {
   "cell_type": "code",
   "execution_count": 366,
   "id": "368e7f22",
   "metadata": {},
   "outputs": [
    {
     "data": {
      "text/html": [
       "<div>\n",
       "<style scoped>\n",
       "    .dataframe tbody tr th:only-of-type {\n",
       "        vertical-align: middle;\n",
       "    }\n",
       "\n",
       "    .dataframe tbody tr th {\n",
       "        vertical-align: top;\n",
       "    }\n",
       "\n",
       "    .dataframe thead th {\n",
       "        text-align: right;\n",
       "    }\n",
       "</style>\n",
       "<table border=\"1\" class=\"dataframe\">\n",
       "  <thead>\n",
       "    <tr style=\"text-align: right;\">\n",
       "      <th></th>\n",
       "      <th>Score</th>\n",
       "      <th>Mins</th>\n",
       "      <th>BF</th>\n",
       "      <th>4s</th>\n",
       "      <th>6s`</th>\n",
       "      <th>Strike rate</th>\n",
       "      <th>Pos</th>\n",
       "      <th>mode of dissmasal</th>\n",
       "      <th>Alive or dead</th>\n",
       "      <th>Opposition</th>\n",
       "      <th>Venue</th>\n",
       "      <th>Date</th>\n",
       "      <th>Match  no.</th>\n",
       "    </tr>\n",
       "    <tr>\n",
       "      <th>Start</th>\n",
       "      <th></th>\n",
       "      <th></th>\n",
       "      <th></th>\n",
       "      <th></th>\n",
       "      <th></th>\n",
       "      <th></th>\n",
       "      <th></th>\n",
       "      <th></th>\n",
       "      <th></th>\n",
       "      <th></th>\n",
       "      <th></th>\n",
       "      <th></th>\n",
       "      <th></th>\n",
       "    </tr>\n",
       "  </thead>\n",
       "  <tbody>\n",
       "    <tr>\n",
       "      <th>1.0</th>\n",
       "      <td>29</td>\n",
       "      <td>26</td>\n",
       "      <td>23</td>\n",
       "      <td>1</td>\n",
       "      <td>1</td>\n",
       "      <td>126.08</td>\n",
       "      <td>4</td>\n",
       "      <td>caught</td>\n",
       "      <td>0.0</td>\n",
       "      <td>v New Zealand</td>\n",
       "      <td>Providence</td>\n",
       "      <td>30-Apr-10</td>\n",
       "      <td>T20I # 151</td>\n",
       "    </tr>\n",
       "    <tr>\n",
       "      <th>2.0</th>\n",
       "      <td>19</td>\n",
       "      <td>21</td>\n",
       "      <td>24</td>\n",
       "      <td>1</td>\n",
       "      <td>0</td>\n",
       "      <td>79.16</td>\n",
       "      <td>6</td>\n",
       "      <td>stumped</td>\n",
       "      <td>0.0</td>\n",
       "      <td>v Australia</td>\n",
       "      <td>Bridgetown</td>\n",
       "      <td>9-May-10</td>\n",
       "      <td>T20I # 170</td>\n",
       "    </tr>\n",
       "  </tbody>\n",
       "</table>\n",
       "</div>"
      ],
      "text/plain": [
       "      Score Mins  BF 4s 6s` Strike rate Pos mode of dissmasal  Alive or dead  \\\n",
       "Start                                                                          \n",
       "1.0      29   26  23  1   1      126.08   4            caught            0.0   \n",
       "2.0      19   21  24  1   0       79.16   6           stumped            0.0   \n",
       "\n",
       "         Opposition       Venue       Date   Match  no.  \n",
       "Start                                                    \n",
       "1.0    v New Zealand  Providence  30-Apr-10  T20I # 151  \n",
       "2.0      v Australia  Bridgetown   9-May-10  T20I # 170  "
      ]
     },
     "execution_count": 366,
     "metadata": {},
     "output_type": "execute_result"
    }
   ],
   "source": [
    "groupdc = dc.groupby('Start')\n",
    "groupdc.first()"
   ]
  },
  {
   "cell_type": "code",
   "execution_count": 367,
   "id": "5d7b2fde",
   "metadata": {},
   "outputs": [],
   "source": [
    "dc1 = groupdc.get_group(1)\n",
    "dc2 = groupdc.get_group(2)\n"
   ]
  },
  {
   "cell_type": "code",
   "execution_count": 368,
   "id": "1d49ffc2",
   "metadata": {},
   "outputs": [
    {
     "name": "stderr",
     "output_type": "stream",
     "text": [
      "C:\\Users\\levas\\anaconda3\\lib\\site-packages\\lifelines\\utils\\__init__.py:1187: UserWarning: Attempting to convert an unexpected datatype 'object' to float. Suggestion: 1) use `lifelines.utils.datetimes_to_durations` to do conversions or 2) manually convert to floats/booleans.\n",
      "  warnings.warn(warning_text, UserWarning)\n",
      "C:\\Users\\levas\\anaconda3\\lib\\site-packages\\lifelines\\utils\\__init__.py:1187: UserWarning: Attempting to convert an unexpected datatype 'object' to float. Suggestion: 1) use `lifelines.utils.datetimes_to_durations` to do conversions or 2) manually convert to floats/booleans.\n",
      "  warnings.warn(warning_text, UserWarning)\n"
     ]
    },
    {
     "data": {
      "image/png": "[encoded data removed]",
      "text/plain": [
       "<Figure size 432x288 with 1 Axes>"
      ]
     },
     "metadata": {
      "needs_background": "light"
     },
     "output_type": "display_data"
    }
   ],
   "source": [
    "ax = plt.subplot(111)\n",
    "\n",
    "kmf.fit(dc1['Score'],event_observed = dc1['Alive or dead'], label=['1st innings'])\n",
    "kmf.survival_function_.plot(ax=ax)\n",
    "# kmf.survival_function_\n",
    "# kmf.plot_survival_function()\n",
    "\n",
    "kmf.fit(dc2['Score'],event_observed = dc2['Alive or dead'], label=['2nd innings'])\n",
    "kmf.survival_function_.plot(ax=ax)\n",
    "# kmf.plot_survival_function()\n",
    "\n",
    "plt.xlabel(\"Runs\")\n",
    "plt.ylabel(\"Probability\")\n",
    "plt.legend(labels =['1st innings','2nd innings'])\n",
    "plt.title('1st innings vs 2nd innings of Dinesh Chandimal')\n",
    "\n",
    "kmf3 = plt.gcf()"
   ]
  },
  {
   "cell_type": "code",
   "execution_count": 369,
   "id": "1f2c262c",
   "metadata": {},
   "outputs": [
    {
     "data": {
      "text/html": [
       "<div>\n",
       "<style scoped>\n",
       "    .dataframe tbody tr th:only-of-type {\n",
       "        vertical-align: middle;\n",
       "    }\n",
       "\n",
       "    .dataframe tbody tr th {\n",
       "        vertical-align: top;\n",
       "    }\n",
       "\n",
       "    .dataframe thead th {\n",
       "        text-align: right;\n",
       "    }\n",
       "</style>\n",
       "<table border=\"1\" class=\"dataframe\">\n",
       "  <thead>\n",
       "    <tr style=\"text-align: right;\">\n",
       "      <th></th>\n",
       "      <th>Score</th>\n",
       "      <th>Mins</th>\n",
       "      <th>BF</th>\n",
       "      <th>4s</th>\n",
       "      <th>6s`</th>\n",
       "      <th>Strike rate</th>\n",
       "      <th>Pos</th>\n",
       "      <th>mode of dissmasal</th>\n",
       "      <th>Alive or dead</th>\n",
       "      <th>Opposition</th>\n",
       "      <th>Venue</th>\n",
       "      <th>Date</th>\n",
       "      <th>Match  no.</th>\n",
       "    </tr>\n",
       "    <tr>\n",
       "      <th>Start</th>\n",
       "      <th></th>\n",
       "      <th></th>\n",
       "      <th></th>\n",
       "      <th></th>\n",
       "      <th></th>\n",
       "      <th></th>\n",
       "      <th></th>\n",
       "      <th></th>\n",
       "      <th></th>\n",
       "      <th></th>\n",
       "      <th></th>\n",
       "      <th></th>\n",
       "      <th></th>\n",
       "    </tr>\n",
       "  </thead>\n",
       "  <tbody>\n",
       "    <tr>\n",
       "      <th>1</th>\n",
       "      <td>7</td>\n",
       "      <td>11</td>\n",
       "      <td>8</td>\n",
       "      <td>1</td>\n",
       "      <td>0</td>\n",
       "      <td>87.5</td>\n",
       "      <td>7</td>\n",
       "      <td>bowled</td>\n",
       "      <td>0</td>\n",
       "      <td>v Pakistan</td>\n",
       "      <td>Dubai (DSC)</td>\n",
       "      <td>25-Feb-12</td>\n",
       "      <td>T20I # 228</td>\n",
       "    </tr>\n",
       "    <tr>\n",
       "      <th>2</th>\n",
       "      <td>13</td>\n",
       "      <td>24</td>\n",
       "      <td>11</td>\n",
       "      <td>1</td>\n",
       "      <td>0</td>\n",
       "      <td>118.18</td>\n",
       "      <td>7</td>\n",
       "      <td>run out</td>\n",
       "      <td>0</td>\n",
       "      <td>v West Indies</td>\n",
       "      <td>The Oval</td>\n",
       "      <td>25-Sep-11</td>\n",
       "      <td>T20I # 208</td>\n",
       "    </tr>\n",
       "  </tbody>\n",
       "</table>\n",
       "</div>"
      ],
      "text/plain": [
       "      Score Mins  BF 4s 6s` Strike rate Pos mode of dissmasal  Alive or dead  \\\n",
       "Start                                                                          \n",
       "1         7   11   8  1   0        87.5   7            bowled              0   \n",
       "2        13   24  11  1   0      118.18   7           run out              0   \n",
       "\n",
       "         Opposition        Venue       Date   Match  no.  \n",
       "Start                                                     \n",
       "1         v Pakistan  Dubai (DSC)  25-Feb-12  T20I # 228  \n",
       "2      v West Indies     The Oval  25-Sep-11  T20I # 208  "
      ]
     },
     "execution_count": 369,
     "metadata": {},
     "output_type": "execute_result"
    }
   ],
   "source": [
    "groupjb = jb.groupby('Start')\n",
    "groupjb.first()"
   ]
  },
  {
   "cell_type": "code",
   "execution_count": 370,
   "id": "f569f651",
   "metadata": {},
   "outputs": [],
   "source": [
    "jb1 = groupjb.get_group(1)\n",
    "jb2 = groupjb.get_group(2)\n"
   ]
  },
  {
   "cell_type": "code",
   "execution_count": 371,
   "id": "21244b80",
   "metadata": {},
   "outputs": [
    {
     "name": "stderr",
     "output_type": "stream",
     "text": [
      "C:\\Users\\levas\\anaconda3\\lib\\site-packages\\lifelines\\utils\\__init__.py:1187: UserWarning: Attempting to convert an unexpected datatype 'object' to float. Suggestion: 1) use `lifelines.utils.datetimes_to_durations` to do conversions or 2) manually convert to floats/booleans.\n",
      "  warnings.warn(warning_text, UserWarning)\n",
      "C:\\Users\\levas\\anaconda3\\lib\\site-packages\\lifelines\\utils\\__init__.py:1187: UserWarning: Attempting to convert an unexpected datatype 'object' to float. Suggestion: 1) use `lifelines.utils.datetimes_to_durations` to do conversions or 2) manually convert to floats/booleans.\n",
      "  warnings.warn(warning_text, UserWarning)\n"
     ]
    },
    {
     "data": {
      "image/png": "[encoded data removed]",
      "text/plain": [
       "<Figure size 432x288 with 1 Axes>"
      ]
     },
     "metadata": {
      "needs_background": "light"
     },
     "output_type": "display_data"
    }
   ],
   "source": [
    "ax = plt.subplot(111)\n",
    "\n",
    "kmf.fit(jb1['Score'],event_observed = jb1['Alive or dead'], label=['1st innings'])\n",
    "kmf.survival_function_.plot(ax=ax)\n",
    "# kmf.survival_function_\n",
    "# kmf.plot_survival_function()\n",
    "\n",
    "kmf.fit(jb2['Score'],event_observed = jb2['Alive or dead'], label=['2nd innings'])\n",
    "kmf.survival_function_.plot(ax=ax)\n",
    "# kmf.plot_survival_function()\n",
    "\n",
    "plt.xlabel(\"Runs\")\n",
    "plt.ylabel(\"Probability\")\n",
    "plt.legend(labels =['1st innings','2nd innings'])\n",
    "plt.title('1st innings vs 2nd innings of Jos Buttler')\n",
    "\n",
    "kmf3 = plt.gcf()"
   ]
  },
  {
   "cell_type": "code",
   "execution_count": 372,
   "id": "403bc2a9",
   "metadata": {},
   "outputs": [
    {
     "data": {
      "text/html": [
       "<div>\n",
       "<style scoped>\n",
       "    .dataframe tbody tr th:only-of-type {\n",
       "        vertical-align: middle;\n",
       "    }\n",
       "\n",
       "    .dataframe tbody tr th {\n",
       "        vertical-align: top;\n",
       "    }\n",
       "\n",
       "    .dataframe thead th {\n",
       "        text-align: right;\n",
       "    }\n",
       "</style>\n",
       "<table border=\"1\" class=\"dataframe\">\n",
       "  <thead>\n",
       "    <tr style=\"text-align: right;\">\n",
       "      <th></th>\n",
       "      <th>Score</th>\n",
       "      <th>Mins</th>\n",
       "      <th>BF</th>\n",
       "      <th>4s</th>\n",
       "      <th>6s`</th>\n",
       "      <th>Strike rate</th>\n",
       "      <th>Pos</th>\n",
       "      <th>mode of dissmasal</th>\n",
       "      <th>Alive or dead</th>\n",
       "      <th>Opposition</th>\n",
       "      <th>Venue</th>\n",
       "      <th>Date</th>\n",
       "      <th>Match  no.</th>\n",
       "    </tr>\n",
       "    <tr>\n",
       "      <th>Start</th>\n",
       "      <th></th>\n",
       "      <th></th>\n",
       "      <th></th>\n",
       "      <th></th>\n",
       "      <th></th>\n",
       "      <th></th>\n",
       "      <th></th>\n",
       "      <th></th>\n",
       "      <th></th>\n",
       "      <th></th>\n",
       "      <th></th>\n",
       "      <th></th>\n",
       "      <th></th>\n",
       "    </tr>\n",
       "  </thead>\n",
       "  <tbody>\n",
       "    <tr>\n",
       "      <th>1.0</th>\n",
       "      <td>28</td>\n",
       "      <td>30</td>\n",
       "      <td>20</td>\n",
       "      <td>1</td>\n",
       "      <td>2</td>\n",
       "      <td>140</td>\n",
       "      <td>4</td>\n",
       "      <td>not out</td>\n",
       "      <td>1.0</td>\n",
       "      <td>v South Africa</td>\n",
       "      <td>Hamilton</td>\n",
       "      <td>19-Feb-12</td>\n",
       "      <td>T20I # 222</td>\n",
       "    </tr>\n",
       "    <tr>\n",
       "      <th>2.0</th>\n",
       "      <td>48</td>\n",
       "      <td>62</td>\n",
       "      <td>38</td>\n",
       "      <td>5</td>\n",
       "      <td>0</td>\n",
       "      <td>126.31</td>\n",
       "      <td>4</td>\n",
       "      <td>run out</td>\n",
       "      <td>0.0</td>\n",
       "      <td>v Zimbabwe</td>\n",
       "      <td>Auckland</td>\n",
       "      <td>11-Feb-12</td>\n",
       "      <td>T20I # 219</td>\n",
       "    </tr>\n",
       "  </tbody>\n",
       "</table>\n",
       "</div>"
      ],
      "text/plain": [
       "      Score Mins  BF 4s 6s` Strike rate Pos mode of dissmasal  Alive or dead  \\\n",
       "Start                                                                          \n",
       "1.0      28   30  20  1   2         140   4           not out            1.0   \n",
       "2.0      48   62  38  5   0      126.31   4           run out            0.0   \n",
       "\n",
       "          Opposition     Venue       Date   Match  no.  \n",
       "Start                                                   \n",
       "1.0    v South Africa  Hamilton  19-Feb-12  T20I # 222  \n",
       "2.0        v Zimbabwe  Auckland  11-Feb-12  T20I # 219  "
      ]
     },
     "execution_count": 372,
     "metadata": {},
     "output_type": "execute_result"
    }
   ],
   "source": [
    "groupkw = kw.groupby('Start')\n",
    "groupkw.first()"
   ]
  },
  {
   "cell_type": "code",
   "execution_count": 373,
   "id": "4833a423",
   "metadata": {},
   "outputs": [],
   "source": [
    "kw1 = groupkw.get_group(1)\n",
    "kw2 = groupkw.get_group(2)\n",
    "\n"
   ]
  },
  {
   "cell_type": "code",
   "execution_count": 374,
   "id": "84515791",
   "metadata": {},
   "outputs": [
    {
     "name": "stderr",
     "output_type": "stream",
     "text": [
      "C:\\Users\\levas\\anaconda3\\lib\\site-packages\\lifelines\\utils\\__init__.py:1187: UserWarning: Attempting to convert an unexpected datatype 'object' to float. Suggestion: 1) use `lifelines.utils.datetimes_to_durations` to do conversions or 2) manually convert to floats/booleans.\n",
      "  warnings.warn(warning_text, UserWarning)\n",
      "C:\\Users\\levas\\anaconda3\\lib\\site-packages\\lifelines\\utils\\__init__.py:1187: UserWarning: Attempting to convert an unexpected datatype 'object' to float. Suggestion: 1) use `lifelines.utils.datetimes_to_durations` to do conversions or 2) manually convert to floats/booleans.\n",
      "  warnings.warn(warning_text, UserWarning)\n"
     ]
    },
    {
     "data": {
      "image/png": "[encoded data removed]",
      "text/plain": [
       "<Figure size 432x288 with 1 Axes>"
      ]
     },
     "metadata": {
      "needs_background": "light"
     },
     "output_type": "display_data"
    }
   ],
   "source": [
    "ax = plt.subplot(111)\n",
    "\n",
    "kmf.fit(kw1['Score'],event_observed = kw1['Alive or dead'], label=['1st innings'])\n",
    "kmf.survival_function_.plot(ax=ax)\n",
    "# kmf.survival_function_\n",
    "# kmf.plot_survival_function()\n",
    "\n",
    "kmf.fit(kw2['Score'],event_observed = kw2['Alive or dead'], label=['2nd innings'])\n",
    "kmf.survival_function_.plot(ax=ax)\n",
    "# kmf.plot_survival_function()\n",
    "\n",
    "plt.legend(labels =['1st innings','2nd innings'])\n",
    "plt.title('1st innings vs 2nd innings of Kane Williamson')\n",
    "\n",
    "kmf3 = plt.gcf()"
   ]
  },
  {
   "cell_type": "code",
   "execution_count": 375,
   "id": "5615a65c",
   "metadata": {},
   "outputs": [
    {
     "data": {
      "text/html": [
       "<div>\n",
       "<style scoped>\n",
       "    .dataframe tbody tr th:only-of-type {\n",
       "        vertical-align: middle;\n",
       "    }\n",
       "\n",
       "    .dataframe tbody tr th {\n",
       "        vertical-align: top;\n",
       "    }\n",
       "\n",
       "    .dataframe thead th {\n",
       "        text-align: right;\n",
       "    }\n",
       "</style>\n",
       "<table border=\"1\" class=\"dataframe\">\n",
       "  <thead>\n",
       "    <tr style=\"text-align: right;\">\n",
       "      <th></th>\n",
       "      <th>Score</th>\n",
       "      <th>Mins</th>\n",
       "      <th>BF</th>\n",
       "      <th>4s</th>\n",
       "      <th>6s`</th>\n",
       "      <th>Strike rate</th>\n",
       "      <th>Pos</th>\n",
       "      <th>mode of dissmasal</th>\n",
       "      <th>Alive or dead</th>\n",
       "      <th>Opposition</th>\n",
       "      <th>Venue</th>\n",
       "      <th>Date</th>\n",
       "      <th>Match  no.</th>\n",
       "    </tr>\n",
       "    <tr>\n",
       "      <th>Start</th>\n",
       "      <th></th>\n",
       "      <th></th>\n",
       "      <th></th>\n",
       "      <th></th>\n",
       "      <th></th>\n",
       "      <th></th>\n",
       "      <th></th>\n",
       "      <th></th>\n",
       "      <th></th>\n",
       "      <th></th>\n",
       "      <th></th>\n",
       "      <th></th>\n",
       "      <th></th>\n",
       "    </tr>\n",
       "  </thead>\n",
       "  <tbody>\n",
       "    <tr>\n",
       "      <th>1</th>\n",
       "      <td>5</td>\n",
       "      <td>4</td>\n",
       "      <td>4</td>\n",
       "      <td>1</td>\n",
       "      <td>0</td>\n",
       "      <td>125</td>\n",
       "      <td>6</td>\n",
       "      <td>caught</td>\n",
       "      <td>0</td>\n",
       "      <td>v Pakistan</td>\n",
       "      <td>Dubai (DSC)</td>\n",
       "      <td>23-Sep-16</td>\n",
       "      <td>T20I # 568</td>\n",
       "    </tr>\n",
       "    <tr>\n",
       "      <th>2</th>\n",
       "      <td>4</td>\n",
       "      <td>7</td>\n",
       "      <td>6</td>\n",
       "      <td>1</td>\n",
       "      <td>0</td>\n",
       "      <td>66.66</td>\n",
       "      <td>8</td>\n",
       "      <td>caught</td>\n",
       "      <td>0</td>\n",
       "      <td>v Pakistan</td>\n",
       "      <td>Dubai (DSC)</td>\n",
       "      <td>24-Sep-16</td>\n",
       "      <td>T20I # 569</td>\n",
       "    </tr>\n",
       "  </tbody>\n",
       "</table>\n",
       "</div>"
      ],
      "text/plain": [
       "      Score Mins BF 4s 6s` Strike rate Pos mode of dissmasal  Alive or dead  \\\n",
       "Start                                                                         \n",
       "1         5    4  4  1   0         125   6            caught              0   \n",
       "2         4    7  6  1   0       66.66   8            caught              0   \n",
       "\n",
       "      Opposition        Venue       Date   Match  no.  \n",
       "Start                                                  \n",
       "1      v Pakistan  Dubai (DSC)  23-Sep-16  T20I # 568  \n",
       "2      v Pakistan  Dubai (DSC)  24-Sep-16  T20I # 569  "
      ]
     },
     "execution_count": 375,
     "metadata": {},
     "output_type": "execute_result"
    }
   ],
   "source": [
    "groupnicp = nicp.groupby('Start')\n",
    "groupnicp.first()"
   ]
  },
  {
   "cell_type": "code",
   "execution_count": 376,
   "id": "f6f11b7c",
   "metadata": {},
   "outputs": [],
   "source": [
    "nicp1 = groupnicp.get_group('1')\n",
    "nicp2 = groupnicp.get_group('2')"
   ]
  },
  {
   "cell_type": "code",
   "execution_count": 377,
   "id": "bef01b45",
   "metadata": {},
   "outputs": [
    {
     "name": "stderr",
     "output_type": "stream",
     "text": [
      "C:\\Users\\levas\\anaconda3\\lib\\site-packages\\lifelines\\utils\\__init__.py:1187: UserWarning: Attempting to convert an unexpected datatype 'object' to float. Suggestion: 1) use `lifelines.utils.datetimes_to_durations` to do conversions or 2) manually convert to floats/booleans.\n",
      "  warnings.warn(warning_text, UserWarning)\n",
      "C:\\Users\\levas\\anaconda3\\lib\\site-packages\\lifelines\\utils\\__init__.py:1187: UserWarning: Attempting to convert an unexpected datatype 'object' to float. Suggestion: 1) use `lifelines.utils.datetimes_to_durations` to do conversions or 2) manually convert to floats/booleans.\n",
      "  warnings.warn(warning_text, UserWarning)\n"
     ]
    },
    {
     "data": {
      "image/png": "[encoded data removed]",
      "text/plain": [
       "<Figure size 432x288 with 1 Axes>"
      ]
     },
     "metadata": {
      "needs_background": "light"
     },
     "output_type": "display_data"
    }
   ],
   "source": [
    "ax = plt.subplot(111)\n",
    "\n",
    "kmf.fit(nicp1['Score'],event_observed = nicp1['Alive or dead'], label=['1st innings'])\n",
    "kmf.survival_function_.plot(ax=ax)\n",
    "# kmf.survival_function_\n",
    "# kmf.plot_survival_function()\n",
    "\n",
    "kmf.fit(nicp2['Score'],event_observed = nicp2['Alive or dead'], label=['2nd innings'])\n",
    "kmf.survival_function_.plot(ax=ax)\n",
    "# kmf.plot_survival_function()\n",
    "\n",
    "plt.xlabel(\"Runs\")\n",
    "plt.ylabel(\"Probability\")\n",
    "plt.legend(labels =['1st innings','2nd innings'])\n",
    "plt.title('1st innings vs 2nd innings of Nicolas Pooran')\n",
    "\n",
    "kmf3 = plt.gcf()"
   ]
  },
  {
   "cell_type": "code",
   "execution_count": 378,
   "id": "a66a2a2a",
   "metadata": {},
   "outputs": [
    {
     "data": {
      "text/html": [
       "<div>\n",
       "<style scoped>\n",
       "    .dataframe tbody tr th:only-of-type {\n",
       "        vertical-align: middle;\n",
       "    }\n",
       "\n",
       "    .dataframe tbody tr th {\n",
       "        vertical-align: top;\n",
       "    }\n",
       "\n",
       "    .dataframe thead th {\n",
       "        text-align: right;\n",
       "    }\n",
       "</style>\n",
       "<table border=\"1\" class=\"dataframe\">\n",
       "  <thead>\n",
       "    <tr style=\"text-align: right;\">\n",
       "      <th></th>\n",
       "      <th>Score</th>\n",
       "      <th>Mins</th>\n",
       "      <th>BF</th>\n",
       "      <th>4s</th>\n",
       "      <th>6s`</th>\n",
       "      <th>Strike rate</th>\n",
       "      <th>Pos</th>\n",
       "      <th>mode of dissmasal</th>\n",
       "      <th>Alive or dead</th>\n",
       "      <th>Opposition</th>\n",
       "      <th>Venue</th>\n",
       "      <th>Date</th>\n",
       "      <th>Match  no.</th>\n",
       "    </tr>\n",
       "    <tr>\n",
       "      <th>Start</th>\n",
       "      <th></th>\n",
       "      <th></th>\n",
       "      <th></th>\n",
       "      <th></th>\n",
       "      <th></th>\n",
       "      <th></th>\n",
       "      <th></th>\n",
       "      <th></th>\n",
       "      <th></th>\n",
       "      <th></th>\n",
       "      <th></th>\n",
       "      <th></th>\n",
       "      <th></th>\n",
       "    </tr>\n",
       "  </thead>\n",
       "  <tbody>\n",
       "    <tr>\n",
       "      <th>1</th>\n",
       "      <td>0</td>\n",
       "      <td>1</td>\n",
       "      <td>0</td>\n",
       "      <td>0</td>\n",
       "      <td>0</td>\n",
       "      <td>-</td>\n",
       "      <td>7</td>\n",
       "      <td>not out</td>\n",
       "      <td>1</td>\n",
       "      <td>v New Zealand</td>\n",
       "      <td>East London</td>\n",
       "      <td>23-Dec-12</td>\n",
       "      <td>T20I # 295</td>\n",
       "    </tr>\n",
       "    <tr>\n",
       "      <th>2</th>\n",
       "      <td>28</td>\n",
       "      <td>23</td>\n",
       "      <td>23</td>\n",
       "      <td>5</td>\n",
       "      <td>0</td>\n",
       "      <td>121.73</td>\n",
       "      <td>4</td>\n",
       "      <td>not out</td>\n",
       "      <td>1</td>\n",
       "      <td>v New Zealand</td>\n",
       "      <td>Durban</td>\n",
       "      <td>21-Dec-12</td>\n",
       "      <td>T20I # 293</td>\n",
       "    </tr>\n",
       "  </tbody>\n",
       "</table>\n",
       "</div>"
      ],
      "text/plain": [
       "      Score Mins  BF 4s 6s` Strike rate Pos mode of dissmasal  Alive or dead  \\\n",
       "Start                                                                          \n",
       "1         0    1   0  0   0           -   7           not out              1   \n",
       "2        28   23  23  5   0      121.73   4           not out              1   \n",
       "\n",
       "         Opposition        Venue       Date   Match  no.  \n",
       "Start                                                     \n",
       "1      v New Zealand  East London  23-Dec-12  T20I # 295  \n",
       "2      v New Zealand       Durban  21-Dec-12  T20I # 293  "
      ]
     },
     "execution_count": 378,
     "metadata": {},
     "output_type": "execute_result"
    }
   ],
   "source": [
    "groupqdk = qdk.groupby('Start')\n",
    "groupqdk.first()"
   ]
  },
  {
   "cell_type": "code",
   "execution_count": 379,
   "id": "f2012134",
   "metadata": {},
   "outputs": [],
   "source": [
    "qdk1 = groupqdk.get_group('1')\n",
    "qdk2 = groupqdk.get_group('2')\n"
   ]
  },
  {
   "cell_type": "code",
   "execution_count": 380,
   "id": "bbf80789",
   "metadata": {},
   "outputs": [
    {
     "name": "stderr",
     "output_type": "stream",
     "text": [
      "C:\\Users\\levas\\anaconda3\\lib\\site-packages\\lifelines\\utils\\__init__.py:1187: UserWarning: Attempting to convert an unexpected datatype 'object' to float. Suggestion: 1) use `lifelines.utils.datetimes_to_durations` to do conversions or 2) manually convert to floats/booleans.\n",
      "  warnings.warn(warning_text, UserWarning)\n",
      "C:\\Users\\levas\\anaconda3\\lib\\site-packages\\lifelines\\utils\\__init__.py:1187: UserWarning: Attempting to convert an unexpected datatype 'object' to float. Suggestion: 1) use `lifelines.utils.datetimes_to_durations` to do conversions or 2) manually convert to floats/booleans.\n",
      "  warnings.warn(warning_text, UserWarning)\n"
     ]
    },
    {
     "data": {
      "image/png": "[encoded data removed]",
      "text/plain": [
       "<Figure size 432x288 with 1 Axes>"
      ]
     },
     "metadata": {
      "needs_background": "light"
     },
     "output_type": "display_data"
    }
   ],
   "source": [
    "ax = plt.subplot(111)\n",
    "\n",
    "kmf.fit(qdk1['Score'],event_observed = qdk1['Alive or dead'], label=['1st innings'])\n",
    "kmf.survival_function_.plot(ax=ax)\n",
    "# kmf.survival_function_\n",
    "# kmf.plot_survival_function()\n",
    "\n",
    "kmf.fit(qdk2['Score'],event_observed = qdk2['Alive or dead'], label=['2nd innings'])\n",
    "kmf.survival_function_.plot(ax=ax)\n",
    "# kmf.plot_survival_function()\n",
    "\n",
    "plt.xlabel(\"Runs\")\n",
    "plt.ylabel(\"Probability\")\n",
    "plt.legend(labels =['1st innings','2nd innings'])\n",
    "plt.title('1st innings vs 2nd innings of Quinton de Kock')\n",
    "\n",
    "kmf3 = plt.gcf()"
   ]
  },
  {
   "cell_type": "code",
   "execution_count": 381,
   "id": "f408668c",
   "metadata": {},
   "outputs": [
    {
     "data": {
      "text/html": [
       "<div>\n",
       "<style scoped>\n",
       "    .dataframe tbody tr th:only-of-type {\n",
       "        vertical-align: middle;\n",
       "    }\n",
       "\n",
       "    .dataframe tbody tr th {\n",
       "        vertical-align: top;\n",
       "    }\n",
       "\n",
       "    .dataframe thead th {\n",
       "        text-align: right;\n",
       "    }\n",
       "</style>\n",
       "<table border=\"1\" class=\"dataframe\">\n",
       "  <thead>\n",
       "    <tr style=\"text-align: right;\">\n",
       "      <th></th>\n",
       "      <th>Score</th>\n",
       "      <th>Mins</th>\n",
       "      <th>BF</th>\n",
       "      <th>4s</th>\n",
       "      <th>6s`</th>\n",
       "      <th>Strike rate</th>\n",
       "      <th>Pos</th>\n",
       "      <th>mode of dissmasal</th>\n",
       "      <th>Alive or dead</th>\n",
       "      <th>Opposition</th>\n",
       "      <th>Venue</th>\n",
       "      <th>Date</th>\n",
       "      <th>Match  no.</th>\n",
       "    </tr>\n",
       "    <tr>\n",
       "      <th>Start</th>\n",
       "      <th></th>\n",
       "      <th></th>\n",
       "      <th></th>\n",
       "      <th></th>\n",
       "      <th></th>\n",
       "      <th></th>\n",
       "      <th></th>\n",
       "      <th></th>\n",
       "      <th></th>\n",
       "      <th></th>\n",
       "      <th></th>\n",
       "      <th></th>\n",
       "      <th></th>\n",
       "    </tr>\n",
       "  </thead>\n",
       "  <tbody>\n",
       "    <tr>\n",
       "      <th>1</th>\n",
       "      <td>26</td>\n",
       "      <td>32</td>\n",
       "      <td>28</td>\n",
       "      <td>2</td>\n",
       "      <td>0</td>\n",
       "      <td>92.85</td>\n",
       "      <td>4</td>\n",
       "      <td>caught</td>\n",
       "      <td>0</td>\n",
       "      <td>v Zimbabwe</td>\n",
       "      <td>Khulna</td>\n",
       "      <td>28-Nov-06</td>\n",
       "      <td>T20I # 9</td>\n",
       "    </tr>\n",
       "    <tr>\n",
       "      <th>2</th>\n",
       "      <td>13</td>\n",
       "      <td>9</td>\n",
       "      <td>9</td>\n",
       "      <td>1</td>\n",
       "      <td>0</td>\n",
       "      <td>144.44</td>\n",
       "      <td>5</td>\n",
       "      <td>caught</td>\n",
       "      <td>0</td>\n",
       "      <td>v West Indies</td>\n",
       "      <td>Johannesburg</td>\n",
       "      <td>13-Sep-07</td>\n",
       "      <td>T20I # 24</td>\n",
       "    </tr>\n",
       "  </tbody>\n",
       "</table>\n",
       "</div>"
      ],
      "text/plain": [
       "      Score Mins  BF 4s 6s` Strike rate Pos mode of dissmasal  Alive or dead  \\\n",
       "Start                                                                          \n",
       "1        26   32  28  2   0       92.85   4            caught              0   \n",
       "2        13    9   9  1   0      144.44   5            caught              0   \n",
       "\n",
       "         Opposition         Venue       Date  Match  no.  \n",
       "Start                                                     \n",
       "1         v Zimbabwe        Khulna  28-Nov-06   T20I # 9  \n",
       "2      v West Indies  Johannesburg  13-Sep-07  T20I # 24  "
      ]
     },
     "execution_count": 381,
     "metadata": {},
     "output_type": "execute_result"
    }
   ],
   "source": [
    "groupsah = sah.groupby('Start')\n",
    "groupsah.first()"
   ]
  },
  {
   "cell_type": "code",
   "execution_count": 382,
   "id": "caea4527",
   "metadata": {},
   "outputs": [],
   "source": [
    "sah1 = groupsah.get_group(1)\n",
    "sah2 = groupsah.get_group(2)\n",
    "\n"
   ]
  },
  {
   "cell_type": "code",
   "execution_count": 383,
   "id": "559bdc13",
   "metadata": {},
   "outputs": [
    {
     "name": "stderr",
     "output_type": "stream",
     "text": [
      "C:\\Users\\levas\\anaconda3\\lib\\site-packages\\lifelines\\utils\\__init__.py:1187: UserWarning: Attempting to convert an unexpected datatype 'object' to float. Suggestion: 1) use `lifelines.utils.datetimes_to_durations` to do conversions or 2) manually convert to floats/booleans.\n",
      "  warnings.warn(warning_text, UserWarning)\n",
      "C:\\Users\\levas\\anaconda3\\lib\\site-packages\\lifelines\\utils\\__init__.py:1187: UserWarning: Attempting to convert an unexpected datatype 'object' to float. Suggestion: 1) use `lifelines.utils.datetimes_to_durations` to do conversions or 2) manually convert to floats/booleans.\n",
      "  warnings.warn(warning_text, UserWarning)\n"
     ]
    },
    {
     "data": {
      "image/png": "[encoded data removed]",
      "text/plain": [
       "<Figure size 432x288 with 1 Axes>"
      ]
     },
     "metadata": {
      "needs_background": "light"
     },
     "output_type": "display_data"
    }
   ],
   "source": [
    "ax = plt.subplot(111)\n",
    "\n",
    "kmf.fit(sah1['Score'],event_observed = sah1['Alive or dead'], label=['1st innings'])\n",
    "kmf.survival_function_.plot(ax=ax)\n",
    "# kmf.survival_function_\n",
    "# kmf.plot_survival_function()\n",
    "\n",
    "kmf.fit(sah2['Score'],event_observed = sah2['Alive or dead'], label=['2nd innings'])\n",
    "kmf.survival_function_.plot(ax=ax)\n",
    "# kmf.plot_survival_function()\n",
    "\n",
    "plt.xlabel(\"Runs\")\n",
    "plt.ylabel(\"Probability\")\n",
    "plt.legend(labels =['1st innings','2nd innings'])\n",
    "plt.title('1st innings vs 2nd innings of Shakib Al Hasan')\n",
    "\n",
    "kmf3 = plt.gcf()"
   ]
  },
  {
   "cell_type": "code",
   "execution_count": 384,
   "id": "5c98c76c",
   "metadata": {},
   "outputs": [
    {
     "data": {
      "text/html": [
       "<div>\n",
       "<style scoped>\n",
       "    .dataframe tbody tr th:only-of-type {\n",
       "        vertical-align: middle;\n",
       "    }\n",
       "\n",
       "    .dataframe tbody tr th {\n",
       "        vertical-align: top;\n",
       "    }\n",
       "\n",
       "    .dataframe thead th {\n",
       "        text-align: right;\n",
       "    }\n",
       "</style>\n",
       "<table border=\"1\" class=\"dataframe\">\n",
       "  <thead>\n",
       "    <tr style=\"text-align: right;\">\n",
       "      <th></th>\n",
       "      <th>R</th>\n",
       "      <th>mins</th>\n",
       "      <th>bf</th>\n",
       "      <th>4s</th>\n",
       "      <th>6s</th>\n",
       "      <th>Strike rate</th>\n",
       "      <th>p</th>\n",
       "      <th>Mode of dissmisal</th>\n",
       "      <th>Alive</th>\n",
       "      <th>Opposition</th>\n",
       "      <th>Venue</th>\n",
       "      <th>Date</th>\n",
       "      <th>Match  no.</th>\n",
       "    </tr>\n",
       "    <tr>\n",
       "      <th>Start</th>\n",
       "      <th></th>\n",
       "      <th></th>\n",
       "      <th></th>\n",
       "      <th></th>\n",
       "      <th></th>\n",
       "      <th></th>\n",
       "      <th></th>\n",
       "      <th></th>\n",
       "      <th></th>\n",
       "      <th></th>\n",
       "      <th></th>\n",
       "      <th></th>\n",
       "      <th></th>\n",
       "    </tr>\n",
       "  </thead>\n",
       "  <tbody>\n",
       "    <tr>\n",
       "      <th>1</th>\n",
       "      <td>15</td>\n",
       "      <td>21</td>\n",
       "      <td>14</td>\n",
       "      <td>1</td>\n",
       "      <td>0</td>\n",
       "      <td>107.14</td>\n",
       "      <td>5</td>\n",
       "      <td>not out</td>\n",
       "      <td>1</td>\n",
       "      <td>v England</td>\n",
       "      <td>Adelaide</td>\n",
       "      <td>40555</td>\n",
       "      <td>T20I # 197</td>\n",
       "    </tr>\n",
       "    <tr>\n",
       "      <th>2</th>\n",
       "      <td>7</td>\n",
       "      <td>17</td>\n",
       "      <td>6</td>\n",
       "      <td>1</td>\n",
       "      <td>0</td>\n",
       "      <td>116.66</td>\n",
       "      <td>1</td>\n",
       "      <td>lbw</td>\n",
       "      <td>0</td>\n",
       "      <td>v Sri Lanka</td>\n",
       "      <td>Melbourne</td>\n",
       "      <td>41302</td>\n",
       "      <td>T20I # 300</td>\n",
       "    </tr>\n",
       "  </tbody>\n",
       "</table>\n",
       "</div>"
      ],
      "text/plain": [
       "        R mins   bf  4s  6s  Strike rate   p Mode of dissmisal   Alive  \\\n",
       "Start                                                                    \n",
       "1      15    21  14   1   0        107.14  5            not out      1   \n",
       "2       7    17   6   1   0        116.66  1                lbw      0   \n",
       "\n",
       "       Opposition      Venue   Date   Match  no.  \n",
       "Start                                             \n",
       "1        v England   Adelaide  40555  T20I # 197  \n",
       "2      v Sri Lanka  Melbourne  41302  T20I # 300  "
      ]
     },
     "execution_count": 384,
     "metadata": {},
     "output_type": "execute_result"
    }
   ],
   "source": [
    "groupaf = af.groupby('Start')\n",
    "groupaf.first()"
   ]
  },
  {
   "cell_type": "code",
   "execution_count": 385,
   "id": "adbf5be0",
   "metadata": {},
   "outputs": [],
   "source": [
    "af1 = groupaf.get_group(1)\n",
    "af2 = groupaf.get_group(2)"
   ]
  },
  {
   "cell_type": "code",
   "execution_count": 386,
   "id": "e82ae794",
   "metadata": {},
   "outputs": [
    {
     "name": "stderr",
     "output_type": "stream",
     "text": [
      "C:\\Users\\levas\\anaconda3\\lib\\site-packages\\lifelines\\utils\\__init__.py:1187: UserWarning: Attempting to convert an unexpected datatype 'object' to float. Suggestion: 1) use `lifelines.utils.datetimes_to_durations` to do conversions or 2) manually convert to floats/booleans.\n",
      "  warnings.warn(warning_text, UserWarning)\n",
      "C:\\Users\\levas\\anaconda3\\lib\\site-packages\\lifelines\\utils\\__init__.py:1187: UserWarning: Attempting to convert an unexpected datatype 'object' to float. Suggestion: 1) use `lifelines.utils.datetimes_to_durations` to do conversions or 2) manually convert to floats/booleans.\n",
      "  warnings.warn(warning_text, UserWarning)\n"
     ]
    },
    {
     "data": {
      "image/png": "[encoded data removed]",
      "text/plain": [
       "<Figure size 432x288 with 1 Axes>"
      ]
     },
     "metadata": {
      "needs_background": "light"
     },
     "output_type": "display_data"
    }
   ],
   "source": [
    "ax = plt.subplot(111)\n",
    "\n",
    "kmf.fit(af1['R'],event_observed = af1['Alive'], label=['1st innings'])\n",
    "kmf.survival_function_.plot(ax=ax)\n",
    "# kmf.survival_function_\n",
    "# kmf.plot_survival_function()\n",
    "\n",
    "kmf.fit(af2['R'],event_observed = af2['Alive'], label=['2nd innings'])\n",
    "kmf.survival_function_.plot(ax=ax)\n",
    "# kmf.plot_survival_function()\n",
    "\n",
    "plt.xlabel(\"Runs\")\n",
    "plt.ylabel(\"Probability\")\n",
    "plt.legend(labels =['1st innings','2nd innings'])\n",
    "plt.title('1st innings vs 2nd innings of Aaron Finch')\n",
    "\n",
    "kmf3 = plt.gcf()"
   ]
  },
  {
   "cell_type": "code",
   "execution_count": 387,
   "id": "28f6d2d3",
   "metadata": {},
   "outputs": [
    {
     "data": {
      "text/html": [
       "<div>\n",
       "<style scoped>\n",
       "    .dataframe tbody tr th:only-of-type {\n",
       "        vertical-align: middle;\n",
       "    }\n",
       "\n",
       "    .dataframe tbody tr th {\n",
       "        vertical-align: top;\n",
       "    }\n",
       "\n",
       "    .dataframe thead th {\n",
       "        text-align: right;\n",
       "    }\n",
       "</style>\n",
       "<table border=\"1\" class=\"dataframe\">\n",
       "  <thead>\n",
       "    <tr style=\"text-align: right;\">\n",
       "      <th></th>\n",
       "      <th>Runs</th>\n",
       "      <th>Mins</th>\n",
       "      <th>BF</th>\n",
       "      <th>4s</th>\n",
       "      <th>6s</th>\n",
       "      <th>SR</th>\n",
       "      <th>Pos</th>\n",
       "      <th>Dismissal</th>\n",
       "      <th>Alive</th>\n",
       "      <th>Opposition</th>\n",
       "      <th>Ground</th>\n",
       "      <th>Start Date</th>\n",
       "      <th>Match no</th>\n",
       "    </tr>\n",
       "    <tr>\n",
       "      <th>Inns</th>\n",
       "      <th></th>\n",
       "      <th></th>\n",
       "      <th></th>\n",
       "      <th></th>\n",
       "      <th></th>\n",
       "      <th></th>\n",
       "      <th></th>\n",
       "      <th></th>\n",
       "      <th></th>\n",
       "      <th></th>\n",
       "      <th></th>\n",
       "      <th></th>\n",
       "      <th></th>\n",
       "    </tr>\n",
       "  </thead>\n",
       "  <tbody>\n",
       "    <tr>\n",
       "      <th>1</th>\n",
       "      <td>2</td>\n",
       "      <td>6</td>\n",
       "      <td>5</td>\n",
       "      <td>0</td>\n",
       "      <td>0</td>\n",
       "      <td>40</td>\n",
       "      <td>7</td>\n",
       "      <td>caught</td>\n",
       "      <td>0</td>\n",
       "      <td>v Ireland</td>\n",
       "      <td>Colombo (PSS)</td>\n",
       "      <td>1-Feb-10</td>\n",
       "      <td>T20I # 128</td>\n",
       "    </tr>\n",
       "    <tr>\n",
       "      <th>2</th>\n",
       "      <td>23</td>\n",
       "      <td>15</td>\n",
       "      <td>12</td>\n",
       "      <td>3</td>\n",
       "      <td>0</td>\n",
       "      <td>191.66</td>\n",
       "      <td>6</td>\n",
       "      <td>caught</td>\n",
       "      <td>1</td>\n",
       "      <td>v Canada</td>\n",
       "      <td>Colombo (SSC)</td>\n",
       "      <td>4-Feb-10</td>\n",
       "      <td>T20I # 132</td>\n",
       "    </tr>\n",
       "  </tbody>\n",
       "</table>\n",
       "</div>"
      ],
      "text/plain": [
       "     Runs Mins  BF 4s 6s      SR Pos Dismissal  Alive Opposition  \\\n",
       "Inns                                                               \n",
       "1       2    6   5  0  0      40   7    caught      0  v Ireland   \n",
       "2      23   15  12  3  0  191.66   6    caught      1   v Canada   \n",
       "\n",
       "             Ground Start Date    Match no  \n",
       "Inns                                        \n",
       "1     Colombo (PSS)   1-Feb-10  T20I # 128  \n",
       "2     Colombo (SSC)   4-Feb-10  T20I # 132  "
      ]
     },
     "execution_count": 387,
     "metadata": {},
     "output_type": "execute_result"
    }
   ],
   "source": [
    "groupmn = mn.groupby('Inns')\n",
    "groupmn.first()"
   ]
  },
  {
   "cell_type": "code",
   "execution_count": 388,
   "id": "93caae91",
   "metadata": {},
   "outputs": [],
   "source": [
    "mn1 = groupmn.get_group(1)\n",
    "mn2 = groupmn.get_group(2)"
   ]
  },
  {
   "cell_type": "code",
   "execution_count": 389,
   "id": "b5eae6ee",
   "metadata": {},
   "outputs": [
    {
     "name": "stderr",
     "output_type": "stream",
     "text": [
      "C:\\Users\\levas\\anaconda3\\lib\\site-packages\\lifelines\\utils\\__init__.py:1187: UserWarning: Attempting to convert an unexpected datatype 'object' to float. Suggestion: 1) use `lifelines.utils.datetimes_to_durations` to do conversions or 2) manually convert to floats/booleans.\n",
      "  warnings.warn(warning_text, UserWarning)\n",
      "C:\\Users\\levas\\anaconda3\\lib\\site-packages\\lifelines\\utils\\__init__.py:1187: UserWarning: Attempting to convert an unexpected datatype 'object' to float. Suggestion: 1) use `lifelines.utils.datetimes_to_durations` to do conversions or 2) manually convert to floats/booleans.\n",
      "  warnings.warn(warning_text, UserWarning)\n"
     ]
    },
    {
     "data": {
      "image/png": "[encoded data removed]",
      "text/plain": [
       "<Figure size 432x288 with 1 Axes>"
      ]
     },
     "metadata": {
      "needs_background": "light"
     },
     "output_type": "display_data"
    }
   ],
   "source": [
    "ax = plt.subplot(111)\n",
    "\n",
    "kmf.fit(mn1['Runs'],event_observed = mn1['Alive'], label=['1st innings'])\n",
    "kmf.survival_function_.plot(ax=ax)\n",
    "# kmf.survival_function_\n",
    "# kmf.plot_survival_function()\n",
    "\n",
    "kmf.fit(mn2['Runs'],event_observed = mn2['Alive'], label=['2nd innings'])\n",
    "kmf.survival_function_.plot(ax=ax)\n",
    "# kmf.plot_survival_function()\n",
    "\n",
    "plt.xlabel(\"Runs\")\n",
    "plt.ylabel(\"Probability\")\n",
    "plt.legend(labels =['1st innings','2nd innings'])\n",
    "plt.title('1st innings vs 2nd innings of Mohammed Nabi')\n",
    "\n",
    "kmf3 = plt.gcf()"
   ]
  },
  {
   "cell_type": "code",
   "execution_count": null,
   "id": "5555ba08",
   "metadata": {},
   "outputs": [],
   "source": []
  },
  {
   "cell_type": "markdown",
   "id": "2a2bc45e",
   "metadata": {},
   "source": [
    "# Batting at the beginning of career VS last 5 years"
   ]
  },
  {
   "cell_type": "code",
   "execution_count": null,
   "id": "a44706bc",
   "metadata": {},
   "outputs": [],
   "source": []
  },
  {
   "cell_type": "markdown",
   "id": "a8f5361c",
   "metadata": {},
   "source": [
    "# Survival curve of batting position"
   ]
  },
  {
   "cell_type": "code",
   "execution_count": 390,
   "id": "b111a33b",
   "metadata": {},
   "outputs": [
    {
     "data": {
      "text/html": [
       "<div>\n",
       "<style scoped>\n",
       "    .dataframe tbody tr th:only-of-type {\n",
       "        vertical-align: middle;\n",
       "    }\n",
       "\n",
       "    .dataframe tbody tr th {\n",
       "        vertical-align: top;\n",
       "    }\n",
       "\n",
       "    .dataframe thead th {\n",
       "        text-align: right;\n",
       "    }\n",
       "</style>\n",
       "<table border=\"1\" class=\"dataframe\">\n",
       "  <thead>\n",
       "    <tr style=\"text-align: right;\">\n",
       "      <th></th>\n",
       "      <th>Score</th>\n",
       "      <th>Mins</th>\n",
       "      <th>BF</th>\n",
       "      <th>4s</th>\n",
       "      <th>6s`</th>\n",
       "      <th>Strike rate</th>\n",
       "      <th>mode of dissmasal</th>\n",
       "      <th>Start</th>\n",
       "      <th>Alive or dead</th>\n",
       "      <th>Opposition</th>\n",
       "      <th>venue</th>\n",
       "      <th>Date</th>\n",
       "      <th>match no.</th>\n",
       "    </tr>\n",
       "    <tr>\n",
       "      <th>Pos</th>\n",
       "      <th></th>\n",
       "      <th></th>\n",
       "      <th></th>\n",
       "      <th></th>\n",
       "      <th></th>\n",
       "      <th></th>\n",
       "      <th></th>\n",
       "      <th></th>\n",
       "      <th></th>\n",
       "      <th></th>\n",
       "      <th></th>\n",
       "      <th></th>\n",
       "      <th></th>\n",
       "    </tr>\n",
       "  </thead>\n",
       "  <tbody>\n",
       "    <tr>\n",
       "      <th>1</th>\n",
       "      <td>28</td>\n",
       "      <td>28</td>\n",
       "      <td>19</td>\n",
       "      <td>5</td>\n",
       "      <td>0</td>\n",
       "      <td>147.36</td>\n",
       "      <td>bowled</td>\n",
       "      <td>1</td>\n",
       "      <td>0</td>\n",
       "      <td>v South Africa</td>\n",
       "      <td>Durban</td>\n",
       "      <td>9-Jan-11</td>\n",
       "      <td>T20I # 196</td>\n",
       "    </tr>\n",
       "    <tr>\n",
       "      <th>2</th>\n",
       "      <td>70</td>\n",
       "      <td>67</td>\n",
       "      <td>41</td>\n",
       "      <td>10</td>\n",
       "      <td>1</td>\n",
       "      <td>170.73</td>\n",
       "      <td>caught</td>\n",
       "      <td>2</td>\n",
       "      <td>0</td>\n",
       "      <td>v New Zealand</td>\n",
       "      <td>Chennai</td>\n",
       "      <td>11-Sep-12</td>\n",
       "      <td>T20I # 261</td>\n",
       "    </tr>\n",
       "    <tr>\n",
       "      <th>3</th>\n",
       "      <td>14</td>\n",
       "      <td>15</td>\n",
       "      <td>12</td>\n",
       "      <td>2</td>\n",
       "      <td>0</td>\n",
       "      <td>116.66</td>\n",
       "      <td>caught</td>\n",
       "      <td>1</td>\n",
       "      <td>0</td>\n",
       "      <td>v West Indies</td>\n",
       "      <td>Port of Spain</td>\n",
       "      <td>4-Jun-11</td>\n",
       "      <td>T20I # 200</td>\n",
       "    </tr>\n",
       "    <tr>\n",
       "      <th>4</th>\n",
       "      <td>4</td>\n",
       "      <td>5</td>\n",
       "      <td>5</td>\n",
       "      <td>0</td>\n",
       "      <td>0</td>\n",
       "      <td>80</td>\n",
       "      <td>caught</td>\n",
       "      <td>1</td>\n",
       "      <td>0</td>\n",
       "      <td>v England</td>\n",
       "      <td>Manchester</td>\n",
       "      <td>31-Aug-11</td>\n",
       "      <td>T20I # 204</td>\n",
       "    </tr>\n",
       "    <tr>\n",
       "      <th>5</th>\n",
       "      <td>26</td>\n",
       "      <td>30</td>\n",
       "      <td>21</td>\n",
       "      <td>3</td>\n",
       "      <td>1</td>\n",
       "      <td>123.8</td>\n",
       "      <td>not out</td>\n",
       "      <td>None</td>\n",
       "      <td>1</td>\n",
       "      <td>v Zimbabwe</td>\n",
       "      <td>Harare</td>\n",
       "      <td>12-Jun-10</td>\n",
       "      <td>T20I # 182</td>\n",
       "    </tr>\n",
       "    <tr>\n",
       "      <th>6</th>\n",
       "      <td>0</td>\n",
       "      <td>1</td>\n",
       "      <td>2</td>\n",
       "      <td>0</td>\n",
       "      <td>0</td>\n",
       "      <td>0</td>\n",
       "      <td>caught</td>\n",
       "      <td>1</td>\n",
       "      <td>0</td>\n",
       "      <td>v Ireland</td>\n",
       "      <td>Dublin (Malahide)</td>\n",
       "      <td>27-Jun-18</td>\n",
       "      <td>T20I # 678</td>\n",
       "    </tr>\n",
       "  </tbody>\n",
       "</table>\n",
       "</div>"
      ],
      "text/plain": [
       "    Score Mins  BF  4s 6s` Strike rate mode of dissmasal Start  Alive or dead  \\\n",
       "Pos                                                                             \n",
       "1      28   28  19   5   0      147.36            bowled     1              0   \n",
       "2      70   67  41  10   1      170.73            caught     2              0   \n",
       "3      14   15  12   2   0      116.66            caught     1              0   \n",
       "4       4    5   5   0   0          80            caught     1              0   \n",
       "5      26   30  21   3   1       123.8           not out  None              1   \n",
       "6       0    1   2   0   0           0            caught     1              0   \n",
       "\n",
       "        Opposition              venue       Date    match no.  \n",
       "Pos                                                            \n",
       "1    v South Africa             Durban   9-Jan-11  T20I # 196  \n",
       "2     v New Zealand            Chennai  11-Sep-12  T20I # 261  \n",
       "3     v West Indies      Port of Spain   4-Jun-11  T20I # 200  \n",
       "4         v England         Manchester  31-Aug-11  T20I # 204  \n",
       "5        v Zimbabwe             Harare  12-Jun-10  T20I # 182  \n",
       "6         v Ireland  Dublin (Malahide)  27-Jun-18  T20I # 678  "
      ]
     },
     "execution_count": 390,
     "metadata": {},
     "output_type": "execute_result"
    }
   ],
   "source": [
    "vkposition = vk.groupby('Pos')\n",
    "vkposition.first()"
   ]
  },
  {
   "cell_type": "code",
   "execution_count": 391,
   "id": "0481018c",
   "metadata": {
    "scrolled": true
   },
   "outputs": [],
   "source": [
    "vkp1 = vkposition.get_group('1')\n",
    "vkp2 = vkposition.get_group('2')\n",
    "vkp3 = vkposition.get_group('3')\n",
    "vkp4 = vkposition.get_group('4')\n",
    "vkp5 = vkposition.get_group('5')"
   ]
  },
  {
   "cell_type": "code",
   "execution_count": 392,
   "id": "42195ab5",
   "metadata": {},
   "outputs": [
    {
     "name": "stderr",
     "output_type": "stream",
     "text": [
      "C:\\Users\\levas\\anaconda3\\lib\\site-packages\\lifelines\\utils\\__init__.py:1187: UserWarning: Attempting to convert an unexpected datatype 'object' to float. Suggestion: 1) use `lifelines.utils.datetimes_to_durations` to do conversions or 2) manually convert to floats/booleans.\n",
      "  warnings.warn(warning_text, UserWarning)\n",
      "C:\\Users\\levas\\anaconda3\\lib\\site-packages\\lifelines\\utils\\__init__.py:1187: UserWarning: Attempting to convert an unexpected datatype 'object' to float. Suggestion: 1) use `lifelines.utils.datetimes_to_durations` to do conversions or 2) manually convert to floats/booleans.\n",
      "  warnings.warn(warning_text, UserWarning)\n"
     ]
    },
    {
     "data": {
      "image/png": "[encoded data removed]",
      "text/plain": [
       "<Figure size 432x288 with 1 Axes>"
      ]
     },
     "metadata": {
      "needs_background": "light"
     },
     "output_type": "display_data"
    }
   ],
   "source": [
    "ax = plt.subplot(111)\n",
    "\n",
    "kmf.fit(vkp3['Score'],event_observed = vkp3['Alive or dead'], label=['Position 3'])\n",
    "kmf.survival_function_.plot(ax=ax)\n",
    "# kmf.survival_function_\n",
    "# kmf.plot_survival_function()\n",
    "\n",
    "kmf.fit(vkp4['Score'],event_observed = vkp4['Alive or dead'], label=['Position 4'])\n",
    "kmf.survival_function_.plot(ax=ax)\n",
    "# kmf.plot_survival_function()\n",
    "\n",
    "plt.xlabel(\"Runs\")\n",
    "plt.ylabel(\"Probability\")\n",
    "plt.legend(labels =['Position3','Position 4'])\n",
    "plt.title('Batting Position of Virat Kohli')\n",
    "\n",
    "kmf2 = plt.gcf()"
   ]
  },
  {
   "cell_type": "code",
   "execution_count": 393,
   "id": "668d586f",
   "metadata": {},
   "outputs": [
    {
     "data": {
      "text/html": [
       "<div>\n",
       "<style scoped>\n",
       "    .dataframe tbody tr th:only-of-type {\n",
       "        vertical-align: middle;\n",
       "    }\n",
       "\n",
       "    .dataframe tbody tr th {\n",
       "        vertical-align: top;\n",
       "    }\n",
       "\n",
       "    .dataframe thead th {\n",
       "        text-align: right;\n",
       "    }\n",
       "</style>\n",
       "<table border=\"1\" class=\"dataframe\">\n",
       "  <thead>\n",
       "    <tr style=\"text-align: right;\">\n",
       "      <th></th>\n",
       "      <th>Score</th>\n",
       "      <th>Mins</th>\n",
       "      <th>BF</th>\n",
       "      <th>4s</th>\n",
       "      <th>6s`</th>\n",
       "      <th>Strike rate</th>\n",
       "      <th>mode of dissmasal</th>\n",
       "      <th>Inn</th>\n",
       "      <th>Alive or dead</th>\n",
       "      <th>Opposition</th>\n",
       "      <th>Venue</th>\n",
       "      <th>Date</th>\n",
       "      <th>Match  no.</th>\n",
       "    </tr>\n",
       "    <tr>\n",
       "      <th>Pos</th>\n",
       "      <th></th>\n",
       "      <th></th>\n",
       "      <th></th>\n",
       "      <th></th>\n",
       "      <th></th>\n",
       "      <th></th>\n",
       "      <th></th>\n",
       "      <th></th>\n",
       "      <th></th>\n",
       "      <th></th>\n",
       "      <th></th>\n",
       "      <th></th>\n",
       "      <th></th>\n",
       "    </tr>\n",
       "  </thead>\n",
       "  <tbody>\n",
       "    <tr>\n",
       "      <th>1</th>\n",
       "      <td>45</td>\n",
       "      <td>-</td>\n",
       "      <td>44</td>\n",
       "      <td>3</td>\n",
       "      <td>0</td>\n",
       "      <td>102.27</td>\n",
       "      <td>caught</td>\n",
       "      <td>1</td>\n",
       "      <td>0</td>\n",
       "      <td>v Australia</td>\n",
       "      <td>Dubai (DSC)</td>\n",
       "      <td>26-Oct-18</td>\n",
       "      <td>T20I # 702</td>\n",
       "    </tr>\n",
       "    <tr>\n",
       "      <th>2</th>\n",
       "      <td>17</td>\n",
       "      <td>-</td>\n",
       "      <td>13</td>\n",
       "      <td>3</td>\n",
       "      <td>0</td>\n",
       "      <td>130.76</td>\n",
       "      <td>lbw</td>\n",
       "      <td>1</td>\n",
       "      <td>0</td>\n",
       "      <td>v West Indies</td>\n",
       "      <td>Karachi</td>\n",
       "      <td>1-Apr-18</td>\n",
       "      <td>T20I # 663</td>\n",
       "    </tr>\n",
       "    <tr>\n",
       "      <th>3</th>\n",
       "      <td>15</td>\n",
       "      <td>13</td>\n",
       "      <td>11</td>\n",
       "      <td>2</td>\n",
       "      <td>0</td>\n",
       "      <td>136.36</td>\n",
       "      <td>not out</td>\n",
       "      <td>2</td>\n",
       "      <td>1</td>\n",
       "      <td>v England</td>\n",
       "      <td>Manchester</td>\n",
       "      <td>7-Sep-16</td>\n",
       "      <td>T20I # 566</td>\n",
       "    </tr>\n",
       "    <tr>\n",
       "      <th>4</th>\n",
       "      <td>43</td>\n",
       "      <td>-</td>\n",
       "      <td>38</td>\n",
       "      <td>3</td>\n",
       "      <td>1</td>\n",
       "      <td>113.15</td>\n",
       "      <td>bowled</td>\n",
       "      <td>1</td>\n",
       "      <td>0</td>\n",
       "      <td>v West Indies</td>\n",
       "      <td>Port of Spain</td>\n",
       "      <td>1-Apr-17</td>\n",
       "      <td>T20I # 604</td>\n",
       "    </tr>\n",
       "    <tr>\n",
       "      <th>5</th>\n",
       "      <td>41</td>\n",
       "      <td>68</td>\n",
       "      <td>41</td>\n",
       "      <td>1</td>\n",
       "      <td>1</td>\n",
       "      <td>100</td>\n",
       "      <td>caught</td>\n",
       "      <td>1</td>\n",
       "      <td>0</td>\n",
       "      <td>v New Zealand</td>\n",
       "      <td>Wellington</td>\n",
       "      <td>22-Jan-18</td>\n",
       "      <td>T20I # 639</td>\n",
       "    </tr>\n",
       "  </tbody>\n",
       "</table>\n",
       "</div>"
      ],
      "text/plain": [
       "    Score Mins  BF 4s 6s` Strike rate mode of dissmasal Inn  Alive or dead  \\\n",
       "Pos                                                                          \n",
       "1      45    -  44  3   0      102.27            caught   1              0   \n",
       "2      17    -  13  3   0      130.76               lbw   1              0   \n",
       "3      15   13  11  2   0      136.36           not out   2              1   \n",
       "4      43    -  38  3   1      113.15            bowled   1              0   \n",
       "5      41   68  41  1   1         100            caught   1              0   \n",
       "\n",
       "       Opposition          Venue       Date   Match  no.  \n",
       "Pos                                                       \n",
       "1      v Australia    Dubai (DSC)  26-Oct-18  T20I # 702  \n",
       "2    v West Indies        Karachi   1-Apr-18  T20I # 663  \n",
       "3        v England     Manchester   7-Sep-16  T20I # 566  \n",
       "4    v West Indies  Port of Spain   1-Apr-17  T20I # 604  \n",
       "5    v New Zealand     Wellington  22-Jan-18  T20I # 639  "
      ]
     },
     "execution_count": 393,
     "metadata": {},
     "output_type": "execute_result"
    }
   ],
   "source": [
    "baposition = ba.groupby('Pos')\n",
    "baposition.first()"
   ]
  },
  {
   "cell_type": "code",
   "execution_count": 394,
   "id": "0e3e46c6",
   "metadata": {},
   "outputs": [],
   "source": [
    "bap1 = baposition.get_group('1')\n",
    "bap2 = baposition.get_group('2')\n",
    "bap3 = baposition.get_group('3')\n",
    "bap4 = baposition.get_group('4')\n",
    "bap5 = baposition.get_group('5')"
   ]
  },
  {
   "cell_type": "code",
   "execution_count": 395,
   "id": "e8cc634e",
   "metadata": {},
   "outputs": [],
   "source": [
    "# bap 1 2 3 "
   ]
  },
  {
   "cell_type": "code",
   "execution_count": 396,
   "id": "fdf1a3b2",
   "metadata": {},
   "outputs": [
    {
     "name": "stderr",
     "output_type": "stream",
     "text": [
      "C:\\Users\\levas\\anaconda3\\lib\\site-packages\\lifelines\\utils\\__init__.py:1187: UserWarning: Attempting to convert an unexpected datatype 'object' to float. Suggestion: 1) use `lifelines.utils.datetimes_to_durations` to do conversions or 2) manually convert to floats/booleans.\n",
      "  warnings.warn(warning_text, UserWarning)\n",
      "C:\\Users\\levas\\anaconda3\\lib\\site-packages\\lifelines\\utils\\__init__.py:1187: UserWarning: Attempting to convert an unexpected datatype 'object' to float. Suggestion: 1) use `lifelines.utils.datetimes_to_durations` to do conversions or 2) manually convert to floats/booleans.\n",
      "  warnings.warn(warning_text, UserWarning)\n",
      "C:\\Users\\levas\\anaconda3\\lib\\site-packages\\lifelines\\utils\\__init__.py:1187: UserWarning: Attempting to convert an unexpected datatype 'object' to float. Suggestion: 1) use `lifelines.utils.datetimes_to_durations` to do conversions or 2) manually convert to floats/booleans.\n",
      "  warnings.warn(warning_text, UserWarning)\n"
     ]
    },
    {
     "data": {
      "image/png": "[encoded data removed]",
      "text/plain": [
       "<Figure size 432x288 with 1 Axes>"
      ]
     },
     "metadata": {
      "needs_background": "light"
     },
     "output_type": "display_data"
    }
   ],
   "source": [
    "ax = plt.subplot(111)\n",
    "\n",
    "kmf.fit(bap1['Score'],event_observed = bap1['Alive or dead'], label=['Position 3'])\n",
    "kmf.survival_function_.plot(ax=ax)\n",
    "# kmf.survival_function_\n",
    "# kmf.plot_survival_function()\n",
    "\n",
    "kmf.fit(bap2['Score'],event_observed = bap2['Alive or dead'], label=['Position 4'])\n",
    "kmf.survival_function_.plot(ax=ax)\n",
    "# kmf.plot_survival_function()\n",
    "\n",
    "kmf.fit(bap3['Score'],event_observed = bap3['Alive or dead'], label=['Position 4'])\n",
    "kmf.survival_function_.plot(ax=ax)\n",
    "# kmf.plot_survival_function()\n",
    "\n",
    "plt.xlabel(\"Runs\")\n",
    "plt.ylabel(\"Probability\")\n",
    "plt.legend(labels =['Position 1','Position 2','Position 3'])\n",
    "plt.title('Batting Position of Babar Azam')\n",
    "\n",
    "kmf2 = plt.gcf()"
   ]
  },
  {
   "cell_type": "code",
   "execution_count": 397,
   "id": "9a2cda99",
   "metadata": {},
   "outputs": [
    {
     "data": {
      "text/html": [
       "<div>\n",
       "<style scoped>\n",
       "    .dataframe tbody tr th:only-of-type {\n",
       "        vertical-align: middle;\n",
       "    }\n",
       "\n",
       "    .dataframe tbody tr th {\n",
       "        vertical-align: top;\n",
       "    }\n",
       "\n",
       "    .dataframe thead th {\n",
       "        text-align: right;\n",
       "    }\n",
       "</style>\n",
       "<table border=\"1\" class=\"dataframe\">\n",
       "  <thead>\n",
       "    <tr style=\"text-align: right;\">\n",
       "      <th></th>\n",
       "      <th>Score</th>\n",
       "      <th>Mins</th>\n",
       "      <th>BF</th>\n",
       "      <th>4s</th>\n",
       "      <th>6s`</th>\n",
       "      <th>Strike rate</th>\n",
       "      <th>mode of dissmasal</th>\n",
       "      <th>Start</th>\n",
       "      <th>Alive or dead</th>\n",
       "      <th>Opposition</th>\n",
       "      <th>Venue</th>\n",
       "      <th>Date</th>\n",
       "      <th>Match  no.</th>\n",
       "    </tr>\n",
       "    <tr>\n",
       "      <th>Pos</th>\n",
       "      <th></th>\n",
       "      <th></th>\n",
       "      <th></th>\n",
       "      <th></th>\n",
       "      <th></th>\n",
       "      <th></th>\n",
       "      <th></th>\n",
       "      <th></th>\n",
       "      <th></th>\n",
       "      <th></th>\n",
       "      <th></th>\n",
       "      <th></th>\n",
       "      <th></th>\n",
       "    </tr>\n",
       "  </thead>\n",
       "  <tbody>\n",
       "    <tr>\n",
       "      <th>1</th>\n",
       "      <td>50</td>\n",
       "      <td>55</td>\n",
       "      <td>39</td>\n",
       "      <td>7</td>\n",
       "      <td>1</td>\n",
       "      <td>128.2</td>\n",
       "      <td>caught</td>\n",
       "      <td>1.0</td>\n",
       "      <td>0.0</td>\n",
       "      <td>v U.A.E.</td>\n",
       "      <td>Mirpur</td>\n",
       "      <td>25-Feb-16</td>\n",
       "      <td>T20I # 510</td>\n",
       "    </tr>\n",
       "    <tr>\n",
       "      <th>2</th>\n",
       "      <td>66</td>\n",
       "      <td>94</td>\n",
       "      <td>54</td>\n",
       "      <td>5</td>\n",
       "      <td>2</td>\n",
       "      <td>122.22</td>\n",
       "      <td>not out</td>\n",
       "      <td>2.0</td>\n",
       "      <td>1.0</td>\n",
       "      <td>v South Africa</td>\n",
       "      <td>Colombo (RPS)</td>\n",
       "      <td>10-Sep-21</td>\n",
       "      <td>T20I # 1265</td>\n",
       "    </tr>\n",
       "    <tr>\n",
       "      <th>3</th>\n",
       "      <td>2</td>\n",
       "      <td>-</td>\n",
       "      <td>3</td>\n",
       "      <td>0</td>\n",
       "      <td>0</td>\n",
       "      <td>66.66</td>\n",
       "      <td>lbw</td>\n",
       "      <td>2.0</td>\n",
       "      <td>0.0</td>\n",
       "      <td>v Australia</td>\n",
       "      <td>Perth</td>\n",
       "      <td>31-Oct-10</td>\n",
       "      <td>T20I # 192</td>\n",
       "    </tr>\n",
       "    <tr>\n",
       "      <th>4</th>\n",
       "      <td>29</td>\n",
       "      <td>26</td>\n",
       "      <td>23</td>\n",
       "      <td>1</td>\n",
       "      <td>1</td>\n",
       "      <td>126.08</td>\n",
       "      <td>caught</td>\n",
       "      <td>1.0</td>\n",
       "      <td>0.0</td>\n",
       "      <td>v New Zealand</td>\n",
       "      <td>Providence</td>\n",
       "      <td>30-Apr-10</td>\n",
       "      <td>T20I # 151</td>\n",
       "    </tr>\n",
       "    <tr>\n",
       "      <th>5</th>\n",
       "      <td>9</td>\n",
       "      <td>6</td>\n",
       "      <td>8</td>\n",
       "      <td>0</td>\n",
       "      <td>1</td>\n",
       "      <td>112.5</td>\n",
       "      <td>caught</td>\n",
       "      <td>1.0</td>\n",
       "      <td>0.0</td>\n",
       "      <td>v Zimbabwe</td>\n",
       "      <td>Providence</td>\n",
       "      <td>3-May-10</td>\n",
       "      <td>T20I # 157</td>\n",
       "    </tr>\n",
       "    <tr>\n",
       "      <th>6</th>\n",
       "      <td>19</td>\n",
       "      <td>21</td>\n",
       "      <td>24</td>\n",
       "      <td>1</td>\n",
       "      <td>0</td>\n",
       "      <td>79.16</td>\n",
       "      <td>stumped</td>\n",
       "      <td>2.0</td>\n",
       "      <td>0.0</td>\n",
       "      <td>v Australia</td>\n",
       "      <td>Bridgetown</td>\n",
       "      <td>9-May-10</td>\n",
       "      <td>T20I # 170</td>\n",
       "    </tr>\n",
       "    <tr>\n",
       "      <th>7</th>\n",
       "      <td>7</td>\n",
       "      <td>20</td>\n",
       "      <td>11</td>\n",
       "      <td>1</td>\n",
       "      <td>0</td>\n",
       "      <td>63.63</td>\n",
       "      <td>caught</td>\n",
       "      <td>2.0</td>\n",
       "      <td>0.0</td>\n",
       "      <td>v India</td>\n",
       "      <td>Pallekele</td>\n",
       "      <td>7-Aug-12</td>\n",
       "      <td>T20I # 255</td>\n",
       "    </tr>\n",
       "  </tbody>\n",
       "</table>\n",
       "</div>"
      ],
      "text/plain": [
       "    Score Mins  BF 4s 6s` Strike rate mode of dissmasal  Start  Alive or dead  \\\n",
       "Pos                                                                             \n",
       "1      50   55  39  7   1       128.2            caught    1.0            0.0   \n",
       "2      66   94  54  5   2      122.22           not out    2.0            1.0   \n",
       "3       2    -   3  0   0       66.66               lbw    2.0            0.0   \n",
       "4      29   26  23  1   1      126.08            caught    1.0            0.0   \n",
       "5       9    6   8  0   1       112.5            caught    1.0            0.0   \n",
       "6      19   21  24  1   0       79.16           stumped    2.0            0.0   \n",
       "7       7   20  11  1   0       63.63            caught    2.0            0.0   \n",
       "\n",
       "        Opposition          Venue       Date    Match  no.  \n",
       "Pos                                                         \n",
       "1          v U.A.E.         Mirpur  25-Feb-16   T20I # 510  \n",
       "2    v South Africa  Colombo (RPS)  10-Sep-21  T20I # 1265  \n",
       "3       v Australia          Perth  31-Oct-10   T20I # 192  \n",
       "4     v New Zealand     Providence  30-Apr-10   T20I # 151  \n",
       "5        v Zimbabwe     Providence   3-May-10   T20I # 157  \n",
       "6       v Australia     Bridgetown   9-May-10   T20I # 170  \n",
       "7           v India      Pallekele   7-Aug-12   T20I # 255  "
      ]
     },
     "execution_count": 397,
     "metadata": {},
     "output_type": "execute_result"
    }
   ],
   "source": [
    "dcposition = dc.groupby('Pos')\n",
    "dcposition.first()"
   ]
  },
  {
   "cell_type": "code",
   "execution_count": 398,
   "id": "63aa8605",
   "metadata": {},
   "outputs": [],
   "source": [
    "dcp1 = dcposition.get_group('1')\n",
    "dcp2 = dcposition.get_group('2')\n",
    "dcp3 = dcposition.get_group('3')\n",
    "dcp4 = dcposition.get_group('4')\n",
    "dcp5 = dcposition.get_group('5')\n",
    "dcp6 = dcposition.get_group('6')\n",
    "dcp7 = dcposition.get_group('7')"
   ]
  },
  {
   "cell_type": "code",
   "execution_count": 399,
   "id": "4d1301a5",
   "metadata": {},
   "outputs": [],
   "source": [
    "# dcp3 \n",
    "# dcp4"
   ]
  },
  {
   "cell_type": "code",
   "execution_count": 400,
   "id": "9e267f82",
   "metadata": {},
   "outputs": [
    {
     "name": "stderr",
     "output_type": "stream",
     "text": [
      "C:\\Users\\levas\\anaconda3\\lib\\site-packages\\lifelines\\utils\\__init__.py:1187: UserWarning: Attempting to convert an unexpected datatype 'object' to float. Suggestion: 1) use `lifelines.utils.datetimes_to_durations` to do conversions or 2) manually convert to floats/booleans.\n",
      "  warnings.warn(warning_text, UserWarning)\n",
      "C:\\Users\\levas\\anaconda3\\lib\\site-packages\\lifelines\\utils\\__init__.py:1187: UserWarning: Attempting to convert an unexpected datatype 'object' to float. Suggestion: 1) use `lifelines.utils.datetimes_to_durations` to do conversions or 2) manually convert to floats/booleans.\n",
      "  warnings.warn(warning_text, UserWarning)\n"
     ]
    },
    {
     "data": {
      "image/png": "[encoded data removed]",
      "text/plain": [
       "<Figure size 432x288 with 1 Axes>"
      ]
     },
     "metadata": {
      "needs_background": "light"
     },
     "output_type": "display_data"
    }
   ],
   "source": [
    "ax = plt.subplot(111)\n",
    "\n",
    "kmf.fit(dcp3['Score'],event_observed = dcp3['Alive or dead'], label=['Position 3'])\n",
    "kmf.survival_function_.plot(ax=ax)\n",
    "# kmf.survival_function_\n",
    "# kmf.plot_survival_function()\n",
    "\n",
    "kmf.fit(dcp4['Score'],event_observed = dcp4['Alive or dead'], label=['Position 4'])\n",
    "kmf.survival_function_.plot(ax=ax)\n",
    "# kmf.plot_survival_function()\n",
    "\n",
    "plt.xlabel(\"Runs\")\n",
    "plt.ylabel(\"Probability\")\n",
    "plt.legend(labels =['Position 3','Position 4'])\n",
    "plt.title('Batting Position of Dinesh Chandimal')\n",
    "\n",
    "kmf2 = plt.gcf()"
   ]
  },
  {
   "cell_type": "code",
   "execution_count": 401,
   "id": "f24b7f90",
   "metadata": {},
   "outputs": [
    {
     "data": {
      "text/html": [
       "<div>\n",
       "<style scoped>\n",
       "    .dataframe tbody tr th:only-of-type {\n",
       "        vertical-align: middle;\n",
       "    }\n",
       "\n",
       "    .dataframe tbody tr th {\n",
       "        vertical-align: top;\n",
       "    }\n",
       "\n",
       "    .dataframe thead th {\n",
       "        text-align: right;\n",
       "    }\n",
       "</style>\n",
       "<table border=\"1\" class=\"dataframe\">\n",
       "  <thead>\n",
       "    <tr style=\"text-align: right;\">\n",
       "      <th></th>\n",
       "      <th>Score</th>\n",
       "      <th>Mins</th>\n",
       "      <th>BF</th>\n",
       "      <th>4s</th>\n",
       "      <th>6s`</th>\n",
       "      <th>Strike rate</th>\n",
       "      <th>mode of dissmasal</th>\n",
       "      <th>Start</th>\n",
       "      <th>Alive or dead</th>\n",
       "      <th>Opposition</th>\n",
       "      <th>Venue</th>\n",
       "      <th>Date</th>\n",
       "      <th>Match  no.</th>\n",
       "    </tr>\n",
       "    <tr>\n",
       "      <th>Pos</th>\n",
       "      <th></th>\n",
       "      <th></th>\n",
       "      <th></th>\n",
       "      <th></th>\n",
       "      <th></th>\n",
       "      <th></th>\n",
       "      <th></th>\n",
       "      <th></th>\n",
       "      <th></th>\n",
       "      <th></th>\n",
       "      <th></th>\n",
       "      <th></th>\n",
       "      <th></th>\n",
       "    </tr>\n",
       "  </thead>\n",
       "  <tbody>\n",
       "    <tr>\n",
       "      <th>1</th>\n",
       "      <td>44</td>\n",
       "      <td>35</td>\n",
       "      <td>29</td>\n",
       "      <td>5</td>\n",
       "      <td>2</td>\n",
       "      <td>151.72</td>\n",
       "      <td>caught</td>\n",
       "      <td>1</td>\n",
       "      <td>0</td>\n",
       "      <td>v Australia</td>\n",
       "      <td>Southampton</td>\n",
       "      <td>4-Sep-20</td>\n",
       "      <td>T20I # 1095</td>\n",
       "    </tr>\n",
       "    <tr>\n",
       "      <th>2</th>\n",
       "      <td>73</td>\n",
       "      <td>-</td>\n",
       "      <td>49</td>\n",
       "      <td>3</td>\n",
       "      <td>4</td>\n",
       "      <td>148.97</td>\n",
       "      <td>not out</td>\n",
       "      <td>2</td>\n",
       "      <td>1</td>\n",
       "      <td>v Sri Lanka</td>\n",
       "      <td>Southampton</td>\n",
       "      <td>5-Jul-16</td>\n",
       "      <td>T20I # 561</td>\n",
       "    </tr>\n",
       "    <tr>\n",
       "      <th>4</th>\n",
       "      <td>3</td>\n",
       "      <td>14</td>\n",
       "      <td>8</td>\n",
       "      <td>0</td>\n",
       "      <td>0</td>\n",
       "      <td>37.5</td>\n",
       "      <td>caught</td>\n",
       "      <td>1</td>\n",
       "      <td>0</td>\n",
       "      <td>v West Indies</td>\n",
       "      <td>Bridgetown</td>\n",
       "      <td>13-Mar-14</td>\n",
       "      <td>T20I # 364</td>\n",
       "    </tr>\n",
       "    <tr>\n",
       "      <th>5</th>\n",
       "      <td>0</td>\n",
       "      <td>2</td>\n",
       "      <td>0</td>\n",
       "      <td>0</td>\n",
       "      <td>0</td>\n",
       "      <td>-</td>\n",
       "      <td>not out</td>\n",
       "      <td>2</td>\n",
       "      <td>1</td>\n",
       "      <td>v West Indies</td>\n",
       "      <td>Nottingham</td>\n",
       "      <td>24-Jun-12</td>\n",
       "      <td>T20I # 246</td>\n",
       "    </tr>\n",
       "    <tr>\n",
       "      <th>6</th>\n",
       "      <td>3</td>\n",
       "      <td>6</td>\n",
       "      <td>4</td>\n",
       "      <td>0</td>\n",
       "      <td>0</td>\n",
       "      <td>75</td>\n",
       "      <td>caught</td>\n",
       "      <td>2</td>\n",
       "      <td>0</td>\n",
       "      <td>v Pakistan</td>\n",
       "      <td>Dubai (DSC)</td>\n",
       "      <td>23-Feb-12</td>\n",
       "      <td>T20I # 226</td>\n",
       "    </tr>\n",
       "    <tr>\n",
       "      <th>7</th>\n",
       "      <td>13</td>\n",
       "      <td>24</td>\n",
       "      <td>11</td>\n",
       "      <td>1</td>\n",
       "      <td>0</td>\n",
       "      <td>118.18</td>\n",
       "      <td>run out</td>\n",
       "      <td>2</td>\n",
       "      <td>0</td>\n",
       "      <td>v West Indies</td>\n",
       "      <td>The Oval</td>\n",
       "      <td>25-Sep-11</td>\n",
       "      <td>T20I # 208</td>\n",
       "    </tr>\n",
       "  </tbody>\n",
       "</table>\n",
       "</div>"
      ],
      "text/plain": [
       "    Score Mins  BF 4s 6s` Strike rate mode of dissmasal  Start  Alive or dead  \\\n",
       "Pos                                                                             \n",
       "1      44   35  29  5   2      151.72            caught      1              0   \n",
       "2      73    -  49  3   4      148.97           not out      2              1   \n",
       "4       3   14   8  0   0        37.5            caught      1              0   \n",
       "5       0    2   0  0   0           -           not out      2              1   \n",
       "6       3    6   4  0   0          75            caught      2              0   \n",
       "7      13   24  11  1   0      118.18           run out      2              0   \n",
       "\n",
       "       Opposition        Venue       Date    Match  no.  \n",
       "Pos                                                      \n",
       "1      v Australia  Southampton   4-Sep-20  T20I # 1095  \n",
       "2      v Sri Lanka  Southampton   5-Jul-16   T20I # 561  \n",
       "4    v West Indies   Bridgetown  13-Mar-14   T20I # 364  \n",
       "5    v West Indies   Nottingham  24-Jun-12   T20I # 246  \n",
       "6       v Pakistan  Dubai (DSC)  23-Feb-12   T20I # 226  \n",
       "7    v West Indies     The Oval  25-Sep-11   T20I # 208  "
      ]
     },
     "execution_count": 401,
     "metadata": {},
     "output_type": "execute_result"
    }
   ],
   "source": [
    "jbposition = jb.groupby('Pos')\n",
    "jbposition.first()"
   ]
  },
  {
   "cell_type": "code",
   "execution_count": 402,
   "id": "22d85483",
   "metadata": {},
   "outputs": [],
   "source": [
    "jbp1 = jbposition.get_group('1')\n",
    "jbp2 = jbposition.get_group('2')\n",
    "jbp4 = jbposition.get_group('4')\n",
    "jbp5 = jbposition.get_group('5')\n",
    "jbp6 = jbposition.get_group('6')\n",
    "jbp7 = jbposition.get_group('7')"
   ]
  },
  {
   "cell_type": "code",
   "execution_count": 403,
   "id": "c42b9557",
   "metadata": {},
   "outputs": [],
   "source": [
    "# jbp2 \n",
    "# jbp5\n",
    "# jbp6"
   ]
  },
  {
   "cell_type": "code",
   "execution_count": 404,
   "id": "8363a4f3",
   "metadata": {},
   "outputs": [
    {
     "name": "stderr",
     "output_type": "stream",
     "text": [
      "C:\\Users\\levas\\anaconda3\\lib\\site-packages\\lifelines\\utils\\__init__.py:1187: UserWarning: Attempting to convert an unexpected datatype 'object' to float. Suggestion: 1) use `lifelines.utils.datetimes_to_durations` to do conversions or 2) manually convert to floats/booleans.\n",
      "  warnings.warn(warning_text, UserWarning)\n",
      "C:\\Users\\levas\\anaconda3\\lib\\site-packages\\lifelines\\utils\\__init__.py:1187: UserWarning: Attempting to convert an unexpected datatype 'object' to float. Suggestion: 1) use `lifelines.utils.datetimes_to_durations` to do conversions or 2) manually convert to floats/booleans.\n",
      "  warnings.warn(warning_text, UserWarning)\n",
      "C:\\Users\\levas\\anaconda3\\lib\\site-packages\\lifelines\\utils\\__init__.py:1187: UserWarning: Attempting to convert an unexpected datatype 'object' to float. Suggestion: 1) use `lifelines.utils.datetimes_to_durations` to do conversions or 2) manually convert to floats/booleans.\n",
      "  warnings.warn(warning_text, UserWarning)\n"
     ]
    },
    {
     "data": {
      "image/png": "[encoded data removed]",
      "text/plain": [
       "<Figure size 432x288 with 1 Axes>"
      ]
     },
     "metadata": {
      "needs_background": "light"
     },
     "output_type": "display_data"
    }
   ],
   "source": [
    "ax = plt.subplot(111)\n",
    "\n",
    "kmf.fit(jbp2['Score'],event_observed = jbp2['Alive or dead'], label=['Position 3'])\n",
    "kmf.survival_function_.plot(ax=ax)\n",
    "# kmf.survival_function_\n",
    "# kmf.plot_survival_function()\n",
    "\n",
    "kmf.fit(jbp5['Score'],event_observed = jbp5['Alive or dead'], label=['Position 4'])\n",
    "kmf.survival_function_.plot(ax=ax)\n",
    "# kmf.plot_survival_function()\n",
    "\n",
    "kmf.fit(jbp6['Score'],event_observed = jbp6['Alive or dead'], label=['Position 4'])\n",
    "kmf.survival_function_.plot(ax=ax)\n",
    "# kmf.plot_survival_function()\n",
    "\n",
    "\n",
    "plt.xlabel(\"Runs\")\n",
    "plt.ylabel(\"Probability\")\n",
    "plt.legend(labels =['Position 2','Position 5','Position 6'])\n",
    "plt.title('Batting Position of Jos Buttler')\n",
    "\n",
    "kmf2 = plt.gcf()"
   ]
  },
  {
   "cell_type": "code",
   "execution_count": 405,
   "id": "5189d418",
   "metadata": {},
   "outputs": [
    {
     "data": {
      "text/html": [
       "<div>\n",
       "<style scoped>\n",
       "    .dataframe tbody tr th:only-of-type {\n",
       "        vertical-align: middle;\n",
       "    }\n",
       "\n",
       "    .dataframe tbody tr th {\n",
       "        vertical-align: top;\n",
       "    }\n",
       "\n",
       "    .dataframe thead th {\n",
       "        text-align: right;\n",
       "    }\n",
       "</style>\n",
       "<table border=\"1\" class=\"dataframe\">\n",
       "  <thead>\n",
       "    <tr style=\"text-align: right;\">\n",
       "      <th></th>\n",
       "      <th>Score</th>\n",
       "      <th>Mins</th>\n",
       "      <th>BF</th>\n",
       "      <th>4s</th>\n",
       "      <th>6s`</th>\n",
       "      <th>Strike rate</th>\n",
       "      <th>mode of dissmasal</th>\n",
       "      <th>Start</th>\n",
       "      <th>Alive or dead</th>\n",
       "      <th>Opposition</th>\n",
       "      <th>Venue</th>\n",
       "      <th>Date</th>\n",
       "      <th>Match  no.</th>\n",
       "    </tr>\n",
       "    <tr>\n",
       "      <th>Pos</th>\n",
       "      <th></th>\n",
       "      <th></th>\n",
       "      <th></th>\n",
       "      <th></th>\n",
       "      <th></th>\n",
       "      <th></th>\n",
       "      <th></th>\n",
       "      <th></th>\n",
       "      <th></th>\n",
       "      <th></th>\n",
       "      <th></th>\n",
       "      <th></th>\n",
       "      <th></th>\n",
       "    </tr>\n",
       "  </thead>\n",
       "  <tbody>\n",
       "    <tr>\n",
       "      <th>1</th>\n",
       "      <td>19</td>\n",
       "      <td>37</td>\n",
       "      <td>18</td>\n",
       "      <td>2</td>\n",
       "      <td>0</td>\n",
       "      <td>105.55</td>\n",
       "      <td>caught</td>\n",
       "      <td>2.0</td>\n",
       "      <td>0.0</td>\n",
       "      <td>v West Indies</td>\n",
       "      <td>Roseau</td>\n",
       "      <td>5-Jul-14</td>\n",
       "      <td>T20I # 402</td>\n",
       "    </tr>\n",
       "    <tr>\n",
       "      <th>2</th>\n",
       "      <td>15</td>\n",
       "      <td>33</td>\n",
       "      <td>13</td>\n",
       "      <td>2</td>\n",
       "      <td>0</td>\n",
       "      <td>115.38</td>\n",
       "      <td>run out</td>\n",
       "      <td>2.0</td>\n",
       "      <td>0.0</td>\n",
       "      <td>v Pakistan</td>\n",
       "      <td>Pallekele</td>\n",
       "      <td>23-Sep-12</td>\n",
       "      <td>T20I # 271</td>\n",
       "    </tr>\n",
       "    <tr>\n",
       "      <th>3</th>\n",
       "      <td>57</td>\n",
       "      <td>65</td>\n",
       "      <td>37</td>\n",
       "      <td>8</td>\n",
       "      <td>0</td>\n",
       "      <td>154.05</td>\n",
       "      <td>run out</td>\n",
       "      <td>2.0</td>\n",
       "      <td>0.0</td>\n",
       "      <td>v England</td>\n",
       "      <td>Manchester</td>\n",
       "      <td>23-Jun-15</td>\n",
       "      <td>T20I # 423</td>\n",
       "    </tr>\n",
       "    <tr>\n",
       "      <th>4</th>\n",
       "      <td>48</td>\n",
       "      <td>62</td>\n",
       "      <td>38</td>\n",
       "      <td>5</td>\n",
       "      <td>0</td>\n",
       "      <td>126.31</td>\n",
       "      <td>run out</td>\n",
       "      <td>2.0</td>\n",
       "      <td>0.0</td>\n",
       "      <td>v Zimbabwe</td>\n",
       "      <td>Auckland</td>\n",
       "      <td>11-Feb-12</td>\n",
       "      <td>T20I # 219</td>\n",
       "    </tr>\n",
       "    <tr>\n",
       "      <th>5</th>\n",
       "      <td>6</td>\n",
       "      <td>13</td>\n",
       "      <td>9</td>\n",
       "      <td>0</td>\n",
       "      <td>0</td>\n",
       "      <td>66.66</td>\n",
       "      <td>caught</td>\n",
       "      <td>2.0</td>\n",
       "      <td>0.0</td>\n",
       "      <td>v South Africa</td>\n",
       "      <td>Auckland</td>\n",
       "      <td>22-Feb-12</td>\n",
       "      <td>T20I # 223</td>\n",
       "    </tr>\n",
       "    <tr>\n",
       "      <th>7</th>\n",
       "      <td>20</td>\n",
       "      <td>7</td>\n",
       "      <td>5</td>\n",
       "      <td>3</td>\n",
       "      <td>1</td>\n",
       "      <td>400</td>\n",
       "      <td>not out</td>\n",
       "      <td>2.0</td>\n",
       "      <td>1.0</td>\n",
       "      <td>v Zimbabwe</td>\n",
       "      <td>Hamilton</td>\n",
       "      <td>14-Feb-12</td>\n",
       "      <td>T20I # 220</td>\n",
       "    </tr>\n",
       "    <tr>\n",
       "      <th>8</th>\n",
       "      <td>4</td>\n",
       "      <td>8</td>\n",
       "      <td>4</td>\n",
       "      <td>0</td>\n",
       "      <td>0</td>\n",
       "      <td>100</td>\n",
       "      <td>run out</td>\n",
       "      <td>1.0</td>\n",
       "      <td>0.0</td>\n",
       "      <td>v Sri Lanka</td>\n",
       "      <td>Pallekele</td>\n",
       "      <td>27-Sep-12</td>\n",
       "      <td>T20I # 275</td>\n",
       "    </tr>\n",
       "  </tbody>\n",
       "</table>\n",
       "</div>"
      ],
      "text/plain": [
       "    Score Mins  BF 4s 6s` Strike rate mode of dissmasal  Start  Alive or dead  \\\n",
       "Pos                                                                             \n",
       "1      19   37  18  2   0      105.55            caught    2.0            0.0   \n",
       "2      15   33  13  2   0      115.38           run out    2.0            0.0   \n",
       "3      57   65  37  8   0      154.05           run out    2.0            0.0   \n",
       "4      48   62  38  5   0      126.31           run out    2.0            0.0   \n",
       "5       6   13   9  0   0       66.66            caught    2.0            0.0   \n",
       "7      20    7   5  3   1         400           not out    2.0            1.0   \n",
       "8       4    8   4  0   0         100           run out    1.0            0.0   \n",
       "\n",
       "        Opposition       Venue       Date   Match  no.  \n",
       "Pos                                                     \n",
       "1     v West Indies      Roseau   5-Jul-14  T20I # 402  \n",
       "2        v Pakistan   Pallekele  23-Sep-12  T20I # 271  \n",
       "3         v England  Manchester  23-Jun-15  T20I # 423  \n",
       "4        v Zimbabwe    Auckland  11-Feb-12  T20I # 219  \n",
       "5    v South Africa    Auckland  22-Feb-12  T20I # 223  \n",
       "7        v Zimbabwe    Hamilton  14-Feb-12  T20I # 220  \n",
       "8       v Sri Lanka   Pallekele  27-Sep-12  T20I # 275  "
      ]
     },
     "execution_count": 405,
     "metadata": {},
     "output_type": "execute_result"
    }
   ],
   "source": [
    "kwposition = kw.groupby('Pos')\n",
    "kwposition.first()"
   ]
  },
  {
   "cell_type": "code",
   "execution_count": 406,
   "id": "b738c6d1",
   "metadata": {},
   "outputs": [],
   "source": [
    "kwp1 = kwposition.get_group('1')\n",
    "kwp2 = kwposition.get_group('2')\n",
    "kwp3 = kwposition.get_group('3')\n",
    "kwp4 = kwposition.get_group('4')\n",
    "kwp5 = kwposition.get_group('5')\n",
    "# kwp6 = kwposition.get_group('6')\n",
    "kwp7 = kwposition.get_group('7')"
   ]
  },
  {
   "cell_type": "code",
   "execution_count": 407,
   "id": "ca3bb33a",
   "metadata": {},
   "outputs": [],
   "source": [
    "# kwp2\n",
    "# kwp3\n"
   ]
  },
  {
   "cell_type": "code",
   "execution_count": 408,
   "id": "87199b56",
   "metadata": {},
   "outputs": [
    {
     "name": "stderr",
     "output_type": "stream",
     "text": [
      "C:\\Users\\levas\\anaconda3\\lib\\site-packages\\lifelines\\utils\\__init__.py:1187: UserWarning: Attempting to convert an unexpected datatype 'object' to float. Suggestion: 1) use `lifelines.utils.datetimes_to_durations` to do conversions or 2) manually convert to floats/booleans.\n",
      "  warnings.warn(warning_text, UserWarning)\n",
      "C:\\Users\\levas\\anaconda3\\lib\\site-packages\\lifelines\\utils\\__init__.py:1187: UserWarning: Attempting to convert an unexpected datatype 'object' to float. Suggestion: 1) use `lifelines.utils.datetimes_to_durations` to do conversions or 2) manually convert to floats/booleans.\n",
      "  warnings.warn(warning_text, UserWarning)\n"
     ]
    },
    {
     "data": {
      "image/png": "[encoded data removed]",
      "text/plain": [
       "<Figure size 432x288 with 1 Axes>"
      ]
     },
     "metadata": {
      "needs_background": "light"
     },
     "output_type": "display_data"
    }
   ],
   "source": [
    "ax = plt.subplot(111)\n",
    "\n",
    "kmf.fit(kwp2['Score'],event_observed = kwp2['Alive or dead'], label=['Position 2'])\n",
    "kmf.survival_function_.plot(ax=ax)\n",
    "# kmf.survival_function_\n",
    "# kmf.plot_survival_function()\n",
    "\n",
    "kmf.fit(kwp3['Score'],event_observed = kwp3['Alive or dead'], label=['Position 4'])\n",
    "kmf.survival_function_.plot(ax=ax)\n",
    "# kmf.plot_survival_function()\n",
    "\n",
    "plt.xlabel(\"Runs\")\n",
    "plt.ylabel(\"Probability\")\n",
    "plt.legend(labels =['Position 2','Position 3'])\n",
    "plt.title('Batting Position of Kane Williamson')\n",
    "\n",
    "kmf2 = plt.gcf()"
   ]
  },
  {
   "cell_type": "code",
   "execution_count": 409,
   "id": "064b35dc",
   "metadata": {},
   "outputs": [
    {
     "data": {
      "text/html": [
       "<div>\n",
       "<style scoped>\n",
       "    .dataframe tbody tr th:only-of-type {\n",
       "        vertical-align: middle;\n",
       "    }\n",
       "\n",
       "    .dataframe tbody tr th {\n",
       "        vertical-align: top;\n",
       "    }\n",
       "\n",
       "    .dataframe thead th {\n",
       "        text-align: right;\n",
       "    }\n",
       "</style>\n",
       "<table border=\"1\" class=\"dataframe\">\n",
       "  <thead>\n",
       "    <tr style=\"text-align: right;\">\n",
       "      <th></th>\n",
       "      <th>Score</th>\n",
       "      <th>Mins</th>\n",
       "      <th>BF</th>\n",
       "      <th>4s</th>\n",
       "      <th>6s`</th>\n",
       "      <th>Strike rate</th>\n",
       "      <th>mode of dissmasal</th>\n",
       "      <th>Start</th>\n",
       "      <th>Alive or dead</th>\n",
       "      <th>Opposition</th>\n",
       "      <th>Venue</th>\n",
       "      <th>Date</th>\n",
       "      <th>Match  no.</th>\n",
       "    </tr>\n",
       "    <tr>\n",
       "      <th>Pos</th>\n",
       "      <th></th>\n",
       "      <th></th>\n",
       "      <th></th>\n",
       "      <th></th>\n",
       "      <th></th>\n",
       "      <th></th>\n",
       "      <th></th>\n",
       "      <th></th>\n",
       "      <th></th>\n",
       "      <th></th>\n",
       "      <th></th>\n",
       "      <th></th>\n",
       "      <th></th>\n",
       "    </tr>\n",
       "  </thead>\n",
       "  <tbody>\n",
       "    <tr>\n",
       "      <th>3</th>\n",
       "      <td>23</td>\n",
       "      <td>-</td>\n",
       "      <td>17</td>\n",
       "      <td>3</td>\n",
       "      <td>0</td>\n",
       "      <td>135.29</td>\n",
       "      <td>not out</td>\n",
       "      <td>2</td>\n",
       "      <td>1</td>\n",
       "      <td>v Bangladesh</td>\n",
       "      <td>Sylhet</td>\n",
       "      <td>17-Dec-18</td>\n",
       "      <td>T20I # 715</td>\n",
       "    </tr>\n",
       "    <tr>\n",
       "      <th>4</th>\n",
       "      <td>38</td>\n",
       "      <td>-</td>\n",
       "      <td>18</td>\n",
       "      <td>4</td>\n",
       "      <td>2</td>\n",
       "      <td>211.11</td>\n",
       "      <td>not out</td>\n",
       "      <td>2</td>\n",
       "      <td>1</td>\n",
       "      <td>v India</td>\n",
       "      <td>Thiruvananthapuram</td>\n",
       "      <td>8-Dec-19</td>\n",
       "      <td>T20I # 1022</td>\n",
       "    </tr>\n",
       "    <tr>\n",
       "      <th>5</th>\n",
       "      <td>4</td>\n",
       "      <td>2</td>\n",
       "      <td>3</td>\n",
       "      <td>1</td>\n",
       "      <td>0</td>\n",
       "      <td>133.33</td>\n",
       "      <td>bowled</td>\n",
       "      <td>2</td>\n",
       "      <td>0</td>\n",
       "      <td>v India</td>\n",
       "      <td>Lucknow</td>\n",
       "      <td>6-Nov-18</td>\n",
       "      <td>T20I # 709</td>\n",
       "    </tr>\n",
       "    <tr>\n",
       "      <th>6</th>\n",
       "      <td>5</td>\n",
       "      <td>4</td>\n",
       "      <td>4</td>\n",
       "      <td>1</td>\n",
       "      <td>0</td>\n",
       "      <td>125</td>\n",
       "      <td>caught</td>\n",
       "      <td>1</td>\n",
       "      <td>0</td>\n",
       "      <td>v Pakistan</td>\n",
       "      <td>Dubai (DSC)</td>\n",
       "      <td>23-Sep-16</td>\n",
       "      <td>T20I # 568</td>\n",
       "    </tr>\n",
       "    <tr>\n",
       "      <th>7</th>\n",
       "      <td>20</td>\n",
       "      <td>-</td>\n",
       "      <td>14</td>\n",
       "      <td>0</td>\n",
       "      <td>2</td>\n",
       "      <td>142.85</td>\n",
       "      <td>caught</td>\n",
       "      <td>2</td>\n",
       "      <td>0</td>\n",
       "      <td>v South Africa</td>\n",
       "      <td>St George's</td>\n",
       "      <td>3-Jul-21</td>\n",
       "      <td>T20I # 1181</td>\n",
       "    </tr>\n",
       "    <tr>\n",
       "      <th>8</th>\n",
       "      <td>4</td>\n",
       "      <td>7</td>\n",
       "      <td>6</td>\n",
       "      <td>1</td>\n",
       "      <td>0</td>\n",
       "      <td>66.66</td>\n",
       "      <td>caught</td>\n",
       "      <td>2</td>\n",
       "      <td>0</td>\n",
       "      <td>v Pakistan</td>\n",
       "      <td>Dubai (DSC)</td>\n",
       "      <td>24-Sep-16</td>\n",
       "      <td>T20I # 569</td>\n",
       "    </tr>\n",
       "  </tbody>\n",
       "</table>\n",
       "</div>"
      ],
      "text/plain": [
       "    Score Mins  BF 4s 6s` Strike rate mode of dissmasal Start  Alive or dead  \\\n",
       "Pos                                                                            \n",
       "3      23    -  17  3   0      135.29           not out     2              1   \n",
       "4      38    -  18  4   2      211.11           not out     2              1   \n",
       "5       4    2   3  1   0      133.33            bowled     2              0   \n",
       "6       5    4   4  1   0         125            caught     1              0   \n",
       "7      20    -  14  0   2      142.85            caught     2              0   \n",
       "8       4    7   6  1   0       66.66            caught     2              0   \n",
       "\n",
       "        Opposition               Venue       Date    Match  no.  \n",
       "Pos                                                              \n",
       "3      v Bangladesh              Sylhet  17-Dec-18   T20I # 715  \n",
       "4           v India  Thiruvananthapuram   8-Dec-19  T20I # 1022  \n",
       "5           v India             Lucknow   6-Nov-18   T20I # 709  \n",
       "6        v Pakistan         Dubai (DSC)  23-Sep-16   T20I # 568  \n",
       "7    v South Africa         St George's   3-Jul-21  T20I # 1181  \n",
       "8        v Pakistan         Dubai (DSC)  24-Sep-16   T20I # 569  "
      ]
     },
     "execution_count": 409,
     "metadata": {},
     "output_type": "execute_result"
    }
   ],
   "source": [
    "nicpposition = nicp.groupby('Pos')\n",
    "nicpposition.first()"
   ]
  },
  {
   "cell_type": "code",
   "execution_count": 410,
   "id": "ca1f6bde",
   "metadata": {},
   "outputs": [],
   "source": [
    "# kwp1 = kwposition.get_group('1')\n",
    "# kwp2 = kwposition.get_group('2')\n",
    "nicpp3 = nicpposition.get_group('3')\n",
    "nicpp4 = nicpposition.get_group('4')\n",
    "nicpp5 = nicpposition.get_group('5')\n",
    "nicpp6 = nicpposition.get_group('6')\n",
    "nicpp7 = nicpposition.get_group('7')\n",
    "nicpp8 = nicpposition.get_group('8')"
   ]
  },
  {
   "cell_type": "code",
   "execution_count": 411,
   "id": "f704cc49",
   "metadata": {},
   "outputs": [],
   "source": [
    "# nicpp3\n",
    "# nicpp5\n"
   ]
  },
  {
   "cell_type": "code",
   "execution_count": 412,
   "id": "243c223d",
   "metadata": {},
   "outputs": [
    {
     "name": "stderr",
     "output_type": "stream",
     "text": [
      "C:\\Users\\levas\\anaconda3\\lib\\site-packages\\lifelines\\utils\\__init__.py:1187: UserWarning: Attempting to convert an unexpected datatype 'object' to float. Suggestion: 1) use `lifelines.utils.datetimes_to_durations` to do conversions or 2) manually convert to floats/booleans.\n",
      "  warnings.warn(warning_text, UserWarning)\n",
      "C:\\Users\\levas\\anaconda3\\lib\\site-packages\\lifelines\\utils\\__init__.py:1187: UserWarning: Attempting to convert an unexpected datatype 'object' to float. Suggestion: 1) use `lifelines.utils.datetimes_to_durations` to do conversions or 2) manually convert to floats/booleans.\n",
      "  warnings.warn(warning_text, UserWarning)\n"
     ]
    },
    {
     "data": {
      "image/png": "[encoded data removed]",
      "text/plain": [
       "<Figure size 432x288 with 1 Axes>"
      ]
     },
     "metadata": {
      "needs_background": "light"
     },
     "output_type": "display_data"
    }
   ],
   "source": [
    "ax = plt.subplot(111)\n",
    "\n",
    "kmf.fit(nicpp3['Score'],event_observed = nicpp3['Alive or dead'], label=['Position 3'])\n",
    "kmf.survival_function_.plot(ax=ax)\n",
    "# kmf.survival_function_\n",
    "# kmf.plot_survival_function()\n",
    "\n",
    "kmf.fit(nicpp5['Score'],event_observed = nicpp5['Alive or dead'], label=['Position 4'])\n",
    "kmf.survival_function_.plot(ax=ax)\n",
    "# kmf.plot_survival_function()\n",
    "\n",
    "plt.xlabel(\"Runs\")\n",
    "plt.ylabel(\"Probability\")\n",
    "plt.legend(labels =['Position 3','Position 4'])\n",
    "plt.title('Batting Position of Nicolas Pooran')\n",
    "\n",
    "kmf2 = plt.gcf()"
   ]
  },
  {
   "cell_type": "code",
   "execution_count": 413,
   "id": "083dbcc4",
   "metadata": {},
   "outputs": [
    {
     "data": {
      "text/html": [
       "<div>\n",
       "<style scoped>\n",
       "    .dataframe tbody tr th:only-of-type {\n",
       "        vertical-align: middle;\n",
       "    }\n",
       "\n",
       "    .dataframe tbody tr th {\n",
       "        vertical-align: top;\n",
       "    }\n",
       "\n",
       "    .dataframe thead th {\n",
       "        text-align: right;\n",
       "    }\n",
       "</style>\n",
       "<table border=\"1\" class=\"dataframe\">\n",
       "  <thead>\n",
       "    <tr style=\"text-align: right;\">\n",
       "      <th></th>\n",
       "      <th>Score</th>\n",
       "      <th>Mins</th>\n",
       "      <th>BF</th>\n",
       "      <th>4s</th>\n",
       "      <th>6s`</th>\n",
       "      <th>Strike rate</th>\n",
       "      <th>mode of dissmasal</th>\n",
       "      <th>Start</th>\n",
       "      <th>Alive or dead</th>\n",
       "      <th>Opposition</th>\n",
       "      <th>Venue</th>\n",
       "      <th>Date</th>\n",
       "      <th>Match  no.</th>\n",
       "    </tr>\n",
       "    <tr>\n",
       "      <th>Pos</th>\n",
       "      <th></th>\n",
       "      <th></th>\n",
       "      <th></th>\n",
       "      <th></th>\n",
       "      <th></th>\n",
       "      <th></th>\n",
       "      <th></th>\n",
       "      <th></th>\n",
       "      <th></th>\n",
       "      <th></th>\n",
       "      <th></th>\n",
       "      <th></th>\n",
       "      <th></th>\n",
       "    </tr>\n",
       "  </thead>\n",
       "  <tbody>\n",
       "    <tr>\n",
       "      <th>1</th>\n",
       "      <td>30</td>\n",
       "      <td>26</td>\n",
       "      <td>19</td>\n",
       "      <td>6</td>\n",
       "      <td>0</td>\n",
       "      <td>157.89</td>\n",
       "      <td>caught</td>\n",
       "      <td>1</td>\n",
       "      <td>0</td>\n",
       "      <td>v Pakistan</td>\n",
       "      <td>Dubai (DSC)</td>\n",
       "      <td>15-Nov-13</td>\n",
       "      <td>T20I # 336</td>\n",
       "    </tr>\n",
       "    <tr>\n",
       "      <th>2</th>\n",
       "      <td>5</td>\n",
       "      <td>9</td>\n",
       "      <td>7</td>\n",
       "      <td>1</td>\n",
       "      <td>0</td>\n",
       "      <td>71.42</td>\n",
       "      <td>lbw</td>\n",
       "      <td>1</td>\n",
       "      <td>0</td>\n",
       "      <td>v Sri Lanka</td>\n",
       "      <td>Colombo (RPS)</td>\n",
       "      <td>2-Aug-13</td>\n",
       "      <td>T20I # 323</td>\n",
       "    </tr>\n",
       "    <tr>\n",
       "      <th>3</th>\n",
       "      <td>2</td>\n",
       "      <td>12</td>\n",
       "      <td>4</td>\n",
       "      <td>0</td>\n",
       "      <td>0</td>\n",
       "      <td>50</td>\n",
       "      <td>caught</td>\n",
       "      <td>1</td>\n",
       "      <td>0</td>\n",
       "      <td>v New Zealand</td>\n",
       "      <td>Gqeberha</td>\n",
       "      <td>26-Dec-12</td>\n",
       "      <td>T20I # 297</td>\n",
       "    </tr>\n",
       "    <tr>\n",
       "      <th>4</th>\n",
       "      <td>28</td>\n",
       "      <td>23</td>\n",
       "      <td>23</td>\n",
       "      <td>5</td>\n",
       "      <td>0</td>\n",
       "      <td>121.73</td>\n",
       "      <td>not out</td>\n",
       "      <td>2</td>\n",
       "      <td>1</td>\n",
       "      <td>v New Zealand</td>\n",
       "      <td>Durban</td>\n",
       "      <td>21-Dec-12</td>\n",
       "      <td>T20I # 293</td>\n",
       "    </tr>\n",
       "    <tr>\n",
       "      <th>7</th>\n",
       "      <td>0</td>\n",
       "      <td>1</td>\n",
       "      <td>0</td>\n",
       "      <td>0</td>\n",
       "      <td>0</td>\n",
       "      <td>-</td>\n",
       "      <td>not out</td>\n",
       "      <td>1</td>\n",
       "      <td>1</td>\n",
       "      <td>v New Zealand</td>\n",
       "      <td>East London</td>\n",
       "      <td>23-Dec-12</td>\n",
       "      <td>T20I # 295</td>\n",
       "    </tr>\n",
       "  </tbody>\n",
       "</table>\n",
       "</div>"
      ],
      "text/plain": [
       "    Score Mins  BF 4s 6s` Strike rate mode of dissmasal Start  Alive or dead  \\\n",
       "Pos                                                                            \n",
       "1      30   26  19  6   0      157.89            caught     1              0   \n",
       "2       5    9   7  1   0       71.42               lbw     1              0   \n",
       "3       2   12   4  0   0          50            caught     1              0   \n",
       "4      28   23  23  5   0      121.73           not out     2              1   \n",
       "7       0    1   0  0   0           -           not out     1              1   \n",
       "\n",
       "       Opposition          Venue       Date   Match  no.  \n",
       "Pos                                                       \n",
       "1       v Pakistan    Dubai (DSC)  15-Nov-13  T20I # 336  \n",
       "2      v Sri Lanka  Colombo (RPS)   2-Aug-13  T20I # 323  \n",
       "3    v New Zealand       Gqeberha  26-Dec-12  T20I # 297  \n",
       "4    v New Zealand         Durban  21-Dec-12  T20I # 293  \n",
       "7    v New Zealand    East London  23-Dec-12  T20I # 295  "
      ]
     },
     "execution_count": 413,
     "metadata": {},
     "output_type": "execute_result"
    }
   ],
   "source": [
    "qdkposition = qdk.groupby('Pos')\n",
    "qdkposition.first()"
   ]
  },
  {
   "cell_type": "code",
   "execution_count": 414,
   "id": "dc80ab19",
   "metadata": {},
   "outputs": [],
   "source": [
    "qdkp1 = qdkposition.get_group('1')\n",
    "qdkp2 = qdkposition.get_group('2')\n",
    "qdkp3 = qdkposition.get_group('3')\n",
    "qdkp4 = qdkposition.get_group('4')\n",
    "# nicpp5 = nicpposition.get_group('5')\n",
    "# nicpp6 = nicpposition.get_group('6')\n",
    "# nicpp7 = nicpposition.get_group('7')\n",
    "# nicpp8 = nicpposition.get_group('8')\n",
    "\n"
   ]
  },
  {
   "cell_type": "code",
   "execution_count": 415,
   "id": "f9114775",
   "metadata": {},
   "outputs": [
    {
     "name": "stderr",
     "output_type": "stream",
     "text": [
      "C:\\Users\\levas\\anaconda3\\lib\\site-packages\\lifelines\\utils\\__init__.py:1187: UserWarning: Attempting to convert an unexpected datatype 'object' to float. Suggestion: 1) use `lifelines.utils.datetimes_to_durations` to do conversions or 2) manually convert to floats/booleans.\n",
      "  warnings.warn(warning_text, UserWarning)\n",
      "C:\\Users\\levas\\anaconda3\\lib\\site-packages\\lifelines\\utils\\__init__.py:1187: UserWarning: Attempting to convert an unexpected datatype 'object' to float. Suggestion: 1) use `lifelines.utils.datetimes_to_durations` to do conversions or 2) manually convert to floats/booleans.\n",
      "  warnings.warn(warning_text, UserWarning)\n"
     ]
    },
    {
     "data": {
      "image/png": "[encoded data removed]",
      "text/plain": [
       "<Figure size 432x288 with 1 Axes>"
      ]
     },
     "metadata": {
      "needs_background": "light"
     },
     "output_type": "display_data"
    }
   ],
   "source": [
    "ax = plt.subplot(111)\n",
    "\n",
    "kmf.fit(qdkp1['Score'],event_observed = qdkp1['Alive or dead'], label=['Position 1'])\n",
    "kmf.survival_function_.plot(ax=ax)\n",
    "# kmf.survival_function_\n",
    "# kmf.plot_survival_function()\n",
    "\n",
    "kmf.fit(qdkp2['Score'],event_observed = qdkp2['Alive or dead'], label=['Position 2'])\n",
    "kmf.survival_function_.plot(ax=ax)\n",
    "# kmf.plot_survival_function()\n",
    "\n",
    "plt.xlabel(\"Runs\")\n",
    "plt.ylabel(\"Probability\")\n",
    "plt.legend(labels =['Position 1','Position 2'])\n",
    "plt.title('Batting Position of Quinton de Kock')\n",
    "\n",
    "kmf2 = plt.gcf()"
   ]
  },
  {
   "cell_type": "code",
   "execution_count": 416,
   "id": "0e8560ad",
   "metadata": {},
   "outputs": [
    {
     "data": {
      "text/html": [
       "<div>\n",
       "<style scoped>\n",
       "    .dataframe tbody tr th:only-of-type {\n",
       "        vertical-align: middle;\n",
       "    }\n",
       "\n",
       "    .dataframe tbody tr th {\n",
       "        vertical-align: top;\n",
       "    }\n",
       "\n",
       "    .dataframe thead th {\n",
       "        text-align: right;\n",
       "    }\n",
       "</style>\n",
       "<table border=\"1\" class=\"dataframe\">\n",
       "  <thead>\n",
       "    <tr style=\"text-align: right;\">\n",
       "      <th></th>\n",
       "      <th>Score</th>\n",
       "      <th>Mins</th>\n",
       "      <th>BF</th>\n",
       "      <th>4s</th>\n",
       "      <th>6s`</th>\n",
       "      <th>Strike rate</th>\n",
       "      <th>mode of dissmasal</th>\n",
       "      <th>Start</th>\n",
       "      <th>Alive or dead</th>\n",
       "      <th>Opposition</th>\n",
       "      <th>Venue</th>\n",
       "      <th>Date</th>\n",
       "      <th>Match  no.</th>\n",
       "    </tr>\n",
       "    <tr>\n",
       "      <th>Pos</th>\n",
       "      <th></th>\n",
       "      <th></th>\n",
       "      <th></th>\n",
       "      <th></th>\n",
       "      <th></th>\n",
       "      <th></th>\n",
       "      <th></th>\n",
       "      <th></th>\n",
       "      <th></th>\n",
       "      <th></th>\n",
       "      <th></th>\n",
       "      <th></th>\n",
       "      <th></th>\n",
       "    </tr>\n",
       "  </thead>\n",
       "  <tbody>\n",
       "    <tr>\n",
       "      <th>2</th>\n",
       "      <td>9</td>\n",
       "      <td>21</td>\n",
       "      <td>12</td>\n",
       "      <td>1</td>\n",
       "      <td>0</td>\n",
       "      <td>75</td>\n",
       "      <td>caught</td>\n",
       "      <td>2</td>\n",
       "      <td>0</td>\n",
       "      <td>v West Indies</td>\n",
       "      <td>Sharjah</td>\n",
       "      <td>29-Oct-21</td>\n",
       "      <td>T20I # 1375</td>\n",
       "    </tr>\n",
       "    <tr>\n",
       "      <th>3</th>\n",
       "      <td>57</td>\n",
       "      <td>33</td>\n",
       "      <td>33</td>\n",
       "      <td>9</td>\n",
       "      <td>0</td>\n",
       "      <td>172.72</td>\n",
       "      <td>bowled</td>\n",
       "      <td>1</td>\n",
       "      <td>0</td>\n",
       "      <td>v Ireland</td>\n",
       "      <td>Belfast</td>\n",
       "      <td>18-Jul-12</td>\n",
       "      <td>T20I # 249</td>\n",
       "    </tr>\n",
       "    <tr>\n",
       "      <th>4</th>\n",
       "      <td>26</td>\n",
       "      <td>32</td>\n",
       "      <td>28</td>\n",
       "      <td>2</td>\n",
       "      <td>0</td>\n",
       "      <td>92.85</td>\n",
       "      <td>caught</td>\n",
       "      <td>1</td>\n",
       "      <td>0</td>\n",
       "      <td>v Zimbabwe</td>\n",
       "      <td>Khulna</td>\n",
       "      <td>28-Nov-06</td>\n",
       "      <td>T20I # 9</td>\n",
       "    </tr>\n",
       "    <tr>\n",
       "      <th>5</th>\n",
       "      <td>13</td>\n",
       "      <td>9</td>\n",
       "      <td>9</td>\n",
       "      <td>1</td>\n",
       "      <td>0</td>\n",
       "      <td>144.44</td>\n",
       "      <td>caught</td>\n",
       "      <td>2</td>\n",
       "      <td>0</td>\n",
       "      <td>v West Indies</td>\n",
       "      <td>Johannesburg</td>\n",
       "      <td>13-Sep-07</td>\n",
       "      <td>T20I # 24</td>\n",
       "    </tr>\n",
       "    <tr>\n",
       "      <th>6</th>\n",
       "      <td>20</td>\n",
       "      <td>-</td>\n",
       "      <td>13</td>\n",
       "      <td>2</td>\n",
       "      <td>0</td>\n",
       "      <td>153.84</td>\n",
       "      <td>not out</td>\n",
       "      <td>2</td>\n",
       "      <td>1</td>\n",
       "      <td>v Zimbabwe</td>\n",
       "      <td>Khulna</td>\n",
       "      <td>15-Jan-16</td>\n",
       "      <td>T20I # 479</td>\n",
       "    </tr>\n",
       "    <tr>\n",
       "      <th>7</th>\n",
       "      <td>7</td>\n",
       "      <td>-</td>\n",
       "      <td>9</td>\n",
       "      <td>0</td>\n",
       "      <td>0</td>\n",
       "      <td>77.77</td>\n",
       "      <td>caught</td>\n",
       "      <td>2</td>\n",
       "      <td>0</td>\n",
       "      <td>v Sri Lanka</td>\n",
       "      <td>Colombo (RPS)</td>\n",
       "      <td>16-Mar-18</td>\n",
       "      <td>T20I # 661</td>\n",
       "    </tr>\n",
       "  </tbody>\n",
       "</table>\n",
       "</div>"
      ],
      "text/plain": [
       "    Score Mins  BF 4s 6s` Strike rate mode of dissmasal  Start  Alive or dead  \\\n",
       "Pos                                                                             \n",
       "2       9   21  12  1   0          75            caught      2              0   \n",
       "3      57   33  33  9   0      172.72            bowled      1              0   \n",
       "4      26   32  28  2   0       92.85            caught      1              0   \n",
       "5      13    9   9  1   0      144.44            caught      2              0   \n",
       "6      20    -  13  2   0      153.84           not out      2              1   \n",
       "7       7    -   9  0   0       77.77            caught      2              0   \n",
       "\n",
       "       Opposition          Venue       Date    Match  no.  \n",
       "Pos                                                        \n",
       "2    v West Indies        Sharjah  29-Oct-21  T20I # 1375  \n",
       "3        v Ireland        Belfast  18-Jul-12   T20I # 249  \n",
       "4       v Zimbabwe         Khulna  28-Nov-06     T20I # 9  \n",
       "5    v West Indies   Johannesburg  13-Sep-07    T20I # 24  \n",
       "6       v Zimbabwe         Khulna  15-Jan-16   T20I # 479  \n",
       "7      v Sri Lanka  Colombo (RPS)  16-Mar-18   T20I # 661  "
      ]
     },
     "execution_count": 416,
     "metadata": {},
     "output_type": "execute_result"
    }
   ],
   "source": [
    "sahposition = sah.groupby('Pos')\n",
    "sahposition.first()"
   ]
  },
  {
   "cell_type": "code",
   "execution_count": 417,
   "id": "ff727ada",
   "metadata": {},
   "outputs": [],
   "source": [
    "# sahp1 = sahposition.get_group('1')\n",
    "sahp2 = sahposition.get_group('2')\n",
    "sahp3 = sahposition.get_group('3')\n",
    "sahp4 = sahposition.get_group('4')\n",
    "sahp5 = sahposition.get_group('5')\n",
    "sahp6 = sahposition.get_group('6')\n",
    "sahp7 = sahposition.get_group('7')\n",
    "# nicpp8 = nicpposition.get_group('8')"
   ]
  },
  {
   "cell_type": "code",
   "execution_count": 418,
   "id": "0bbc837a",
   "metadata": {},
   "outputs": [],
   "source": [
    "# sahp3\n",
    "# sahp4"
   ]
  },
  {
   "cell_type": "code",
   "execution_count": 419,
   "id": "22f8719c",
   "metadata": {},
   "outputs": [
    {
     "name": "stderr",
     "output_type": "stream",
     "text": [
      "C:\\Users\\levas\\anaconda3\\lib\\site-packages\\lifelines\\utils\\__init__.py:1187: UserWarning: Attempting to convert an unexpected datatype 'object' to float. Suggestion: 1) use `lifelines.utils.datetimes_to_durations` to do conversions or 2) manually convert to floats/booleans.\n",
      "  warnings.warn(warning_text, UserWarning)\n",
      "C:\\Users\\levas\\anaconda3\\lib\\site-packages\\lifelines\\utils\\__init__.py:1187: UserWarning: Attempting to convert an unexpected datatype 'object' to float. Suggestion: 1) use `lifelines.utils.datetimes_to_durations` to do conversions or 2) manually convert to floats/booleans.\n",
      "  warnings.warn(warning_text, UserWarning)\n"
     ]
    },
    {
     "data": {
      "image/png": "[encoded data removed]",
      "text/plain": [
       "<Figure size 432x288 with 1 Axes>"
      ]
     },
     "metadata": {
      "needs_background": "light"
     },
     "output_type": "display_data"
    }
   ],
   "source": [
    "ax = plt.subplot(111)\n",
    "\n",
    "kmf.fit(sahp3['Score'],event_observed = sahp3['Alive or dead'], label=['Position 3'])\n",
    "kmf.survival_function_.plot(ax=ax)\n",
    "# kmf.survival_function_\n",
    "# kmf.plot_survival_function()\n",
    "\n",
    "kmf.fit(sahp4['Score'],event_observed = sahp4['Alive or dead'], label=['Position 4'])\n",
    "kmf.survival_function_.plot(ax=ax)\n",
    "# kmf.plot_survival_function()\n",
    "\n",
    "plt.xlabel(\"Runs\")\n",
    "plt.ylabel(\"Probability\")\n",
    "plt.legend(labels =['Position 3','Position 4'])\n",
    "plt.title('Batting Position of Shakib Al Hasan')\n",
    "\n",
    "kmf2 = plt.gcf()"
   ]
  },
  {
   "cell_type": "code",
   "execution_count": 420,
   "id": "d14415db",
   "metadata": {},
   "outputs": [
    {
     "data": {
      "text/html": [
       "<div>\n",
       "<style scoped>\n",
       "    .dataframe tbody tr th:only-of-type {\n",
       "        vertical-align: middle;\n",
       "    }\n",
       "\n",
       "    .dataframe tbody tr th {\n",
       "        vertical-align: top;\n",
       "    }\n",
       "\n",
       "    .dataframe thead th {\n",
       "        text-align: right;\n",
       "    }\n",
       "</style>\n",
       "<table border=\"1\" class=\"dataframe\">\n",
       "  <thead>\n",
       "    <tr style=\"text-align: right;\">\n",
       "      <th></th>\n",
       "      <th>R</th>\n",
       "      <th>mins</th>\n",
       "      <th>bf</th>\n",
       "      <th>4s</th>\n",
       "      <th>6s</th>\n",
       "      <th>Strike rate</th>\n",
       "      <th>Mode of dissmisal</th>\n",
       "      <th>Alive</th>\n",
       "      <th>Start</th>\n",
       "      <th>Opposition</th>\n",
       "      <th>Venue</th>\n",
       "      <th>Date</th>\n",
       "      <th>Match  no.</th>\n",
       "    </tr>\n",
       "    <tr>\n",
       "      <th>p</th>\n",
       "      <th></th>\n",
       "      <th></th>\n",
       "      <th></th>\n",
       "      <th></th>\n",
       "      <th></th>\n",
       "      <th></th>\n",
       "      <th></th>\n",
       "      <th></th>\n",
       "      <th></th>\n",
       "      <th></th>\n",
       "      <th></th>\n",
       "      <th></th>\n",
       "      <th></th>\n",
       "    </tr>\n",
       "  </thead>\n",
       "  <tbody>\n",
       "    <tr>\n",
       "      <th>1</th>\n",
       "      <td>7</td>\n",
       "      <td>17</td>\n",
       "      <td>6</td>\n",
       "      <td>1</td>\n",
       "      <td>0</td>\n",
       "      <td>116.66</td>\n",
       "      <td>lbw</td>\n",
       "      <td>0</td>\n",
       "      <td>2</td>\n",
       "      <td>v Sri Lanka</td>\n",
       "      <td>Melbourne</td>\n",
       "      <td>41302</td>\n",
       "      <td>T20I # 300</td>\n",
       "    </tr>\n",
       "    <tr>\n",
       "      <th>2</th>\n",
       "      <td>36</td>\n",
       "      <td>33</td>\n",
       "      <td>23</td>\n",
       "      <td>6</td>\n",
       "      <td>0</td>\n",
       "      <td>156.52</td>\n",
       "      <td>run out</td>\n",
       "      <td>0</td>\n",
       "      <td>1</td>\n",
       "      <td>v India</td>\n",
       "      <td>Melbourne</td>\n",
       "      <td>40942</td>\n",
       "      <td>T20I # 218</td>\n",
       "    </tr>\n",
       "    <tr>\n",
       "      <th>3</th>\n",
       "      <td>0</td>\n",
       "      <td>2</td>\n",
       "      <td>1</td>\n",
       "      <td>0</td>\n",
       "      <td>0</td>\n",
       "      <td>0.00</td>\n",
       "      <td>lbw</td>\n",
       "      <td>0</td>\n",
       "      <td>2</td>\n",
       "      <td>v India</td>\n",
       "      <td>Visakhapatnam</td>\n",
       "      <td>43520</td>\n",
       "      <td>T20I # 748</td>\n",
       "    </tr>\n",
       "    <tr>\n",
       "      <th>5</th>\n",
       "      <td>15</td>\n",
       "      <td>21</td>\n",
       "      <td>14</td>\n",
       "      <td>1</td>\n",
       "      <td>0</td>\n",
       "      <td>107.14</td>\n",
       "      <td>not out</td>\n",
       "      <td>1</td>\n",
       "      <td>1</td>\n",
       "      <td>v England</td>\n",
       "      <td>Adelaide</td>\n",
       "      <td>40555</td>\n",
       "      <td>T20I # 197</td>\n",
       "    </tr>\n",
       "    <tr>\n",
       "      <th>6</th>\n",
       "      <td>53</td>\n",
       "      <td>35</td>\n",
       "      <td>33</td>\n",
       "      <td>4</td>\n",
       "      <td>2</td>\n",
       "      <td>160.60</td>\n",
       "      <td>not out</td>\n",
       "      <td>1</td>\n",
       "      <td>1</td>\n",
       "      <td>v England</td>\n",
       "      <td>Melbourne</td>\n",
       "      <td>40557</td>\n",
       "      <td>T20I # 198</td>\n",
       "    </tr>\n",
       "  </tbody>\n",
       "</table>\n",
       "</div>"
      ],
      "text/plain": [
       "    R mins   bf  4s  6s  Strike rate  Mode of dissmisal   Alive  Start  \\\n",
       "p                                                                        \n",
       "1   7    17   6   1   0        116.66                lbw      0      2   \n",
       "2  36    33  23   6   0        156.52            run out      0      1   \n",
       "3   0     2   1   0   0          0.00                lbw      0      2   \n",
       "5  15    21  14   1   0        107.14            not out      1      1   \n",
       "6  53    35  33   4   2        160.60            not out      1      1   \n",
       "\n",
       "   Opposition          Venue   Date   Match  no.  \n",
       "p                                                 \n",
       "1  v Sri Lanka      Melbourne  41302  T20I # 300  \n",
       "2      v India      Melbourne  40942  T20I # 218  \n",
       "3      v India  Visakhapatnam  43520  T20I # 748  \n",
       "5    v England       Adelaide  40555  T20I # 197  \n",
       "6    v England      Melbourne  40557  T20I # 198  "
      ]
     },
     "execution_count": 420,
     "metadata": {},
     "output_type": "execute_result"
    }
   ],
   "source": [
    "afposition = af.groupby('p')\n",
    "afposition.first()"
   ]
  },
  {
   "cell_type": "code",
   "execution_count": 421,
   "id": "5e577dba",
   "metadata": {},
   "outputs": [],
   "source": [
    "afp1 = afposition.get_group(1)\n",
    "afp2 = afposition.get_group(2)\n",
    "afp3 = afposition.get_group(3)\n",
    "afp5 = afposition.get_group(5)\n",
    "afp6 = afposition.get_group(6)\n"
   ]
  },
  {
   "cell_type": "code",
   "execution_count": 422,
   "id": "49bb5185",
   "metadata": {},
   "outputs": [],
   "source": [
    "# afp1\n",
    "# afp2"
   ]
  },
  {
   "cell_type": "code",
   "execution_count": 423,
   "id": "26a0a197",
   "metadata": {},
   "outputs": [
    {
     "name": "stderr",
     "output_type": "stream",
     "text": [
      "C:\\Users\\levas\\anaconda3\\lib\\site-packages\\lifelines\\utils\\__init__.py:1187: UserWarning: Attempting to convert an unexpected datatype 'object' to float. Suggestion: 1) use `lifelines.utils.datetimes_to_durations` to do conversions or 2) manually convert to floats/booleans.\n",
      "  warnings.warn(warning_text, UserWarning)\n",
      "C:\\Users\\levas\\anaconda3\\lib\\site-packages\\lifelines\\utils\\__init__.py:1187: UserWarning: Attempting to convert an unexpected datatype 'object' to float. Suggestion: 1) use `lifelines.utils.datetimes_to_durations` to do conversions or 2) manually convert to floats/booleans.\n",
      "  warnings.warn(warning_text, UserWarning)\n"
     ]
    },
    {
     "data": {
      "image/png": "[encoded data removed]",
      "text/plain": [
       "<Figure size 432x288 with 1 Axes>"
      ]
     },
     "metadata": {
      "needs_background": "light"
     },
     "output_type": "display_data"
    }
   ],
   "source": [
    "ax = plt.subplot(111)\n",
    "\n",
    "kmf.fit(afp1['R'],event_observed = afp1['Alive'], label=['Position 3'])\n",
    "kmf.survival_function_.plot(ax=ax)\n",
    "# kmf.survival_function_\n",
    "# kmf.plot_survival_function()\n",
    "\n",
    "kmf.fit(afp2['R'],event_observed = afp2['Alive'], label=['Position 4'])\n",
    "kmf.survival_function_.plot(ax=ax)\n",
    "# kmf.plot_survival_function()\n",
    "\n",
    "plt.xlabel(\"Runs\")\n",
    "plt.ylabel(\"Probability\")\n",
    "plt.legend(labels =['Position 1','Position 2'])\n",
    "plt.title('Batting Position of Aaron Finch')\n",
    "\n",
    "kmf2 = plt.gcf()"
   ]
  },
  {
   "cell_type": "code",
   "execution_count": 424,
   "id": "ff8f9b71",
   "metadata": {},
   "outputs": [
    {
     "data": {
      "text/html": [
       "<div>\n",
       "<style scoped>\n",
       "    .dataframe tbody tr th:only-of-type {\n",
       "        vertical-align: middle;\n",
       "    }\n",
       "\n",
       "    .dataframe tbody tr th {\n",
       "        vertical-align: top;\n",
       "    }\n",
       "\n",
       "    .dataframe thead th {\n",
       "        text-align: right;\n",
       "    }\n",
       "</style>\n",
       "<table border=\"1\" class=\"dataframe\">\n",
       "  <thead>\n",
       "    <tr style=\"text-align: right;\">\n",
       "      <th></th>\n",
       "      <th>Runs</th>\n",
       "      <th>Mins</th>\n",
       "      <th>BF</th>\n",
       "      <th>4s</th>\n",
       "      <th>6s</th>\n",
       "      <th>SR</th>\n",
       "      <th>Dismissal</th>\n",
       "      <th>Inns</th>\n",
       "      <th>Alive</th>\n",
       "      <th>Opposition</th>\n",
       "      <th>Ground</th>\n",
       "      <th>Start Date</th>\n",
       "      <th>Match no</th>\n",
       "    </tr>\n",
       "    <tr>\n",
       "      <th>Pos</th>\n",
       "      <th></th>\n",
       "      <th></th>\n",
       "      <th></th>\n",
       "      <th></th>\n",
       "      <th></th>\n",
       "      <th></th>\n",
       "      <th></th>\n",
       "      <th></th>\n",
       "      <th></th>\n",
       "      <th></th>\n",
       "      <th></th>\n",
       "      <th></th>\n",
       "      <th></th>\n",
       "    </tr>\n",
       "  </thead>\n",
       "  <tbody>\n",
       "    <tr>\n",
       "      <th>3</th>\n",
       "      <td>17</td>\n",
       "      <td>16</td>\n",
       "      <td>11</td>\n",
       "      <td>2</td>\n",
       "      <td>0</td>\n",
       "      <td>154.54</td>\n",
       "      <td>bowled</td>\n",
       "      <td>2</td>\n",
       "      <td>1</td>\n",
       "      <td>v Hong Kong</td>\n",
       "      <td>Nagpur</td>\n",
       "      <td>10-Mar-16</td>\n",
       "      <td>T20I # 528</td>\n",
       "    </tr>\n",
       "    <tr>\n",
       "      <th>4</th>\n",
       "      <td>1</td>\n",
       "      <td>4</td>\n",
       "      <td>3</td>\n",
       "      <td>0</td>\n",
       "      <td>0</td>\n",
       "      <td>33.33</td>\n",
       "      <td>caught</td>\n",
       "      <td>1</td>\n",
       "      <td>1</td>\n",
       "      <td>v Netherlands</td>\n",
       "      <td>Dubai (DSC)</td>\n",
       "      <td>12-Feb-10</td>\n",
       "      <td>T20I # 141</td>\n",
       "    </tr>\n",
       "    <tr>\n",
       "      <th>5</th>\n",
       "      <td>22</td>\n",
       "      <td>-</td>\n",
       "      <td>13</td>\n",
       "      <td>3</td>\n",
       "      <td>0</td>\n",
       "      <td>169.23</td>\n",
       "      <td>caught</td>\n",
       "      <td>2</td>\n",
       "      <td>1</td>\n",
       "      <td>v Netherlands</td>\n",
       "      <td>Dubai (DSC)</td>\n",
       "      <td>14-Mar-12</td>\n",
       "      <td>T20I # 233</td>\n",
       "    </tr>\n",
       "    <tr>\n",
       "      <th>6</th>\n",
       "      <td>23</td>\n",
       "      <td>15</td>\n",
       "      <td>12</td>\n",
       "      <td>3</td>\n",
       "      <td>0</td>\n",
       "      <td>191.66</td>\n",
       "      <td>caught</td>\n",
       "      <td>2</td>\n",
       "      <td>1</td>\n",
       "      <td>v Canada</td>\n",
       "      <td>Colombo (SSC)</td>\n",
       "      <td>4-Feb-10</td>\n",
       "      <td>T20I # 132</td>\n",
       "    </tr>\n",
       "    <tr>\n",
       "      <th>7</th>\n",
       "      <td>2</td>\n",
       "      <td>6</td>\n",
       "      <td>5</td>\n",
       "      <td>0</td>\n",
       "      <td>0</td>\n",
       "      <td>40</td>\n",
       "      <td>caught</td>\n",
       "      <td>1</td>\n",
       "      <td>0</td>\n",
       "      <td>v Ireland</td>\n",
       "      <td>Colombo (PSS)</td>\n",
       "      <td>1-Feb-10</td>\n",
       "      <td>T20I # 128</td>\n",
       "    </tr>\n",
       "  </tbody>\n",
       "</table>\n",
       "</div>"
      ],
      "text/plain": [
       "    Runs Mins  BF 4s 6s      SR Dismissal  Inns  Alive     Opposition  \\\n",
       "Pos                                                                     \n",
       "3     17   16  11  2  0  154.54    bowled     2      1    v Hong Kong   \n",
       "4      1    4   3  0  0   33.33    caught     1      1  v Netherlands   \n",
       "5     22    -  13  3  0  169.23    caught     2      1  v Netherlands   \n",
       "6     23   15  12  3  0  191.66    caught     2      1       v Canada   \n",
       "7      2    6   5  0  0      40    caught     1      0      v Ireland   \n",
       "\n",
       "            Ground Start Date    Match no  \n",
       "Pos                                        \n",
       "3           Nagpur  10-Mar-16  T20I # 528  \n",
       "4      Dubai (DSC)  12-Feb-10  T20I # 141  \n",
       "5      Dubai (DSC)  14-Mar-12  T20I # 233  \n",
       "6    Colombo (SSC)   4-Feb-10  T20I # 132  \n",
       "7    Colombo (PSS)   1-Feb-10  T20I # 128  "
      ]
     },
     "execution_count": 424,
     "metadata": {},
     "output_type": "execute_result"
    }
   ],
   "source": [
    "mnposition = mn.groupby('Pos')\n",
    "mnposition.first()"
   ]
  },
  {
   "cell_type": "code",
   "execution_count": 425,
   "id": "8c68c87f",
   "metadata": {},
   "outputs": [],
   "source": [
    "mnp3 = mnposition.get_group('4')\n",
    "mnp4 = mnposition.get_group('4')\n",
    "mnp5 = mnposition.get_group('5')\n",
    "mnp6 = mnposition.get_group('6')\n",
    "mnp7 = mnposition.get_group('7')"
   ]
  },
  {
   "cell_type": "code",
   "execution_count": 426,
   "id": "3e17ef0d",
   "metadata": {},
   "outputs": [],
   "source": [
    "# mnp5\n",
    "# mnp6"
   ]
  },
  {
   "cell_type": "code",
   "execution_count": 427,
   "id": "dd623bd9",
   "metadata": {},
   "outputs": [
    {
     "name": "stderr",
     "output_type": "stream",
     "text": [
      "C:\\Users\\levas\\anaconda3\\lib\\site-packages\\lifelines\\utils\\__init__.py:1187: UserWarning: Attempting to convert an unexpected datatype 'object' to float. Suggestion: 1) use `lifelines.utils.datetimes_to_durations` to do conversions or 2) manually convert to floats/booleans.\n",
      "  warnings.warn(warning_text, UserWarning)\n",
      "C:\\Users\\levas\\anaconda3\\lib\\site-packages\\lifelines\\utils\\__init__.py:1187: UserWarning: Attempting to convert an unexpected datatype 'object' to float. Suggestion: 1) use `lifelines.utils.datetimes_to_durations` to do conversions or 2) manually convert to floats/booleans.\n",
      "  warnings.warn(warning_text, UserWarning)\n"
     ]
    },
    {
     "data": {
      "image/png": "[encoded data removed]",
      "text/plain": [
       "<Figure size 432x288 with 1 Axes>"
      ]
     },
     "metadata": {
      "needs_background": "light"
     },
     "output_type": "display_data"
    }
   ],
   "source": [
    "ax = plt.subplot(111)\n",
    "\n",
    "kmf.fit(mnp5['Runs'],event_observed = mnp5['Alive'], label=['Position 5'])\n",
    "kmf.survival_function_.plot(ax=ax)\n",
    "# kmf.survival_function_\n",
    "# kmf.plot_survival_function()\n",
    "\n",
    "kmf.fit(mnp6['Runs'],event_observed = mnp6['Alive'], label=['Position 6'])\n",
    "kmf.survival_function_.plot(ax=ax)\n",
    "# kmf.plot_survival_function()\n",
    "\n",
    "plt.xlabel(\"Runs\")\n",
    "plt.ylabel(\"Probability\")\n",
    "plt.legend(labels =['Position 5','Position 6'])\n",
    "plt.title('Batting Position of Mohammed Nabi')\n",
    "\n",
    "kmf2 = plt.gcf()"
   ]
  },
  {
   "cell_type": "code",
   "execution_count": null,
   "id": "541dc5c3",
   "metadata": {},
   "outputs": [],
   "source": []
  },
  {
   "cell_type": "code",
   "execution_count": null,
   "id": "3040b168",
   "metadata": {},
   "outputs": [],
   "source": []
  },
  {
   "cell_type": "markdown",
   "id": "e654eb98",
   "metadata": {},
   "source": [
    "# Nelson Aalen Estimate "
   ]
  },
  {
   "cell_type": "code",
   "execution_count": 428,
   "id": "c849ef26",
   "metadata": {},
   "outputs": [
    {
     "name": "stderr",
     "output_type": "stream",
     "text": [
      "C:\\Users\\levas\\anaconda3\\lib\\site-packages\\lifelines\\utils\\__init__.py:1187: UserWarning: Attempting to convert an unexpected datatype 'object' to float. Suggestion: 1) use `lifelines.utils.datetimes_to_durations` to do conversions or 2) manually convert to floats/booleans.\n",
      "  warnings.warn(warning_text, UserWarning)\n"
     ]
    },
    {
     "data": {
      "text/plain": [
       "Text(0, 0.5, 'Probability')"
      ]
     },
     "execution_count": 428,
     "metadata": {},
     "output_type": "execute_result"
    },
    {
     "data": {
      "image/png": "[encoded data removed]",
      "text/plain": [
       "<Figure size 432x288 with 1 Axes>"
      ]
     },
     "metadata": {
      "needs_background": "light"
     },
     "output_type": "display_data"
    }
   ],
   "source": [
    "from lifelines import NelsonAalenFitter\n",
    "naf = NelsonAalenFitter(nelson_aalen_smoothing=False)\n",
    "naf.fit(vk['Score'],event_observed = vk['Alive or dead'])\n",
    "naf.cumulative_hazard_\n",
    "\n",
    "\n",
    "plt.title('Hazard function of Virat Kohli')\n",
    "plt.legend(labels =['VK'])\n",
    "\n",
    "naf.plot_cumulative_hazard()\n",
    "\n",
    "plt.xlabel(\"Runs\")\n",
    "plt.ylabel(\"Probability\")"
   ]
  },
  {
   "cell_type": "code",
   "execution_count": 429,
   "id": "cdcc1dbc",
   "metadata": {},
   "outputs": [
    {
     "name": "stderr",
     "output_type": "stream",
     "text": [
      "C:\\Users\\levas\\anaconda3\\lib\\site-packages\\lifelines\\utils\\__init__.py:1187: UserWarning: Attempting to convert an unexpected datatype 'object' to float. Suggestion: 1) use `lifelines.utils.datetimes_to_durations` to do conversions or 2) manually convert to floats/booleans.\n",
      "  warnings.warn(warning_text, UserWarning)\n",
      "C:\\Users\\levas\\anaconda3\\lib\\site-packages\\lifelines\\utils\\__init__.py:1187: UserWarning: Attempting to convert an unexpected datatype 'object' to float. Suggestion: 1) use `lifelines.utils.datetimes_to_durations` to do conversions or 2) manually convert to floats/booleans.\n",
      "  warnings.warn(warning_text, UserWarning)\n",
      "C:\\Users\\levas\\anaconda3\\lib\\site-packages\\lifelines\\utils\\__init__.py:1187: UserWarning: Attempting to convert an unexpected datatype 'object' to float. Suggestion: 1) use `lifelines.utils.datetimes_to_durations` to do conversions or 2) manually convert to floats/booleans.\n",
      "  warnings.warn(warning_text, UserWarning)\n"
     ]
    },
    {
     "data": {
      "text/plain": [
       "Text(0, 0.5, 'Rate')"
      ]
     },
     "execution_count": 429,
     "metadata": {},
     "output_type": "execute_result"
    },
    {
     "data": {
      "image/png": "[encoded data removed]",
      "text/plain": [
       "<Figure size 432x288 with 1 Axes>"
      ]
     },
     "metadata": {
      "needs_background": "light"
     },
     "output_type": "display_data"
    }
   ],
   "source": [
    "naf.fit(ba['Score'],event_observed = ba['Alive or dead'])\n",
    "naf.cumulative_hazard_\n",
    "naf.plot_cumulative_hazard()\n",
    "naf.fit(jb['Score'],event_observed = jb['Alive or dead'])\n",
    "naf.cumulative_hazard_\n",
    "naf.plot_cumulative_hazard()\n",
    "naf.fit(vk['Score'],event_observed = vk['Alive or dead'])\n",
    "naf.cumulative_hazard_\n",
    "naf.plot_cumulative_hazard()\n",
    "plt.title('Hazard function of Babar Azam, Jos Buttler and Virat Kohli')\n",
    "plt.legend(labels =['BA','CI of BA','JB','CI of JB','VK','CI of VK'])\n",
    "plt.xlabel(\"Runs\")\n",
    "plt.ylabel(\"Rate\")"
   ]
  },
  {
   "cell_type": "code",
   "execution_count": 430,
   "id": "f2259c67",
   "metadata": {},
   "outputs": [
    {
     "name": "stderr",
     "output_type": "stream",
     "text": [
      "C:\\Users\\levas\\anaconda3\\lib\\site-packages\\lifelines\\utils\\__init__.py:1187: UserWarning: Attempting to convert an unexpected datatype 'object' to float. Suggestion: 1) use `lifelines.utils.datetimes_to_durations` to do conversions or 2) manually convert to floats/booleans.\n",
      "  warnings.warn(warning_text, UserWarning)\n",
      "C:\\Users\\levas\\anaconda3\\lib\\site-packages\\lifelines\\utils\\__init__.py:1187: UserWarning: Attempting to convert an unexpected datatype 'object' to float. Suggestion: 1) use `lifelines.utils.datetimes_to_durations` to do conversions or 2) manually convert to floats/booleans.\n",
      "  warnings.warn(warning_text, UserWarning)\n"
     ]
    },
    {
     "data": {
      "text/plain": [
       "Text(0, 0.5, 'Rate')"
      ]
     },
     "execution_count": 430,
     "metadata": {},
     "output_type": "execute_result"
    },
    {
     "data": {
      "image/png": "[encoded data removed]",
      "text/plain": [
       "<Figure size 432x288 with 1 Axes>"
      ]
     },
     "metadata": {
      "needs_background": "light"
     },
     "output_type": "display_data"
    }
   ],
   "source": [
    "naf.fit(dc['Score'],event_observed = dc['Alive or dead'])\n",
    "naf.cumulative_hazard_\n",
    "naf.plot_cumulative_hazard()\n",
    "naf.fit(nicp['Score'],event_observed = nicp['Alive or dead'])\n",
    "naf.cumulative_hazard_\n",
    "naf.plot_cumulative_hazard()\n",
    "plt.title('Hazard function of Dinesh Chandimal and Nicholas Pooran')\n",
    "plt.legend(labels =['DC','CI of DC','NP','CI of NP'])\n",
    "plt.xlabel(\"Runs\")\n",
    "plt.ylabel(\"Rate\")"
   ]
  },
  {
   "cell_type": "code",
   "execution_count": 431,
   "id": "e664d712",
   "metadata": {},
   "outputs": [
    {
     "name": "stderr",
     "output_type": "stream",
     "text": [
      "C:\\Users\\levas\\anaconda3\\lib\\site-packages\\lifelines\\utils\\__init__.py:1187: UserWarning: Attempting to convert an unexpected datatype 'object' to float. Suggestion: 1) use `lifelines.utils.datetimes_to_durations` to do conversions or 2) manually convert to floats/booleans.\n",
      "  warnings.warn(warning_text, UserWarning)\n"
     ]
    },
    {
     "data": {
      "text/plain": [
       "Text(0, 0.5, 'Rate')"
      ]
     },
     "execution_count": 431,
     "metadata": {},
     "output_type": "execute_result"
    },
    {
     "data": {
      "image/png": "[encoded data removed]",
      "text/plain": [
       "<Figure size 432x288 with 1 Axes>"
      ]
     },
     "metadata": {
      "needs_background": "light"
     },
     "output_type": "display_data"
    }
   ],
   "source": [
    "naf.fit(kw['Score'],event_observed = kw['Alive or dead'])\n",
    "naf.cumulative_hazard_\n",
    "naf.plot_cumulative_hazard()\n",
    "plt.title('Hazard function of Kane Williamson')\n",
    "plt.legend(labels =['KW'])\n",
    "plt.xlabel(\"Runs\")\n",
    "plt.ylabel(\"Rate\")"
   ]
  },
  {
   "cell_type": "code",
   "execution_count": 432,
   "id": "703f514d",
   "metadata": {},
   "outputs": [
    {
     "name": "stderr",
     "output_type": "stream",
     "text": [
      "C:\\Users\\levas\\anaconda3\\lib\\site-packages\\lifelines\\utils\\__init__.py:1187: UserWarning: Attempting to convert an unexpected datatype 'object' to float. Suggestion: 1) use `lifelines.utils.datetimes_to_durations` to do conversions or 2) manually convert to floats/booleans.\n",
      "  warnings.warn(warning_text, UserWarning)\n"
     ]
    },
    {
     "data": {
      "text/plain": [
       "Text(0, 0.5, 'Rate')"
      ]
     },
     "execution_count": 432,
     "metadata": {},
     "output_type": "execute_result"
    },
    {
     "data": {
      "image/png": "[encoded data removed]",
      "text/plain": [
       "<Figure size 432x288 with 1 Axes>"
      ]
     },
     "metadata": {
      "needs_background": "light"
     },
     "output_type": "display_data"
    }
   ],
   "source": [
    "naf.fit(nicp['Score'],event_observed = nicp['Alive or dead'])\n",
    "naf.cumulative_hazard_\n",
    "naf.plot_cumulative_hazard()\n",
    "plt.title('Hazard function of Nicolas Pooran')\n",
    "plt.legend(labels =['NP'])\n",
    "plt.xlabel(\"Runs\")\n",
    "plt.ylabel(\"Rate\")"
   ]
  },
  {
   "cell_type": "code",
   "execution_count": 433,
   "id": "3d66bb57",
   "metadata": {},
   "outputs": [
    {
     "name": "stderr",
     "output_type": "stream",
     "text": [
      "C:\\Users\\levas\\anaconda3\\lib\\site-packages\\lifelines\\utils\\__init__.py:1187: UserWarning: Attempting to convert an unexpected datatype 'object' to float. Suggestion: 1) use `lifelines.utils.datetimes_to_durations` to do conversions or 2) manually convert to floats/booleans.\n",
      "  warnings.warn(warning_text, UserWarning)\n"
     ]
    },
    {
     "data": {
      "text/plain": [
       "Text(0, 0.5, 'Rate')"
      ]
     },
     "execution_count": 433,
     "metadata": {},
     "output_type": "execute_result"
    },
    {
     "data": {
      "image/png": "[encoded data removed]",
      "text/plain": [
       "<Figure size 432x288 with 1 Axes>"
      ]
     },
     "metadata": {
      "needs_background": "light"
     },
     "output_type": "display_data"
    }
   ],
   "source": [
    "naf.fit(qdk['Score'],event_observed = qdk['Alive or dead'])\n",
    "naf.cumulative_hazard_\n",
    "naf.plot_cumulative_hazard()\n",
    "plt.title('Hazard function of Quinton de Kock')\n",
    "plt.legend(labels =['QDK'])\n",
    "plt.xlabel(\"Runs\")\n",
    "plt.ylabel(\"Rate\")"
   ]
  },
  {
   "cell_type": "code",
   "execution_count": 434,
   "id": "d3b17450",
   "metadata": {},
   "outputs": [
    {
     "name": "stderr",
     "output_type": "stream",
     "text": [
      "C:\\Users\\levas\\anaconda3\\lib\\site-packages\\lifelines\\utils\\__init__.py:1187: UserWarning: Attempting to convert an unexpected datatype 'object' to float. Suggestion: 1) use `lifelines.utils.datetimes_to_durations` to do conversions or 2) manually convert to floats/booleans.\n",
      "  warnings.warn(warning_text, UserWarning)\n"
     ]
    },
    {
     "data": {
      "text/plain": [
       "Text(0, 0.5, 'Rate')"
      ]
     },
     "execution_count": 434,
     "metadata": {},
     "output_type": "execute_result"
    },
    {
     "data": {
      "image/png": "[encoded data removed]",
      "text/plain": [
       "<Figure size 432x288 with 1 Axes>"
      ]
     },
     "metadata": {
      "needs_background": "light"
     },
     "output_type": "display_data"
    }
   ],
   "source": [
    "naf.fit(jb['Score'],event_observed = jb['Alive or dead'])\n",
    "naf.cumulative_hazard_\n",
    "naf.plot_cumulative_hazard()\n",
    "plt.title('Hazard function of Jos Buttler')\n",
    "plt.legend(labels =['JB'])\n",
    "plt.xlabel(\"Runs\")\n",
    "plt.ylabel(\"Rate\")"
   ]
  },
  {
   "cell_type": "code",
   "execution_count": 435,
   "id": "654b772b",
   "metadata": {
    "scrolled": true
   },
   "outputs": [
    {
     "name": "stderr",
     "output_type": "stream",
     "text": [
      "C:\\Users\\levas\\anaconda3\\lib\\site-packages\\lifelines\\utils\\__init__.py:1187: UserWarning: Attempting to convert an unexpected datatype 'object' to float. Suggestion: 1) use `lifelines.utils.datetimes_to_durations` to do conversions or 2) manually convert to floats/booleans.\n",
      "  warnings.warn(warning_text, UserWarning)\n"
     ]
    },
    {
     "data": {
      "text/plain": [
       "Text(0, 0.5, 'Rate')"
      ]
     },
     "execution_count": 435,
     "metadata": {},
     "output_type": "execute_result"
    },
    {
     "data": {
      "image/png": "[encoded data removed]",
      "text/plain": [
       "<Figure size 432x288 with 1 Axes>"
      ]
     },
     "metadata": {
      "needs_background": "light"
     },
     "output_type": "display_data"
    }
   ],
   "source": [
    "naf.fit(sah['Score'],event_observed = sah['Alive or dead'])\n",
    "naf.cumulative_hazard_\n",
    "naf.plot_cumulative_hazard()\n",
    "plt.title('Hazard function of Shakib Al Hasan')\n",
    "plt.legend(labels =['SAH'])\n",
    "plt.xlabel(\"Runs\")\n",
    "plt.ylabel(\"Rate\")"
   ]
  },
  {
   "cell_type": "code",
   "execution_count": 436,
   "id": "8742a4bc",
   "metadata": {},
   "outputs": [
    {
     "name": "stderr",
     "output_type": "stream",
     "text": [
      "C:\\Users\\levas\\anaconda3\\lib\\site-packages\\lifelines\\utils\\__init__.py:1187: UserWarning: Attempting to convert an unexpected datatype 'object' to float. Suggestion: 1) use `lifelines.utils.datetimes_to_durations` to do conversions or 2) manually convert to floats/booleans.\n",
      "  warnings.warn(warning_text, UserWarning)\n"
     ]
    },
    {
     "data": {
      "text/plain": [
       "Text(0, 0.5, 'Rate')"
      ]
     },
     "execution_count": 436,
     "metadata": {},
     "output_type": "execute_result"
    },
    {
     "data": {
      "image/png": "[encoded data removed]",
      "text/plain": [
       "<Figure size 432x288 with 1 Axes>"
      ]
     },
     "metadata": {
      "needs_background": "light"
     },
     "output_type": "display_data"
    }
   ],
   "source": [
    "naf.fit(af['R'],event_observed = af['Alive'])\n",
    "naf.cumulative_hazard_\n",
    "naf.plot_cumulative_hazard()\n",
    "plt.title('Hazard function of Aaron Finch')\n",
    "plt.legend(labels =['AF'])\n",
    "plt.xlabel(\"Runs\")\n",
    "plt.ylabel(\"Rate\")"
   ]
  },
  {
   "cell_type": "code",
   "execution_count": 437,
   "id": "c5270412",
   "metadata": {},
   "outputs": [
    {
     "name": "stderr",
     "output_type": "stream",
     "text": [
      "C:\\Users\\levas\\anaconda3\\lib\\site-packages\\lifelines\\utils\\__init__.py:1187: UserWarning: Attempting to convert an unexpected datatype 'object' to float. Suggestion: 1) use `lifelines.utils.datetimes_to_durations` to do conversions or 2) manually convert to floats/booleans.\n",
      "  warnings.warn(warning_text, UserWarning)\n"
     ]
    },
    {
     "data": {
      "text/plain": [
       "Text(0, 0.5, 'Rate')"
      ]
     },
     "execution_count": 437,
     "metadata": {},
     "output_type": "execute_result"
    },
    {
     "data": {
      "image/png": "[encoded data removed]",
      "text/plain": [
       "<Figure size 432x288 with 1 Axes>"
      ]
     },
     "metadata": {
      "needs_background": "light"
     },
     "output_type": "display_data"
    }
   ],
   "source": [
    "naf.fit(mn['Runs'],event_observed = mn['Alive'])\n",
    "naf.cumulative_hazard_\n",
    "naf.plot_cumulative_hazard()\n",
    "plt.title('Hazard function of Mohammed Nabi')\n",
    "plt.legend(labels =['MN'])\n",
    "plt.xlabel(\"Runs\")\n",
    "plt.ylabel(\"Rate\")"
   ]
  },
  {
   "cell_type": "code",
   "execution_count": null,
   "id": "c664fe75",
   "metadata": {},
   "outputs": [],
   "source": []
  },
  {
   "cell_type": "markdown",
   "id": "3152b52f",
   "metadata": {},
   "source": [
    "# Parametric \n"
   ]
  },
  {
   "cell_type": "code",
   "execution_count": 438,
   "id": "3d5a4b92",
   "metadata": {},
   "outputs": [],
   "source": [
    "from lifelines.statistics import logrank_test"
   ]
  },
  {
   "cell_type": "code",
   "execution_count": 439,
   "id": "af3ef071",
   "metadata": {},
   "outputs": [],
   "source": [
    "T = sah1 ['Score'].astype(float)\n",
    "E = sah1 ['Alive or dead'].astype(float)\n",
    "T1 = sah2['Score'].astype(float)\n",
    "E1 = sah2['Alive or dead'].astype(float)"
   ]
  },
  {
   "cell_type": "code",
   "execution_count": 440,
   "id": "bd3d1788",
   "metadata": {},
   "outputs": [
    {
     "name": "stderr",
     "output_type": "stream",
     "text": [
      "C:\\Users\\levas\\anaconda3\\lib\\site-packages\\lifelines\\statistics.py:143: FutureWarning: In future versions `DataFrame.to_latex` is expected to utilise the base implementation of `Styler.to_latex` for formatting and rendering. The arguments signature may therefore change. It is recommended instead to use `DataFrame.style.to_latex` which also contains additional functionality.\n",
      "  return self.summary.to_latex()\n"
     ]
    },
    {
     "data": {
      "text/html": [
       "<div>\n",
       "<style scoped>\n",
       "    .dataframe tbody tr th:only-of-type {\n",
       "        vertical-align: middle;\n",
       "    }\n",
       "\n",
       "    .dataframe tbody tr th {\n",
       "        vertical-align: top;\n",
       "    }\n",
       "\n",
       "    .dataframe thead th {\n",
       "        text-align: right;\n",
       "    }\n",
       "</style>\n",
       "<table border=\"1\" class=\"dataframe\">\n",
       "  <tbody>\n",
       "    <tr>\n",
       "      <th>t_0</th>\n",
       "      <td>-1</td>\n",
       "    </tr>\n",
       "    <tr>\n",
       "      <th>null_distribution</th>\n",
       "      <td>chi squared</td>\n",
       "    </tr>\n",
       "    <tr>\n",
       "      <th>degrees_of_freedom</th>\n",
       "      <td>1</td>\n",
       "    </tr>\n",
       "    <tr>\n",
       "      <th>event_observed_b</th>\n",
       "      <td>1     0.0\n",
       "4     0.0\n",
       "6     0.0\n",
       "7     0.0\n",
       "8     ...</td>\n",
       "    </tr>\n",
       "    <tr>\n",
       "      <th>test_name</th>\n",
       "      <td>logrank_test</td>\n",
       "    </tr>\n",
       "  </tbody>\n",
       "</table>\n",
       "</div><table border=\"1\" class=\"dataframe\">\n",
       "  <thead>\n",
       "    <tr style=\"text-align: right;\">\n",
       "      <th></th>\n",
       "      <th>test_statistic</th>\n",
       "      <th>p</th>\n",
       "      <th>-log2(p)</th>\n",
       "    </tr>\n",
       "  </thead>\n",
       "  <tbody>\n",
       "    <tr>\n",
       "      <th>0</th>\n",
       "      <td>44.38</td>\n",
       "      <td>&lt;0.005</td>\n",
       "      <td>35.11</td>\n",
       "    </tr>\n",
       "  </tbody>\n",
       "</table>"
      ],
      "text/latex": [
       "\\begin{tabular}{lrrr}\n",
       "\\toprule\n",
       "{} &  test\\_statistic &             p &   -log2(p) \\\\\n",
       "\\midrule\n",
       "0 &       44.380027 &  2.704321e-11 &  35.105943 \\\\\n",
       "\\bottomrule\n",
       "\\end{tabular}\n"
      ],
      "text/plain": [
       "<lifelines.StatisticalResult: logrank_test>\n",
       "               t_0 = -1\n",
       " null_distribution = chi squared\n",
       "degrees_of_freedom = 1\n",
       "  event_observed_b = 1     0.0\n",
       "4     0.0\n",
       "6     0.0\n",
       "7     0.0\n",
       "8     0.0\n",
       "12    0.0\n",
       "13    0.0\n",
       "14    0.0\n",
       "15    0.0\n",
       "18    0.0\n",
       "19    0.0\n",
       "20    0.0\n",
       "22    0.0\n",
       "24    0.0\n",
       "26    0.0\n",
       "28    1.0\n",
       "29    1.0\n",
       "31    0.0\n",
       "33    0.0\n",
       "35    1.0\n",
       "36    0.0\n",
       "37    0.0\n",
       "38    1.0\n",
       "40    0.0\n",
       "41    0.0\n",
       "42    0.0\n",
       "45    0.0\n",
       "50    1.0\n",
       "52    0.0\n",
       "53    0.0\n",
       "55    0.0\n",
       "56    0.0\n",
       "59    0.0\n",
       "60    0.0\n",
       "61    0.0\n",
       "63    0.0\n",
       "65    0.0\n",
       "71    0.0\n",
       "72    0.0\n",
       "73    0.0\n",
       "75    1.0\n",
       "77    0.0\n",
       "78    0.0\n",
       "80    0.0\n",
       "84    0.0\n",
       "86    0.0\n",
       "87    0.0\n",
       "88    0.0\n",
       "93    0.0\n",
       "97    1.0\n",
       "Name: Alive or dead, dtype: float64\n",
       "         test_name = logrank_test\n",
       "\n",
       "---\n",
       " test_statistic      p  -log2(p)\n",
       "          44.38 <0.005     35.11"
      ]
     },
     "metadata": {},
     "output_type": "display_data"
    }
   ],
   "source": [
    "results = logrank_test(T,T1,event_observed_A=E, event_observed_b=E1)\n",
    "results.print_summary()"
   ]
  },
  {
   "cell_type": "code",
   "execution_count": 441,
   "id": "b3c67ba8",
   "metadata": {},
   "outputs": [],
   "source": [
    "T = vkp3 ['Score'].astype(float)\n",
    "E = vkp3 ['Alive or dead'].astype(float)\n",
    "T1 = vkp4['Score'].astype(float)\n",
    "E1 = vkp4['Alive or dead'].astype(float)"
   ]
  },
  {
   "cell_type": "code",
   "execution_count": 442,
   "id": "d01b9b5d",
   "metadata": {},
   "outputs": [
    {
     "name": "stderr",
     "output_type": "stream",
     "text": [
      "C:\\Users\\levas\\anaconda3\\lib\\site-packages\\lifelines\\statistics.py:143: FutureWarning: In future versions `DataFrame.to_latex` is expected to utilise the base implementation of `Styler.to_latex` for formatting and rendering. The arguments signature may therefore change. It is recommended instead to use `DataFrame.style.to_latex` which also contains additional functionality.\n",
      "  return self.summary.to_latex()\n"
     ]
    },
    {
     "data": {
      "text/html": [
       "<div>\n",
       "<style scoped>\n",
       "    .dataframe tbody tr th:only-of-type {\n",
       "        vertical-align: middle;\n",
       "    }\n",
       "\n",
       "    .dataframe tbody tr th {\n",
       "        vertical-align: top;\n",
       "    }\n",
       "\n",
       "    .dataframe thead th {\n",
       "        text-align: right;\n",
       "    }\n",
       "</style>\n",
       "<table border=\"1\" class=\"dataframe\">\n",
       "  <tbody>\n",
       "    <tr>\n",
       "      <th>t_0</th>\n",
       "      <td>-1</td>\n",
       "    </tr>\n",
       "    <tr>\n",
       "      <th>null_distribution</th>\n",
       "      <td>chi squared</td>\n",
       "    </tr>\n",
       "    <tr>\n",
       "      <th>degrees_of_freedom</th>\n",
       "      <td>1</td>\n",
       "    </tr>\n",
       "    <tr>\n",
       "      <th>event_observed_b</th>\n",
       "      <td>4     0.0\n",
       "20    0.0\n",
       "52    1.0\n",
       "53    0.0\n",
       "55    ...</td>\n",
       "    </tr>\n",
       "    <tr>\n",
       "      <th>test_name</th>\n",
       "      <td>logrank_test</td>\n",
       "    </tr>\n",
       "  </tbody>\n",
       "</table>\n",
       "</div><table border=\"1\" class=\"dataframe\">\n",
       "  <thead>\n",
       "    <tr style=\"text-align: right;\">\n",
       "      <th></th>\n",
       "      <th>test_statistic</th>\n",
       "      <th>p</th>\n",
       "      <th>-log2(p)</th>\n",
       "    </tr>\n",
       "  </thead>\n",
       "  <tbody>\n",
       "    <tr>\n",
       "      <th>0</th>\n",
       "      <td>37.16</td>\n",
       "      <td>&lt;0.005</td>\n",
       "      <td>29.77</td>\n",
       "    </tr>\n",
       "  </tbody>\n",
       "</table>"
      ],
      "text/latex": [
       "\\begin{tabular}{lrrr}\n",
       "\\toprule\n",
       "{} &  test\\_statistic &             p &   -log2(p) \\\\\n",
       "\\midrule\n",
       "0 &       37.156726 &  1.090061e-09 &  29.772943 \\\\\n",
       "\\bottomrule\n",
       "\\end{tabular}\n"
      ],
      "text/plain": [
       "<lifelines.StatisticalResult: logrank_test>\n",
       "               t_0 = -1\n",
       " null_distribution = chi squared\n",
       "degrees_of_freedom = 1\n",
       "  event_observed_b = 4     0.0\n",
       "20    0.0\n",
       "52    1.0\n",
       "53    0.0\n",
       "55    0.0\n",
       "56    0.0\n",
       "59    1.0\n",
       "60    0.0\n",
       "61    0.0\n",
       "62    0.0\n",
       "73    0.0\n",
       "74    1.0\n",
       "76    1.0\n",
       "80    0.0\n",
       "87    1.0\n",
       "88    0.0\n",
       "91    0.0\n",
       "Name: Alive or dead, dtype: float64\n",
       "         test_name = logrank_test\n",
       "\n",
       "---\n",
       " test_statistic      p  -log2(p)\n",
       "          37.16 <0.005     29.77"
      ]
     },
     "metadata": {},
     "output_type": "display_data"
    }
   ],
   "source": [
    "results = logrank_test(T,T1,event_observed_A=E, event_observed_b=E1)\n",
    "results.print_summary()"
   ]
  },
  {
   "cell_type": "code",
   "execution_count": 443,
   "id": "5f57b676",
   "metadata": {},
   "outputs": [],
   "source": [
    "T = mnp5 ['Runs'].astype(float)\n",
    "E = mnp5['Alive'].astype(float)\n",
    "T1 = mnp6['Runs'].astype(float)\n",
    "E1 = mnp6['Alive'].astype(float)"
   ]
  },
  {
   "cell_type": "code",
   "execution_count": 444,
   "id": "d101cb0c",
   "metadata": {},
   "outputs": [
    {
     "name": "stderr",
     "output_type": "stream",
     "text": [
      "C:\\Users\\levas\\anaconda3\\lib\\site-packages\\lifelines\\statistics.py:143: FutureWarning: In future versions `DataFrame.to_latex` is expected to utilise the base implementation of `Styler.to_latex` for formatting and rendering. The arguments signature may therefore change. It is recommended instead to use `DataFrame.style.to_latex` which also contains additional functionality.\n",
      "  return self.summary.to_latex()\n"
     ]
    },
    {
     "data": {
      "text/html": [
       "<div>\n",
       "<style scoped>\n",
       "    .dataframe tbody tr th:only-of-type {\n",
       "        vertical-align: middle;\n",
       "    }\n",
       "\n",
       "    .dataframe tbody tr th {\n",
       "        vertical-align: top;\n",
       "    }\n",
       "\n",
       "    .dataframe thead th {\n",
       "        text-align: right;\n",
       "    }\n",
       "</style>\n",
       "<table border=\"1\" class=\"dataframe\">\n",
       "  <tbody>\n",
       "    <tr>\n",
       "      <th>t_0</th>\n",
       "      <td>-1</td>\n",
       "    </tr>\n",
       "    <tr>\n",
       "      <th>null_distribution</th>\n",
       "      <td>chi squared</td>\n",
       "    </tr>\n",
       "    <tr>\n",
       "      <th>degrees_of_freedom</th>\n",
       "      <td>1</td>\n",
       "    </tr>\n",
       "    <tr>\n",
       "      <th>event_observed_b</th>\n",
       "      <td>1     1.0\n",
       "2     1.0\n",
       "3     1.0\n",
       "6     1.0\n",
       "9     ...</td>\n",
       "    </tr>\n",
       "    <tr>\n",
       "      <th>test_name</th>\n",
       "      <td>logrank_test</td>\n",
       "    </tr>\n",
       "  </tbody>\n",
       "</table>\n",
       "</div><table border=\"1\" class=\"dataframe\">\n",
       "  <thead>\n",
       "    <tr style=\"text-align: right;\">\n",
       "      <th></th>\n",
       "      <th>test_statistic</th>\n",
       "      <th>p</th>\n",
       "      <th>-log2(p)</th>\n",
       "    </tr>\n",
       "  </thead>\n",
       "  <tbody>\n",
       "    <tr>\n",
       "      <th>0</th>\n",
       "      <td>0.35</td>\n",
       "      <td>0.55</td>\n",
       "      <td>0.85</td>\n",
       "    </tr>\n",
       "  </tbody>\n",
       "</table>"
      ],
      "text/latex": [
       "\\begin{tabular}{lrrr}\n",
       "\\toprule\n",
       "{} &  test\\_statistic &         p &  -log2(p) \\\\\n",
       "\\midrule\n",
       "0 &        0.349613 &  0.554332 &  0.851177 \\\\\n",
       "\\bottomrule\n",
       "\\end{tabular}\n"
      ],
      "text/plain": [
       "<lifelines.StatisticalResult: logrank_test>\n",
       "               t_0 = -1\n",
       " null_distribution = chi squared\n",
       "degrees_of_freedom = 1\n",
       "  event_observed_b = 1     1.0\n",
       "2     1.0\n",
       "3     1.0\n",
       "6     1.0\n",
       "9     1.0\n",
       "12    1.0\n",
       "13    1.0\n",
       "16    1.0\n",
       "17    1.0\n",
       "24    1.0\n",
       "27    1.0\n",
       "28    1.0\n",
       "34    1.0\n",
       "37    1.0\n",
       "40    1.0\n",
       "43    1.0\n",
       "46    1.0\n",
       "55    1.0\n",
       "64    1.0\n",
       "68    1.0\n",
       "69    1.0\n",
       "72    1.0\n",
       "83    1.0\n",
       "84    1.0\n",
       "85    1.0\n",
       "86    1.0\n",
       "88    1.0\n",
       "90    1.0\n",
       "Name: Alive, dtype: float64\n",
       "         test_name = logrank_test\n",
       "\n",
       "---\n",
       " test_statistic    p  -log2(p)\n",
       "           0.35 0.55      0.85"
      ]
     },
     "metadata": {},
     "output_type": "display_data"
    }
   ],
   "source": [
    "results = logrank_test(T,T1,event_observed_A=E, event_observed_b=E1)\n",
    "results.print_summary()"
   ]
  },
  {
   "cell_type": "code",
   "execution_count": null,
   "id": "65c67548",
   "metadata": {},
   "outputs": [],
   "source": []
  }
 ],
 "metadata": {
  "kernelspec": {
   "display_name": "Python 3 (ipykernel)",
   "language": "python",
   "name": "python3"
  },
  "language_info": {
   "codemirror_mode": {
    "name": "ipython",
    "version": 3
   },
   "file_extension": ".py",
   "mimetype": "text/x-python",
   "name": "python",
   "nbconvert_exporter": "python",
   "pygments_lexer": "ipython3",
   "version": "3.9.12"
  }
 },
 "nbformat": 4,
 "nbformat_minor": 5
}
